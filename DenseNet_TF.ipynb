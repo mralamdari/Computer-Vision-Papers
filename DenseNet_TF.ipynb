{
  "nbformat": 4,
  "nbformat_minor": 0,
  "metadata": {
    "colab": {
      "provenance": [],
      "mount_file_id": "1OY7po52RotiSVRpPgs3V51RrWHU36tYE",
      "authorship_tag": "ABX9TyO/+i31Li1Ba1zXzvMJfEvZ",
      "include_colab_link": true
    },
    "kernelspec": {
      "name": "python3",
      "display_name": "Python 3"
    },
    "language_info": {
      "name": "python"
    }
  },
  "cells": [
    {
      "cell_type": "markdown",
      "metadata": {
        "id": "view-in-github",
        "colab_type": "text"
      },
      "source": [
        "<a href=\"https://colab.research.google.com/github/mralamdari/Computer-Vision-Papers/blob/main/DenseNet_TF.ipynb\" target=\"_parent\"><img src=\"https://colab.research.google.com/assets/colab-badge.svg\" alt=\"Open In Colab\"/></a>"
      ]
    },
    {
      "cell_type": "code",
      "execution_count": 1,
      "metadata": {
        "id": "B51aqHT4gdyQ"
      },
      "outputs": [],
      "source": [
        "import os\n",
        "import pickle\n",
        "import numpy as np\n",
        "import pandas as pd\n",
        "import tensorflow as tf\n",
        "import matplotlib.pyplot as plt"
      ]
    },
    {
      "cell_type": "markdown",
      "source": [
        "#Data \n",
        "[Source](https://www.kaggle.com/datasets/csafrit2/plant-leaves-for-image-classification)"
      ],
      "metadata": {
        "id": "SOsZWam1DVL7"
      }
    },
    {
      "cell_type": "code",
      "source": [
        "os.environ['KAGGLE_CONFIG_DIR'] = '/content/drive/MyDrive'\n",
        "!kaggle datasets download -d csafrit2/plant-leaves-for-image-classification\n",
        "!unzip \\*.zip && rm .zip"
      ],
      "metadata": {
        "id": "45JYTiwTiI11"
      },
      "execution_count": null,
      "outputs": []
    },
    {
      "cell_type": "code",
      "source": [
        "train_ds = tf.keras.preprocessing.image_dataset_from_directory(\n",
        "    directory = '/content/Plants_2/train/',\n",
        "    labels = 'inferred',\n",
        "    label_mode = 'int', # categorical, binary\n",
        "    class_names = None,\n",
        "    color_mode = 'rgb', #grayscale\n",
        "    batch_size = 32,\n",
        "    image_size = (128, 128), #Reshape if not in this size\n",
        "    shuffle=True,\n",
        "    seed=32,\n",
        "    validation_split=None,\n",
        "    subset=None)\n",
        "\n",
        "valid_ds = tf.keras.preprocessing.image_dataset_from_directory(\n",
        "    directory = '/content/Plants_2/valid/',\n",
        "    labels = 'inferred',\n",
        "    label_mode = 'int', # categorical, binary\n",
        "    class_names = None,\n",
        "    color_mode = 'rgb', #grayscale\n",
        "    batch_size = 32,\n",
        "    image_size = (128, 128), #Reshape if not in this size\n",
        "    shuffle=True,\n",
        "    seed=32,\n",
        "    validation_split=None,\n",
        "    subset=None)\n",
        "\n",
        "\n",
        "test_ds = tf.keras.preprocessing.image_dataset_from_directory(\n",
        "    directory = '/content/Plants_2/test/',\n",
        "    labels = 'inferred',\n",
        "    label_mode = 'int', # categorical, binary\n",
        "    class_names = None,\n",
        "    color_mode = 'rgb', #grayscale\n",
        "    batch_size = 32,\n",
        "    image_size = (128, 128), #Reshape if not in this size\n",
        "    shuffle=True,\n",
        "    seed=32,\n",
        "    validation_split=None,\n",
        "    subset=None)"
      ],
      "metadata": {
        "id": "IsIw66yZh0j4",
        "colab": {
          "base_uri": "https://localhost:8080/"
        },
        "outputId": "0f03fb82-4e8d-4207-e95d-ffbe65670e9f"
      },
      "execution_count": 2,
      "outputs": [
        {
          "output_type": "stream",
          "name": "stdout",
          "text": [
            "Found 4274 files belonging to 22 classes.\n",
            "Found 110 files belonging to 22 classes.\n",
            "Found 110 files belonging to 22 classes.\n"
          ]
        }
      ]
    },
    {
      "cell_type": "code",
      "source": [
        "train_datagen = tf.keras.preprocessing.image.ImageDataGenerator(\n",
        "    rescale=1/255,\n",
        "    rotation_range=5,\n",
        "    zoom_range = (0.95, 0.95),\n",
        "    horizontal_flip=False,\n",
        "    vertical_flip=False,\n",
        "    data_format='channels_last', #channels_last\n",
        "    validation_split=0.0,\n",
        "    dtype=tf.float32\n",
        ")\n",
        "\n",
        "train_gen = train_datagen.flow_from_directory('/content/Plants_2/train/',\n",
        "                                        target_size=(128, 128),\n",
        "                                        batch_size=32,\n",
        "                                        color_mode='rgb',\n",
        "                                        class_mode='categorical', #binary, sparse\n",
        "                                        shuffle=True,\n",
        "                                        subset=None)\n",
        "\n",
        "\n",
        "test_datagen = tf.keras.preprocessing.image.ImageDataGenerator(rescale=1/255)\n",
        "\n",
        "validation_gen = test_datagen.flow_from_directory('/content/Plants_2/test/',\n",
        "                                        target_size=(128, 128),\n",
        "                                        batch_size=32,\n",
        "                                        color_mode='rgb',\n",
        "                                        class_mode='categorical', #binary, sparse\n",
        "                                        shuffle=True,\n",
        "                                        subset=None)"
      ],
      "metadata": {
        "colab": {
          "base_uri": "https://localhost:8080/"
        },
        "id": "sCSWCq2EsiN-",
        "outputId": "3777fa63-687f-4765-a10e-250df969be8b"
      },
      "execution_count": 3,
      "outputs": [
        {
          "output_type": "stream",
          "name": "stdout",
          "text": [
            "Found 4274 images belonging to 22 classes.\n",
            "Found 110 images belonging to 22 classes.\n"
          ]
        }
      ]
    },
    {
      "cell_type": "code",
      "source": [
        "keras.utils.plot_model(model, \"my_first_model_with_shape_info.png\", show_shapes=True)\n"
      ],
      "metadata": {
        "id": "AsgBWFASVusE"
      },
      "execution_count": 4,
      "outputs": []
    },
    {
      "cell_type": "code",
      "source": [
        "train_ds.class_names"
      ],
      "metadata": {
        "colab": {
          "base_uri": "https://localhost:8080/"
        },
        "id": "n1NZ_eP28G9X",
        "outputId": "fc2f19ab-1e53-46e1-8191-ab9356962bf7"
      },
      "execution_count": 4,
      "outputs": [
        {
          "output_type": "execute_result",
          "data": {
            "text/plain": [
              "['Alstonia Scholaris diseased (P2a)',\n",
              " 'Alstonia Scholaris healthy (P2b)',\n",
              " 'Arjun diseased (P1a)',\n",
              " 'Arjun healthy (P1b)',\n",
              " 'Bael diseased (P4b)',\n",
              " 'Basil healthy (P8)',\n",
              " 'Chinar diseased (P11b)',\n",
              " 'Chinar healthy (P11a)',\n",
              " 'Gauva diseased (P3b)',\n",
              " 'Gauva healthy (P3a)',\n",
              " 'Jamun diseased (P5b)',\n",
              " 'Jamun healthy (P5a)',\n",
              " 'Jatropha diseased (P6b)',\n",
              " 'Jatropha healthy (P6a)',\n",
              " 'Lemon diseased (P10b)',\n",
              " 'Lemon healthy (P10a)',\n",
              " 'Mango diseased (P0b)',\n",
              " 'Mango healthy (P0a)',\n",
              " 'Pomegranate diseased (P9b)',\n",
              " 'Pomegranate healthy (P9a)',\n",
              " 'Pongamia Pinnata diseased (P7b)',\n",
              " 'Pongamia Pinnata healthy (P7a)']"
            ]
          },
          "metadata": {},
          "execution_count": 4
        }
      ]
    },
    {
      "cell_type": "code",
      "source": [
        "class DenseNet(tf.keras.Model):\n",
        "  def __init__(self, growth_rate):\n",
        "    self.growth_rate = growth_rate\n",
        "\n",
        "  "
      ],
      "metadata": {
        "id": "RwFd1uCyV0Po"
      },
      "execution_count": 10,
      "outputs": []
    },
    {
      "cell_type": "code",
      "source": [],
      "metadata": {
        "colab": {
          "base_uri": "https://localhost:8080/"
        },
        "id": "zsxrVPu4qihC",
        "outputId": "a4d34969-e7a7-4b25-caa6-71a582415d85"
      },
      "execution_count": 10,
      "outputs": [
        {
          "output_type": "execute_result",
          "data": {
            "text/plain": [
              "70"
            ]
          },
          "metadata": {},
          "execution_count": 10
        }
      ]
    },
    {
      "cell_type": "code",
      "source": [],
      "metadata": {
        "id": "TBg5gw4xrfnf"
      },
      "execution_count": null,
      "outputs": []
    }
  ]
}