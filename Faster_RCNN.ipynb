{
  "cells": [
    {
      "cell_type": "markdown",
      "metadata": {
        "id": "view-in-github",
        "colab_type": "text"
      },
      "source": [
        "<a href=\"https://colab.research.google.com/github/mralamdari/Computer-Vision-Papers/blob/main/Faster_RCNN.ipynb\" target=\"_parent\"><img src=\"https://colab.research.google.com/assets/colab-badge.svg\" alt=\"Open In Colab\"/></a>"
      ]
    },
    {
      "cell_type": "code",
      "execution_count": 1,
      "metadata": {
        "colab": {
          "base_uri": "https://localhost:8080/",
          "height": 35
        },
        "id": "NZ2XqKRSf4Ca",
        "outputId": "b0dd9318-914f-4a46-c21d-5023d6269556"
      },
      "outputs": [
        {
          "output_type": "execute_result",
          "data": {
            "text/plain": [
              "'2.12.0'"
            ],
            "application/vnd.google.colaboratory.intrinsic+json": {
              "type": "string"
            }
          },
          "metadata": {},
          "execution_count": 1
        }
      ],
      "source": [
        "import os\n",
        "import cv2\n",
        "import glob\n",
        "import tqdm\n",
        "import torch\n",
        "import matplotlib\n",
        "import torchvision\n",
        "import numpy as np\n",
        "import pandas as pd\n",
        "from PIL import Image\n",
        "import tensorflow as tf\n",
        "import matplotlib.pyplot as plt\n",
        "import xml.etree.ElementTree as ET\n",
        "from sklearn import model_selection\n",
        "\n",
        "%load_ext autoreload\n",
        "%autoreload 2\n",
        "\n",
        "tf.__version__"
      ]
    },
    {
      "cell_type": "markdown",
      "metadata": {
        "id": "FF2pFCXWgHC4"
      },
      "source": [
        "##Data"
      ]
    },
    {
      "cell_type": "code",
      "execution_count": null,
      "metadata": {
        "id": "sOqkUHTgf540"
      },
      "outputs": [],
      "source": [
        "os.environ['KAGGLE_CONFIG_DIR'] = '/content/drive/MyDrive'\n",
        "!kaggle datasets download -d andrewmvd/car-plate-detection\n",
        "!unzip \\*.zip && rm *.zip"
      ]
    },
    {
      "cell_type": "code",
      "execution_count": 3,
      "metadata": {
        "id": "NxSpKUU8f52c"
      },
      "outputs": [],
      "source": [
        "IMAGE_PATH = '/content/data/images/'\n",
        "ANNOTATION_PATH =  '/content/data/annotations/'\n",
        "\n",
        "os.makedirs('/content/data/', exist_ok=True)\n",
        "os.replace('/content/images', '/content/data/images')\n",
        "os.replace('/content/annotations', '/content/data/annotations')"
      ]
    },
    {
      "cell_type": "code",
      "execution_count": 4,
      "metadata": {
        "id": "YO9lXPAuf7XO"
      },
      "outputs": [],
      "source": [
        "def xml_to_XY(path, img_path):\n",
        "  Y = []\n",
        "  X = []\n",
        "  for xml_file in glob.glob(path+'*.xml'):\n",
        "    tree = ET.parse(xml_file)\n",
        "    root = tree.getroot()\n",
        "    img_name = img_path + xml_file.replace(path, '')[:-4]+'.png'\n",
        "\n",
        "    h, w, d = plt.imread(img_name).shape\n",
        "\n",
        "    img = tf.keras.preprocessing.image.load_img(img_name, target_size=(320, 320))\n",
        "    img_arr = tf.keras.preprocessing.image.img_to_array(img) / 255.0\n",
        "\n",
        "    for children in root.findall('object'):\n",
        "      bndbox = children[5]\n",
        "      xmin = int(320 * float(bndbox[0].text) / w)\n",
        "      ymin = int(320 * float(bndbox[1].text) / h)\n",
        "      xmax = int(320 * float(bndbox[2].text) / w)\n",
        "      ymax = int(320 * float(bndbox[3].text) / h)\n",
        "      X.append(img_arr)\n",
        "      Y.append([xmin, ymin, xmax, ymax])\n",
        "\n",
        "  return X, Y"
      ]
    },
    {
      "cell_type": "code",
      "execution_count": 5,
      "metadata": {
        "id": "BxEWR14Pf9Y2"
      },
      "outputs": [],
      "source": [
        "x, y = xml_to_XY(ANNOTATION_PATH, IMAGE_PATH)"
      ]
    },
    {
      "cell_type": "code",
      "execution_count": 6,
      "metadata": {
        "colab": {
          "base_uri": "https://localhost:8080/"
        },
        "id": "PiLftcsgf9WL",
        "outputId": "4ca5d0f9-4a8b-4322-c053-8b058ff95c98"
      },
      "outputs": [
        {
          "output_type": "execute_result",
          "data": {
            "text/plain": [
              "((471, 320, 320, 3), (471, 4))"
            ]
          },
          "metadata": {},
          "execution_count": 6
        }
      ],
      "source": [
        "x = np.array(x)\n",
        "y = np.array(y)\n",
        "x.shape, y.shape"
      ]
    },
    {
      "cell_type": "code",
      "execution_count": 7,
      "metadata": {
        "colab": {
          "base_uri": "https://localhost:8080/"
        },
        "id": "ooZKiJNLi59V",
        "outputId": "e91c9522-3b59-4982-e656-f786fdc3bdc0"
      },
      "outputs": [
        {
          "output_type": "execute_result",
          "data": {
            "text/plain": [
              "((376, 320, 320, 3), (95, 320, 320, 3), (376, 4), (95, 4))"
            ]
          },
          "metadata": {},
          "execution_count": 7
        }
      ],
      "source": [
        "train_x, test_x, train_y, test_y = model_selection.train_test_split(x, y, test_size=0.2, random_state=26)\n",
        "train_x.shape, test_x.shape, train_y.shape, test_y.shape"
      ]
    },
    {
      "cell_type": "code",
      "execution_count": 8,
      "metadata": {
        "colab": {
          "base_uri": "https://localhost:8080/",
          "height": 452
        },
        "id": "FqviN_3BUjMo",
        "outputId": "6d5cd285-ed0d-4643-c8e5-e6c0c5eb8985"
      },
      "outputs": [
        {
          "output_type": "stream",
          "name": "stderr",
          "text": [
            "WARNING:matplotlib.image:Clipping input data to the valid range for imshow with RGB data ([0..1] for floats or [0..255] for integers).\n"
          ]
        },
        {
          "output_type": "display_data",
          "data": {
            "text/plain": [
              "<Figure size 640x480 with 1 Axes>"
            ],
            "image/png": "[encoded data removed]"
          },
          "metadata": {}
        }
      ],
      "source": [
        "N = np.random.randint(0, len(train_x))\n",
        "img = train_x[N]\n",
        "y = train_y[N]\n",
        "image = cv2.rectangle(img, (y[0], y[1]), (y[2], y[3]), color=(255, 0, 0), thickness=2)\n",
        "plt.imshow(image) \n",
        "plt.show()"
      ]
    },
    {
      "cell_type": "markdown",
      "metadata": {
        "id": "sOF8QQ0SPHbC"
      },
      "source": [
        "#[Part 2](https://towardsdatascience.com/understanding-and-implementing-faster-r-cnn-a-step-by-step-guide-11acfff216b0)"
      ]
    },
    {
      "cell_type": "markdown",
      "metadata": {
        "id": "M4qRG9egtwsK"
      },
      "source": [
        "##Data Utils\n"
      ]
    },
    {
      "cell_type": "code",
      "source": [
        "def parse_annotation(data_dir, img_size):\n",
        "\n",
        "  img_paths  = []\n",
        "  gdt_bboxes = []\n",
        "  gdt_classes= []\n",
        "  img_w, img_h = img_size\n",
        "\n",
        "  for img_name in os.listdir(data_dir+'images'):\n",
        "\n",
        "    img_path = os.path.join(data_dir, 'images', img_name)\n",
        "    annotation_path = os.path.join(data_dir, 'annotations', img_name[:-3]+'xml')\n",
        "\n",
        "    with open(annotation_path, 'r') as f:\n",
        "      tree = ET.parse(f)\n",
        "\n",
        "    root = tree.getroot()\n",
        "    \n",
        "    img_paths.append(img_path)\n",
        "    ann_size = root.find('size')\n",
        "    orig_w = int(ann_size.find('width').text)\n",
        "    orig_h = int(ann_size.find('height').text)\n",
        "    ground_truth_bboxes = []\n",
        "    ground_truth_classes = []\n",
        "\n",
        "    for box in root.findall('object'):\n",
        "      box_root = box.find('bndbox')\n",
        "      xmin = float(box_root.find('xmin').text)\n",
        "      ymin = float(box_root.find('ymin').text)\n",
        "      xmax = float(box_root.find('xmax').text)\n",
        "      ymax = float(box_root.find('ymax').text)\n",
        "      bbox = torch.Tensor([xmin, ymin, xmax, ymax])\n",
        "      bbox[[0, 2]] = bbox[[0, 2]] * img_w / orig_w\n",
        "      bbox[[1, 3]] = bbox[[1, 3]] * img_h / orig_h\n",
        "\n",
        "      ground_truth_bboxes.append(bbox.tolist())\n",
        "      ground_truth_classes.append(int(root.find('segmented').text))\n",
        "\n",
        "    gdt_bboxes.append(torch.Tensor(ground_truth_bboxes))\n",
        "    gdt_classes.append(torch.Tensor(ground_truth_classes))\n",
        "    \n",
        "  return gdt_bboxes, gdt_classes, img_paths"
      ],
      "metadata": {
        "id": "JqQt700WVFSN"
      },
      "execution_count": 167,
      "outputs": []
    },
    {
      "cell_type": "code",
      "source": [
        "class ObjectDetectionDataset(torch.utils.data.Dataset):\n",
        "    '''\n",
        "    A Pytorch Dataset class to load the images and their corresponding annotations.\n",
        "    \n",
        "    Returns\n",
        "    ------------\n",
        "    images: torch.Tensor of size (B, C, H, W)\n",
        "    gt bboxes: torch.Tensor of size (B, max_objects, 4)\n",
        "    gt classes: torch.Tensor of size (B, max_objects)\n",
        "    '''\n",
        "    def __init__(self, data_dir, img_size):\n",
        "        self.data_dir = data_dir\n",
        "        self.img_size = img_size\n",
        "        \n",
        "        self.img_data_all, self.gdt_bboxes, self.gdt_classes = self.get_data()\n",
        "        \n",
        "    def __len__(self):\n",
        "        return self.img_data_all.size(dim=0)\n",
        "    \n",
        "    def __getitem__(self, idx):\n",
        "        return self.img_data_all[idx], self.gdt_bboxes[idx], self.gdt_classes[idx]\n",
        "        \n",
        "    def get_data(self):\n",
        "        img_data = []\n",
        "        gdt_idxs = []\n",
        "\n",
        "        gdt_boxes, gdt_classes, img_paths = parse_annotation(self.data_dir, self.img_size)\n",
        "\n",
        "        for i, img_path in enumerate(img_paths):\n",
        "            # skip if the image path is not valid\n",
        "            if (not img_path) or (not os.path.exists(img_path)):\n",
        "                continue\n",
        "                \n",
        "            # read and resize image\n",
        "            img = cv2.imread(img_path)\n",
        "            img = cv2.resize(img, self.img_size)\n",
        "            # convert image to torch tensor and reshape it so channels come first\n",
        "            img_tensor = torch.from_numpy(img).permute(2, 0, 1)\n",
        "            \n",
        "            # encode class names as integers\n",
        "            gdt_idx = gdt_classes[i]\n",
        "            \n",
        "            img_data.append(img_tensor)\n",
        "            gdt_idxs.append(gdt_idx)\n",
        "        # pad bounding boxes and classes so they are of the same size\n",
        "        gt_bboxes_pad = torch.nn.utils.rnn.pad_sequence(gdt_boxes, batch_first=True, padding_value=-1)\n",
        "        gt_classes_pad = torch.nn.utils.rnn.pad_sequence(gdt_idxs, batch_first=True, padding_value=-1)\n",
        "        \n",
        "        # stack all images\n",
        "        img_data_stacked = torch.stack(img_data, dim=0)\n",
        "        \n",
        "        return img_data_stacked.to(dtype=torch.float32), gt_bboxes_pad, gt_classes_pad"
      ],
      "metadata": {
        "id": "ZwF0UHuz_iHY"
      },
      "execution_count": 166,
      "outputs": []
    },
    {
      "cell_type": "markdown",
      "source": [
        "##Preprocessing Utils\n"
      ],
      "metadata": {
        "id": "CVyQczF6VjNJ"
      }
    },
    {
      "cell_type": "markdown",
      "source": [
        "Generate Anchor Points"
      ],
      "metadata": {
        "id": "uUqUKpmpc-dv"
      }
    },
    {
      "cell_type": "code",
      "source": [
        "def gen_anc_centers(out_size):\n",
        "  \n",
        "    out_h, out_w = out_size\n",
        "    anc_pts_x = torch.arange(0, out_w) + 0.5\n",
        "    anc_pts_y = torch.arange(0, out_h) + 0.5\n",
        "    \n",
        "    return anc_pts_x, anc_pts_y"
      ],
      "metadata": {
        "id": "lvSumg_yVKDp"
      },
      "execution_count": 10,
      "outputs": []
    },
    {
      "cell_type": "markdown",
      "source": [
        "Generate Anchor Boxes"
      ],
      "metadata": {
        "id": "R_i0BAhJdCol"
      }
    },
    {
      "cell_type": "code",
      "source": [
        "def gen_anc_boxes(anc_pts_x, anc_pts_y, anc_scales, anc_ratios, out_size):\n",
        "    n_anc_boxes = len(anc_scales) * len(anc_ratios)\n",
        "    anc_base = torch.zeros(1, anc_pts_x.size(dim=0) , anc_pts_y.size(dim=0), n_anc_boxes, 4) # shape - [1, Hmap, Wmap, n_anchor_boxes, 4]\n",
        "    \n",
        "    for ix, x_center in enumerate(anc_pts_x):\n",
        "        for jx, y_center in enumerate(anc_pts_y):\n",
        "            anc_boxes = torch.zeros((n_anc_boxes, 4))\n",
        "            c = 0\n",
        "            for i, scale in enumerate(anc_scales):\n",
        "                for j, ratio in enumerate(anc_ratios):\n",
        "                    w = scale * ratio\n",
        "                    h = scale\n",
        "                    \n",
        "                    xmin = x_center - w / 2\n",
        "                    ymin = y_center - h / 2\n",
        "                    xmax = x_center + w / 2\n",
        "                    ymax = y_center + h / 2\n",
        "\n",
        "                    anc_boxes[c, :] = torch.Tensor([xmin, ymin, xmax, ymax])\n",
        "                    c += 1\n",
        "\n",
        "            anc_base[:, ix, jx, :] = torchvision.ops.clip_boxes_to_image(anc_boxes, size=out_size)\n",
        "            \n",
        "    return anc_base"
      ],
      "metadata": {
        "id": "frOp2gl2VQkz"
      },
      "execution_count": 11,
      "outputs": []
    },
    {
      "cell_type": "markdown",
      "source": [
        "Positive and Negative Anchor Boxes\n"
      ],
      "metadata": {
        "id": "uODdCaZo3I7u"
      }
    },
    {
      "cell_type": "code",
      "source": [
        "def get_iou_mat(batch_size, anc_boxes_all, gdt_bboxes_all):\n",
        "    \n",
        "    # flatten anchor boxes\n",
        "    anc_boxes_flat = anc_boxes_all.reshape(batch_size, -1, 4)\n",
        "\n",
        "    # create a placeholder to compute IoUs amongst the boxes\n",
        "    ious_mat = torch.zeros((batch_size, anc_boxes_flat.size(dim=1), gdt_bboxes_all.size(dim=1)))\n",
        "\n",
        "    # compute IoU of the anc boxes with the gt boxes for all the images\n",
        "    for i in range(batch_size):\n",
        "        gt_bboxes = gdt_bboxes_all[i]\n",
        "        anc_boxes = anc_boxes_flat[i]\n",
        "        ious_mat[i, :] = torchvision.ops.box_iou(anc_boxes, gt_bboxes)\n",
        "        \n",
        "    return ious_mat"
      ],
      "metadata": {
        "id": "fgb9zAl9VTq0"
      },
      "execution_count": 12,
      "outputs": []
    },
    {
      "cell_type": "markdown",
      "source": [
        "Projecting Boxes\n"
      ],
      "metadata": {
        "id": "_XWNccM5NO2W"
      }
    },
    {
      "cell_type": "code",
      "source": [
        "def project_bboxes(bboxes, width_scale_factor, height_scale_factor, mode='a2p'):\n",
        "    assert mode in ['a2p', 'p2a']\n",
        "    \n",
        "    batch_size = bboxes.size(dim=0)\n",
        "    proj_bboxes = bboxes.clone().reshape(batch_size, -1, 4)\n",
        "    invalid_bbox_mask = (proj_bboxes == -1) # indicating padded bboxes\n",
        "    \n",
        "    if mode == 'a2p':\n",
        "        # activation map to pixel image\n",
        "        proj_bboxes[:, :, [0, 2]] *= width_scale_factor  #xmin, xmax\n",
        "        proj_bboxes[:, :, [1, 3]] *= height_scale_factor #ymin, ymax\n",
        "    else:\n",
        "        # pixel image to activation map\n",
        "        proj_bboxes[:, :, [0, 2]] /= width_scale_factor\n",
        "        proj_bboxes[:, :, [1, 3]] /= height_scale_factor\n",
        "        \n",
        "    proj_bboxes.masked_fill_(invalid_bbox_mask, -1) # fill padded bboxes back with -1\n",
        "    proj_bboxes.resize_as_(bboxes)\n",
        "    \n",
        "    return proj_bboxes"
      ],
      "metadata": {
        "id": "MI7rVZ-JVMNb"
      },
      "execution_count": 13,
      "outputs": []
    },
    {
      "cell_type": "markdown",
      "source": [
        "Computing Offsets\n"
      ],
      "metadata": {
        "id": "xnvPOK7KO0cA"
      }
    },
    {
      "cell_type": "code",
      "source": [
        "def calc_gt_offsets(pos_anc_coords, gtd_bbox_mapping):\n",
        "    pos_anc_coords = torchvision.ops.box_convert(pos_anc_coords, in_fmt='xyxy', out_fmt='cxcywh')\n",
        "    gtd_bbox_mapping = torchvision.ops.box_convert(gtd_bbox_mapping, in_fmt='xyxy', out_fmt='cxcywh')\n",
        "\n",
        "    gt_cx, gt_cy, gt_w, gt_h = gtd_bbox_mapping[:, 0], gtd_bbox_mapping[:, 1], gtd_bbox_mapping[:, 2], gtd_bbox_mapping[:, 3]\n",
        "    anc_cx, anc_cy, anc_w, anc_h = pos_anc_coords[:, 0], pos_anc_coords[:, 1], pos_anc_coords[:, 2], pos_anc_coords[:, 3]\n",
        "\n",
        "    tx_ = (gt_cx - anc_cx)/anc_w\n",
        "    ty_ = (gt_cy - anc_cy)/anc_h\n",
        "    tw_ = torch.log(gt_w / anc_w)\n",
        "    th_ = torch.log(gt_h / anc_h)\n",
        "\n",
        "    return torch.stack([tx_, ty_, tw_, th_], dim=-1)"
      ],
      "metadata": {
        "id": "-tTfTVBxVIlw"
      },
      "execution_count": 14,
      "outputs": []
    },
    {
      "cell_type": "markdown",
      "source": [
        "Create Pos/Neg Anchors"
      ],
      "metadata": {
        "id": "WB3wJC9P4Y7x"
      }
    },
    {
      "cell_type": "code",
      "execution_count": 15,
      "metadata": {
        "id": "RX-p3OcGtvqR"
      },
      "outputs": [],
      "source": [
        "def get_req_anchors(anc_boxes_all, gt_bboxes_all, gt_classes_all, pos_thresh=0.7, neg_thresh=0.2):\n",
        "    '''\n",
        "    Prepare necessary data required for training\n",
        "    \n",
        "    Input\n",
        "    ------\n",
        "    anc_boxes_all - torch.Tensor of shape (B, w_amap, h_amap, n_anchor_boxes, 4)\n",
        "        all anchor boxes for a batch of images\n",
        "    gt_bboxes_all - torch.Tensor of shape (B, max_objects, 4)\n",
        "        padded ground truth boxes for a batch of images\n",
        "    gt_classes_all - torch.Tensor of shape (B, max_objects)\n",
        "        padded ground truth classes for a batch of images\n",
        "        \n",
        "    Returns\n",
        "    ---------\n",
        "    positive_anc_ind -  torch.Tensor of shape (n_pos,)\n",
        "        flattened positive indices for all the images in the batch\n",
        "    negative_anc_ind - torch.Tensor of shape (n_pos,)\n",
        "        flattened positive indices for all the images in the batch\n",
        "    GT_conf_scores - torch.Tensor of shape (n_pos,), IoU scores of +ve anchors\n",
        "    GT_offsets -  torch.Tensor of shape (n_pos, 4),\n",
        "        offsets between +ve anchors and their corresponding ground truth boxes\n",
        "    GT_class_pos - torch.Tensor of shape (n_pos,)\n",
        "        mapped classes of +ve anchors\n",
        "    positive_anc_coords - (n_pos, 4) coords of +ve anchors (for visualization)\n",
        "    negative_anc_coords - (n_pos, 4) coords of -ve anchors (for visualization)\n",
        "    positive_anc_ind_sep - list of indices to keep track of +ve anchors\n",
        "    '''\n",
        "    # get the size and shape parameters\n",
        "    B, w_amap, h_amap, A, _ = anc_boxes_all.shape\n",
        "    N = gt_bboxes_all.shape[1] # max number of groundtruth bboxes in a batch\n",
        "    \n",
        "    # get total number of anchor boxes in a single image\n",
        "    tot_anc_boxes = A * w_amap * h_amap\n",
        "    \n",
        "    # get the iou matrix which contains iou of every anchor box\n",
        "    # against all the groundtruth bboxes in an image\n",
        "    iou_mat = get_iou_mat(B, anc_boxes_all, gt_bboxes_all)\n",
        "    \n",
        "    # for every groundtruth bbox in an image, find the iou \n",
        "    # with the anchor box which it overlaps the most\n",
        "    max_iou_per_gt_box, _ = iou_mat.max(dim=1, keepdim=True)\n",
        "    \n",
        "    # get positive anchor boxes\n",
        "    \n",
        "    # condition 1: the anchor box with the max iou for every gt bbox\n",
        "    positive_anc_mask = torch.logical_and(iou_mat == max_iou_per_gt_box, max_iou_per_gt_box > 0) \n",
        "    # condition 2: anchor boxes with iou above a threshold with any of the gt bboxes\n",
        "    positive_anc_mask = torch.logical_or(positive_anc_mask, iou_mat > pos_thresh)\n",
        "    \n",
        "    positive_anc_ind_sep = torch.where(positive_anc_mask)[0] # get separate indices in the batch\n",
        "    # combine all the batches and get the idxs of the +ve anchor boxes\n",
        "    positive_anc_mask = positive_anc_mask.flatten(start_dim=0, end_dim=1)\n",
        "    positive_anc_ind = torch.where(positive_anc_mask)[0]\n",
        "    \n",
        "    # for every anchor box, get the iou and the idx of the\n",
        "    # gt bbox it overlaps with the most\n",
        "    max_iou_per_anc, max_iou_per_anc_ind = iou_mat.max(dim=-1)\n",
        "    max_iou_per_anc = max_iou_per_anc.flatten(start_dim=0, end_dim=1)\n",
        "    \n",
        "    # get iou scores of the +ve anchor boxes\n",
        "    GT_conf_scores = max_iou_per_anc[positive_anc_ind]\n",
        "    \n",
        "    # get gt classes of the +ve anchor boxes\n",
        "    \n",
        "    # expand gt classes to map against every anchor box\n",
        "    gt_classes_expand = gt_classes_all.view(B, 1, N).expand(B, tot_anc_boxes, N)\n",
        "    # for every anchor box, consider only the class of the gt bbox it overlaps with the most\n",
        "    GT_class = torch.gather(gt_classes_expand, -1, max_iou_per_anc_ind.unsqueeze(-1)).squeeze(-1)\n",
        "    # combine all the batches and get the mapped classes of the +ve anchor boxes\n",
        "    GT_class = GT_class.flatten(start_dim=0, end_dim=1)\n",
        "    GT_class_pos = GT_class[positive_anc_ind]\n",
        "    \n",
        "    # get gt bbox coordinates of the +ve anchor boxes\n",
        "    \n",
        "    # expand all the gt bboxes to map against every anchor box\n",
        "    gt_bboxes_expand = gt_bboxes_all.view(B, 1, N, 4).expand(B, tot_anc_boxes, N, 4)\n",
        "    # for every anchor box, consider only the coordinates of the gt bbox it overlaps with the most\n",
        "    GT_bboxes = torch.gather(gt_bboxes_expand, -2, max_iou_per_anc_ind.reshape(B, tot_anc_boxes, 1, 1).repeat(1, 1, 1, 4))\n",
        "    # combine all the batches and get the mapped gt bbox coordinates of the +ve anchor boxes\n",
        "    GT_bboxes = GT_bboxes.flatten(start_dim=0, end_dim=2)\n",
        "    GT_bboxes_pos = GT_bboxes[positive_anc_ind]\n",
        "    \n",
        "    # get coordinates of +ve anc boxes\n",
        "    anc_boxes_flat = anc_boxes_all.flatten(start_dim=0, end_dim=-2) # flatten all the anchor boxes\n",
        "    positive_anc_coords = anc_boxes_flat[positive_anc_ind]\n",
        "    \n",
        "    # calculate gt offsets\n",
        "    GT_offsets = calc_gt_offsets(positive_anc_coords, GT_bboxes_pos)\n",
        "    \n",
        "    # get -ve anchors\n",
        "    \n",
        "    # condition: select the anchor boxes with max iou less than the threshold\n",
        "    negative_anc_mask = (max_iou_per_anc < neg_thresh)\n",
        "    negative_anc_ind = torch.where(negative_anc_mask)[0]\n",
        "    # sample -ve samples to match the +ve samples\n",
        "    negative_anc_ind = negative_anc_ind[torch.randint(0, negative_anc_ind.shape[0], (positive_anc_ind.shape[0],))]\n",
        "    negative_anc_coords = anc_boxes_flat[negative_anc_ind]\n",
        "    \n",
        "    return positive_anc_ind, negative_anc_ind, GT_conf_scores, GT_offsets, GT_class_pos, \\\n",
        "         positive_anc_coords, negative_anc_coords, positive_anc_ind_sep"
      ]
    },
    {
      "cell_type": "code",
      "source": [
        "def generate_proposals(anchors, offsets):\n",
        "   \n",
        "    # change format of the anchor boxes from 'xyxy' to 'cxcywh'\n",
        "    anchors = torchvision.ops.box_convert(anchors, in_fmt='xyxy', out_fmt='cxcywh')\n",
        "\n",
        "    # apply offsets to anchors to create proposals\n",
        "    proposals_ = torch.zeros_like(anchors)\n",
        "    proposals_[:,0] = anchors[:,0] + offsets[:,0]*anchors[:,2]\n",
        "    proposals_[:,1] = anchors[:,1] + offsets[:,1]*anchors[:,3]\n",
        "    proposals_[:,2] = anchors[:,2] * torch.exp(offsets[:,2])\n",
        "    proposals_[:,3] = anchors[:,3] * torch.exp(offsets[:,3])\n",
        "\n",
        "    # change format of proposals back from 'cxcywh' to 'xyxy'\n",
        "    proposals = torchvision.ops.box_convert(proposals_, in_fmt='cxcywh', out_fmt='xyxy')\n",
        "\n",
        "    return proposals"
      ],
      "metadata": {
        "id": "RSW3LBz1VODx"
      },
      "execution_count": 16,
      "outputs": []
    },
    {
      "cell_type": "markdown",
      "source": [
        "##Visualization Utils"
      ],
      "metadata": {
        "id": "eAMvN1nEVZhZ"
      }
    },
    {
      "cell_type": "code",
      "source": [
        "def display_img(img_data, fig, axes):\n",
        "    for i, img in enumerate(img_data):\n",
        "        if type(img) == torch.Tensor:\n",
        "            img = img.permute(1, 2, 0).numpy()\n",
        "        axes[i].imshow(np.int64(img))\n",
        "    \n",
        "    return fig, axes\n",
        "\n",
        "def display_bbox(bboxes, fig, ax, classes=None, in_format='xyxy', color='y', line_width=3):\n",
        "    if type(bboxes) == np.ndarray:\n",
        "        bboxes = torch.from_numpy(bboxes)\n",
        "    if classes:\n",
        "        assert len(bboxes) == len(classes)\n",
        "    # convert boxes to xywh format\n",
        "    bboxes = torchvision.ops.box_convert(bboxes, in_fmt=in_format, out_fmt='xywh')\n",
        "    c = 0\n",
        "    for box in bboxes:\n",
        "        x, y, w, h = box.numpy()\n",
        "        # display bounding box\n",
        "        rect = matplotlib.patches.Rectangle((x, y), w, h, linewidth=line_width, edgecolor=color, facecolor='none')\n",
        "        ax.add_patch(rect)\n",
        "        # display category\n",
        "        if classes:\n",
        "            if classes[c] == 'pad':\n",
        "                continue\n",
        "            ax.text(x + 5, y + 20, classes[c], bbox=dict(facecolor='yellow', alpha=0.5))\n",
        "        c += 1\n",
        "        \n",
        "    return fig, ax\n",
        "\n",
        "def display_grid(x_points, y_points, fig, ax, special_point=None):\n",
        "    # plot grid\n",
        "    for x in x_points:\n",
        "        for y in y_points:\n",
        "            ax.scatter(x, y, color=\"w\", marker='+')\n",
        "            \n",
        "    # plot a special point we want to emphasize on the grid\n",
        "    if special_point:\n",
        "        x, y = special_point\n",
        "        ax.scatter(x, y, color=\"red\", marker='+')\n",
        "        \n",
        "    return fig, ax"
      ],
      "metadata": {
        "id": "NkMgN6MsVZGk"
      },
      "execution_count": 20,
      "outputs": []
    },
    {
      "cell_type": "markdown",
      "metadata": {
        "id": "Gzny0WVztwB3"
      },
      "source": [
        "Backbone"
      ]
    },
    {
      "cell_type": "code",
      "execution_count": 21,
      "metadata": {
        "id": "8IwgsR3DcVYC"
      },
      "outputs": [],
      "source": [
        "class FeatureExtractor(torch.nn.Module):\n",
        "  def __init__(self):\n",
        "    super.__init__()\n",
        "    model = torchvision.models.resnet50(pretrained=True)\n",
        "    req_layers = list(model.children())[:8] #Ignore AdaptiveAvgPool, Linear classifier Layer\n",
        "    self.backbone = torch.nn.Sequential(req_layers)\n",
        "    for param in self.backbone.named_parameters():\n",
        "      param[1].requres_grad = True\n",
        "\n",
        "  def forward(self, img_data):\n",
        "    return self.backbone(img_data)"
      ]
    },
    {
      "cell_type": "code",
      "execution_count": 22,
      "metadata": {
        "id": "uv_voMXotBCh"
      },
      "outputs": [],
      "source": [
        "class ProposalModule(torch.nn.Module):\n",
        "  \n",
        "  def __init__(self, in_features, hidden_dim=512, n_anchors=9, p_dropout=0.3):\n",
        "    super().__init__()\n",
        "    self.n_anchors = n_anchors\n",
        "    self.conv1 = torch.nn.Conv2d(in_features, hidden_dim, kernel_size=3, padding=1)\n",
        "    self.droput= torch.nn.Dropout(p_dropout)\n",
        "    self.conf_head = torch.nn.Conv2d(hidden_dim, n_anchors, kernel_size=1)\n",
        "    self.reg_head = torch.nn.Conv2d(hidden_dim, n_anchors*4, kernel_size=1)\n",
        "  \n",
        "  def forward(self, feature_map, pos_anc_ind=None, neg_anc_ind=None, pos_anc_coords=None):\n",
        "    if pos_anc_ind is None or neg_anc_ind is None or pos_anc_coords is None:\n",
        "      mode = 'eval'\n",
        "    else:\n",
        "      mode = 'train'\n",
        "\n",
        "    out = self.conv1(feature_map)\n",
        "    out = self.droput(out)\n",
        "    out = torch.nn.functional.relu(out)\n",
        "\n",
        "    reg_offsets_pred = self.reg_head(out)  # (B, A*4, hmap, wmap)\n",
        "    conf_scores_pred = self.conf_head(out) # (B, A, hmap, wmap)\n",
        "\n",
        "    if mode=='train':\n",
        "      #get confidence scores\n",
        "      conf_scrors_pos = conf_scores_pred.flatten()[pos_anc_ind]\n",
        "      conf_scrors_neg = conf_scores_pred.flatten()[neg_anc_ind]\n",
        "      \n",
        "      #get offsets for positive anchors\n",
        "      offsets_pos = reg_offsets_pred.contiguos().view(-1, 4)[pos_anc_ind]\n",
        "      #generate proposals using offsets\n",
        "      proposals   = generate_proposals(pos_anc_coords, offsets_pos)\n",
        "\n",
        "      return conf_scrors_pos, conf_scrors_neg, offsets_pos, proposals\n",
        "    else:\n",
        "      return conf_scores_pred, reg_offsets_pred"
      ]
    },
    {
      "cell_type": "markdown",
      "metadata": {
        "id": "vcSUf2pvWh4m"
      },
      "source": [
        "##stage 1 of the detector\n",
        "##RPN"
      ]
    },
    {
      "cell_type": "code",
      "execution_count": 23,
      "metadata": {
        "id": "-JjLYGLCAT38"
      },
      "outputs": [],
      "source": [
        "class RegionProposalNetwork(torch.nn.Module):\n",
        "    def __init__(self, img_size, out_size, out_channels):\n",
        "        super().__init__()\n",
        "        \n",
        "        self.img_height, self.img_width = img_size\n",
        "        self.out_h, self.out_w = out_size\n",
        "        \n",
        "        # downsampling scale factor \n",
        "        self.width_scale_factor = self.img_width // self.out_w\n",
        "        self.height_scale_factor = self.img_height // self.out_h \n",
        "        \n",
        "        # scales and ratios for anchor boxes\n",
        "        self.anc_scales = [2, 4, 6]\n",
        "        self.anc_ratios = [0.5, 1, 1.5]\n",
        "        self.n_anc_boxes = len(self.anc_scales) * len(self.anc_ratios)\n",
        "        \n",
        "        # IoU thresholds for +ve and -ve anchors\n",
        "        self.pos_thresh = 0.7\n",
        "        self.neg_thresh = 0.3\n",
        "        \n",
        "        # weights for loss\n",
        "        self.w_conf = 1\n",
        "        self.w_reg = 5\n",
        "        \n",
        "        self.feature_extractor = FeatureExtractor() #feature_map \n",
        "        self.proposal_module = ProposalModule(out_channels, n_anchors=self.n_anc_boxes)\n",
        "        \n",
        "    def forward(self, images, gt_bboxes, gt_classes):\n",
        "        batch_size = images.size(dim=0)\n",
        "        feature_map = self.feature_extractor(images)\n",
        "        \n",
        "        # generate anchors\n",
        "        anc_pts_x, anc_pts_y = gen_anc_centers(out_size=(self.out_h, self.out_w))\n",
        "        anc_base = gen_anc_boxes(anc_pts_x, anc_pts_y, self.anc_scales, self.anc_ratios, (self.out_h, self.out_w))\n",
        "        anc_boxes_all = anc_base.repeat(batch_size, 1, 1, 1, 1)\n",
        "        \n",
        "        # get positive and negative anchors amongst other things\n",
        "        gt_bboxes_proj = project_bboxes(gt_bboxes, self.width_scale_factor, self.height_scale_factor, mode='p2a')\n",
        "        \n",
        "        positive_anc_ind, negative_anc_ind, GT_conf_scores, \\\n",
        "        GT_offsets, GT_class_pos, positive_anc_coords, \\\n",
        "        negative_anc_coords, positive_anc_ind_sep = get_req_anchors(anc_boxes_all, gt_bboxes_proj, gt_classes)\n",
        "        \n",
        "        # pass through the proposal module\n",
        "        conf_scores_pos, conf_scores_neg, offsets_pos, proposals = self.proposal_module(feature_map, positive_anc_ind, negative_anc_ind, positive_anc_coords)\n",
        "        \n",
        "        cls_loss = calc_cls_loss(conf_scores_pos, conf_scores_neg, batch_size)\n",
        "        reg_loss = calc_bbox_reg_loss(GT_offsets, offsets_pos, batch_size)\n",
        "        \n",
        "        total_rpn_loss = self.w_conf * cls_loss + self.w_reg * reg_loss\n",
        "        \n",
        "        return total_rpn_loss, feature_map, proposals, positive_anc_ind_sep, GT_class_pos\n",
        "    \n",
        "    def inference(self, images, conf_thresh=0.5, nms_thresh=0.7):\n",
        "        with torch.no_grad():\n",
        "            batch_size = images.size(dim=0)\n",
        "            feature_map = self.feature_extractor(images)\n",
        "\n",
        "            # generate anchors\n",
        "            anc_pts_x, anc_pts_y = gen_anc_centers(out_size=(self.out_h, self.out_w))\n",
        "            anc_base = gen_anc_base(anc_pts_x, anc_pts_y, self.anc_scales, self.anc_ratios, (self.out_h, self.out_w))\n",
        "            anc_boxes_all = anc_base.repeat(batch_size, 1, 1, 1, 1)\n",
        "            anc_boxes_flat = anc_boxes_all.reshape(batch_size, -1, 4)\n",
        "\n",
        "            # get conf scores and offsets\n",
        "            conf_scores_pred, offsets_pred = self.proposal_module(feature_map)\n",
        "            conf_scores_pred = conf_scores_pred.reshape(batch_size, -1)\n",
        "            offsets_pred = offsets_pred.reshape(batch_size, -1, 4)\n",
        "\n",
        "            # filter out proposals based on conf threshold and nms threshold for each image\n",
        "            proposals_final = []\n",
        "            conf_scores_final = []\n",
        "            for i in range(batch_size):\n",
        "                conf_scores = torch.sigmoid(conf_scores_pred[i])\n",
        "                offsets = offsets_pred[i]\n",
        "                anc_boxes = anc_boxes_flat[i]\n",
        "                proposals = generate_proposals(anc_boxes, offsets)\n",
        "                # filter based on confidence threshold\n",
        "                conf_idx = torch.where(conf_scores >= conf_thresh)[0]\n",
        "                conf_scores_pos = conf_scores[conf_idx]\n",
        "                proposals_pos = proposals[conf_idx]\n",
        "                # filter based on nms threshold\n",
        "                nms_idx = torchvision.ops.nms(proposals_pos, conf_scores_pos, nms_thresh)\n",
        "                conf_scores_pos = conf_scores_pos[nms_idx]\n",
        "                proposals_pos = proposals_pos[nms_idx]\n",
        "\n",
        "                proposals_final.append(proposals_pos)\n",
        "                conf_scores_final.append(conf_scores_pos)\n",
        "            \n",
        "        return proposals_final, conf_scores_final, feature_map"
      ]
    },
    {
      "cell_type": "markdown",
      "source": [
        "### Loss Utils"
      ],
      "metadata": {
        "id": "KgHib0mggfhI"
      }
    },
    {
      "cell_type": "code",
      "source": [
        "def calc_cls_loss(conf_scores_pos, conf_scores_neg, batch_size):\n",
        "    target_pos = torch.ones_like(conf_scores_pos)\n",
        "    target_neg = torch.zeros_like(conf_scores_neg)\n",
        "    \n",
        "    target = torch.cat((target_pos, target_neg))\n",
        "    inputs = torch.cat((conf_scores_pos, conf_scores_neg))\n",
        "     \n",
        "    loss = torch.nn.functional.binary_cross_entropy_with_logits(inputs, target, reduction='sum') * 1. / batch_size\n",
        "    return loss"
      ],
      "metadata": {
        "id": "mlBmZEHOg-KA"
      },
      "execution_count": 24,
      "outputs": []
    },
    {
      "cell_type": "code",
      "source": [
        "def calc_bbox_reg_loss(gt_offsets, reg_offsets_pos, batch_size):\n",
        "    assert gt_offsets.size() == reg_offsets_pos.size()\n",
        "    loss = torch.nn.functional.smooth_l1_loss(reg_offsets_pos, gt_offsets, reduction='sum') * 1. / batch_size\n",
        "    return loss"
      ],
      "metadata": {
        "id": "Bd0R3ujvgf30"
      },
      "execution_count": 25,
      "outputs": []
    },
    {
      "cell_type": "markdown",
      "source": [
        "Stage 2"
      ],
      "metadata": {
        "id": "qT7c81VcgeZM"
      }
    },
    {
      "cell_type": "code",
      "execution_count": 26,
      "metadata": {
        "id": "EGRmD_-YtswD"
      },
      "outputs": [],
      "source": [
        "class ClassificationModule(torch.nn.Module):\n",
        "    def __init__(self, out_channels, n_classes, roi_size, hidden_dim=512, p_dropout=0.3):\n",
        "        super().__init__()        \n",
        "        self.roi_size = roi_size\n",
        "        # hidden network\n",
        "        self.avg_pool = torch.nn.AvgPool2d(self.roi_size)\n",
        "        self.fc = torch.nn.Linear(out_channels, hidden_dim)\n",
        "        self.dropout = torch.nn.Dropout(p_dropout)\n",
        "        \n",
        "        # define classification head\n",
        "        self.cls_head = torch.nn.Linear(hidden_dim, n_classes)\n",
        "        \n",
        "    def forward(self, feature_map, proposals_list, gt_classes=None):\n",
        "        \n",
        "        if gt_classes is None:\n",
        "            mode = 'eval'\n",
        "        else:\n",
        "            mode = 'train'\n",
        "        \n",
        "        # apply roi pooling on proposals followed by avg pooling\n",
        "        roi_out = torchvision.ops.roi_pool(feature_map, proposals_list, self.roi_size)\n",
        "        roi_out = self.avg_pool(roi_out)\n",
        "        \n",
        "        # flatten the output\n",
        "        roi_out = roi_out.squeeze(-1).squeeze(-1)\n",
        "        \n",
        "        # pass the output through the hidden network\n",
        "        out = self.fc(roi_out)\n",
        "        out = torch.nn.functional.relu(self.dropout(out))\n",
        "        \n",
        "        # get the classification scores\n",
        "        cls_scores = self.cls_head(out)\n",
        "        \n",
        "        if mode == 'eval':\n",
        "            return cls_scores\n",
        "        \n",
        "        # compute cross entropy loss\n",
        "        cls_loss = torch.nn.functional.cross_entropy(cls_scores, gt_classes.long())\n",
        "        \n",
        "        return cls_loss"
      ]
    },
    {
      "cell_type": "markdown",
      "source": [
        "wrap it up"
      ],
      "metadata": {
        "id": "aZ3pKtpIm82K"
      }
    },
    {
      "cell_type": "code",
      "source": [
        "class TwoStageDetector(torch.nn.Module):\n",
        "    def __init__(self, img_size, out_size, out_channels, n_classes, roi_size):\n",
        "        super().__init__() \n",
        "        self.rpn = RegionProposalNetwork(img_size, out_size, out_channels)\n",
        "        self.classifier = ClassificationModule(out_channels, n_classes, roi_size)\n",
        "        \n",
        "    def forward(self, images, gt_bboxes, gt_classes):\n",
        "        total_rpn_loss, feature_map, proposals, \\\n",
        "        positive_anc_ind_sep, GT_class_pos = self.rpn(images, gt_bboxes, gt_classes)\n",
        "        \n",
        "        # get separate proposals for each sample\n",
        "        pos_proposals_list = []\n",
        "        batch_size = images.size(dim=0)\n",
        "        for idx in range(batch_size):\n",
        "            proposal_idxs = torch.where(positive_anc_ind_sep == idx)[0]\n",
        "            proposals_sep = proposals[proposal_idxs].detach().clone()\n",
        "            pos_proposals_list.append(proposals_sep)\n",
        "        \n",
        "        cls_loss = self.classifier(feature_map, pos_proposals_list, GT_class_pos)\n",
        "        total_loss = cls_loss + total_rpn_loss\n",
        "        \n",
        "        return total_loss\n",
        "    \n",
        "    def inference(self, images, conf_thresh=0.5, nms_thresh=0.7):\n",
        "        batch_size = images.size(dim=0)\n",
        "        proposals_final, conf_scores_final, feature_map = self.rpn.inference(images, conf_thresh, nms_thresh)\n",
        "        cls_scores = self.classifier(feature_map, proposals_final)\n",
        "        \n",
        "        # convert scores into probability\n",
        "        cls_probs = torch.nn.functional.softmax(cls_scores, dim=-1)\n",
        "        # get classes with highest probability\n",
        "        classes_all = torch.argmax(cls_probs, dim=-1)\n",
        "        \n",
        "        classes_final = []\n",
        "        # slice classes to map to their corresponding image\n",
        "        c = 0\n",
        "        for i in range(batch_size):\n",
        "            n_proposals = len(proposals_final[i]) # get the number of proposals for each image\n",
        "            classes_final.append(classes_all[c: c+n_proposals])\n",
        "            c += n_proposals\n",
        "            \n",
        "        return proposals_final, conf_scores_final, classes_final"
      ],
      "metadata": {
        "id": "FaFEtLdRgYED"
      },
      "execution_count": 27,
      "outputs": []
    },
    {
      "cell_type": "code",
      "execution_count": 28,
      "metadata": {
        "id": "22RR5LpSu5jP"
      },
      "outputs": [],
      "source": [
        "# os.makedirs('/content/data', exist_ok=True)\n",
        "# os.makedirs('/content/data/images', exist_ok=True)\n",
        "# os.rename('/content/drive/MyDrive/1.jpg', '/content/data/images/1.jpg')\n",
        "# os.rename('/content/drive/MyDrive/2.jpg', '/content/data/images/2.jpg')\n",
        "# os.rename('/content/drive/MyDrive/annotations.xml', '/content/data/annotations.xml')"
      ]
    },
    {
      "cell_type": "markdown",
      "metadata": {
        "id": "Wzm6Iknwa-dH"
      },
      "source": [
        "##Run"
      ]
    },
    {
      "cell_type": "code",
      "source": [
        "img_width = 640\n",
        "img_height = 480\n",
        "data_dir = '/content/data/'\n",
        "# name2idx = {'pad': -1, 'camel': 0, 'bird': 1}\n",
        "name2idx = {'pad': -1, 'pedal': 0}\n",
        "idx2name = {v:k for k, v in name2idx.items()}"
      ],
      "metadata": {
        "id": "tGBVjt0i_upr"
      },
      "execution_count": 168,
      "outputs": []
    },
    {
      "cell_type": "code",
      "execution_count": 169,
      "metadata": {
        "id": "ASeYFJo4s8kC"
      },
      "outputs": [],
      "source": [
        "od_dataset = ObjectDetectionDataset(data_dir, (img_height, img_width))\n",
        "od_dataloader = torch.utils.data.DataLoader(od_dataset, batch_size=2)"
      ]
    },
    {
      "cell_type": "code",
      "execution_count": null,
      "metadata": {
        "id": "I_AThM_TyKL8"
      },
      "outputs": [],
      "source": [
        "for img_batch, gt_bboxes_batch, gt_classes_batch in od_dataloader:\n",
        "    img_data_all = img_batch\n",
        "    gt_bboxes_all = gt_bboxes_batch\n",
        "    gt_classes_all = gt_classes_batch\n",
        "    break\n",
        "    \n",
        "img_data_all = img_data_all[:2]\n",
        "gt_bboxes_all = gt_bboxes_all[:2]\n",
        "gt_classes_all = gt_classes_all[:2]"
      ]
    },
    {
      "cell_type": "code",
      "execution_count": null,
      "metadata": {
        "id": "DblvBtdQZoZL"
      },
      "outputs": [],
      "source": [
        "# get class names\n",
        "gt_class_1 = gt_classes_all[0].long()\n",
        "gt_class_1 = [idx2name[idx.item()] for idx in gt_class_1]\n",
        "\n",
        "gt_class_2 = gt_classes_all[1].long()\n",
        "gt_class_2 = [idx2name[idx.item()] for idx in gt_class_2]"
      ]
    },
    {
      "cell_type": "code",
      "execution_count": null,
      "metadata": {
        "id": "OdDjxin1jsfJ"
      },
      "outputs": [],
      "source": [
        "def display_bbox(bboxes, fig, ax, classes=None, in_format='xyxy', color='y', line_width=3):\n",
        "    if type(bboxes) == np.ndarray:\n",
        "        bboxes = torch.from_numpy(bboxes)\n",
        "    if classes:\n",
        "        assert len(bboxes) == len(classes)\n",
        "    # convert boxes to xywh format\n",
        "    bboxes = torchvision.ops.box_convert(bboxes, in_fmt=in_format, out_fmt='xywh')\n",
        "    c = 0\n",
        "    for box in bboxes:\n",
        "        print(box)\n",
        "        x, y, w, h = box.numpy()\n",
        "        # display bounding box\n",
        "        rect = matplotlib.patches.Rectangle((x, y), w, h, linewidth=line_width, edgecolor=color, facecolor='none')\n",
        "        ax.add_patch(rect)\n",
        "        # display category\n",
        "        if classes:\n",
        "            if classes[c] == 'pad':\n",
        "                continue\n",
        "            ax.text(x + 5, y + 20, classes[c], bbox=dict(facecolor='yellow', alpha=0.5))\n",
        "        c += 1\n",
        "        \n",
        "    return fig, ax"
      ]
    },
    {
      "cell_type": "code",
      "execution_count": null,
      "metadata": {
        "id": "pIAH99PhbTjI"
      },
      "outputs": [],
      "source": [
        "nrows, ncols = (1, 2)\n",
        "fig, axes = plt.subplots(nrows, ncols, figsize=(8, 4))\n",
        "\n",
        "fig, axes = display_img(img_data_all, fig, axes)\n",
        "fig, _ = display_bbox(gt_bboxes_all[0], fig, axes[0], classes=gt_class_1)\n",
        "fig, _ = display_bbox(gt_bboxes_all[1], fig, axes[1], classes=gt_class_2)"
      ]
    },
    {
      "cell_type": "code",
      "execution_count": null,
      "metadata": {
        "id": "ivNrzM_PbViM"
      },
      "outputs": [],
      "source": [
        "model = torchvision.models.resnet50(pretrained=True)\n",
        "req_layers = list(model.children())[:8]\n",
        "backbone = torch.nn.Sequential(*req_layers)\n",
        "# unfreeze all the parameters\n",
        "for param in backbone.named_parameters():\n",
        "    param[1].requires_grad = True\n",
        "# run the image through the backbone\n",
        "out = backbone(img_data_all)\n",
        "out_c, out_h, out_w = out.size(dim=1), out.size(dim=2), out.size(dim=3)\n",
        "out_c, out_h, out_w"
      ]
    },
    {
      "cell_type": "code",
      "execution_count": null,
      "metadata": {
        "id": "N9bkzVXqd1li"
      },
      "outputs": [],
      "source": [
        "width_scale_factor = img_width // out_w\n",
        "height_scale_factor = img_height // out_h\n",
        "height_scale_factor, width_scale_factor"
      ]
    },
    {
      "cell_type": "code",
      "execution_count": null,
      "metadata": {
        "id": "4K5ahtlpigmd"
      },
      "outputs": [],
      "source": [
        "nrows, ncols = (1, 2)\n",
        "fig, axes = plt.subplots(nrows, ncols, figsize=(8, 4))\n",
        "\n",
        "filters_data =[filters[0].detach().numpy() for filters in out[:2]]\n",
        "\n",
        "fig, axes = display_img(filters_data, fig, axes)"
      ]
    },
    {
      "cell_type": "code",
      "execution_count": null,
      "metadata": {
        "id": "L7cuUZO_iu-K"
      },
      "outputs": [],
      "source": [
        "anc_pts_x, anc_pts_y = gen_anc_centers(out_size=(out_h, out_w))"
      ]
    },
    {
      "cell_type": "code",
      "execution_count": null,
      "metadata": {
        "id": "J9ZeF-HiiyTd"
      },
      "outputs": [],
      "source": [
        "# project anchor centers onto the original image\n",
        "anc_pts_x_proj = anc_pts_x.clone() * width_scale_factor \n",
        "anc_pts_y_proj = anc_pts_y.clone() * height_scale_factor"
      ]
    },
    {
      "cell_type": "code",
      "execution_count": null,
      "metadata": {
        "id": "EXbFH8Ieiiq_"
      },
      "outputs": [],
      "source": [
        "nrows, ncols = (1, 2)\n",
        "fig, axes = plt.subplots(nrows, ncols, figsize=(8, 4))\n",
        " \n",
        "fig, axes = display_img(img_data_all, fig, axes)\n",
        "fig, _ = display_grid(anc_pts_x_proj, anc_pts_y_proj, fig, axes[0])\n",
        "fig, _ = display_grid(anc_pts_x_proj, anc_pts_y_proj, fig, axes[1])\n"
      ]
    },
    {
      "cell_type": "code",
      "execution_count": null,
      "metadata": {
        "id": "c6nmibPBiyqI"
      },
      "outputs": [],
      "source": [
        "anc_scales = [2, 4, 6]\n",
        "anc_ratios = [0.5, 1, 1.5]\n",
        "n_anc_boxes = len(anc_scales) * len(anc_ratios) # number of anchor boxes for each anchor point\n",
        "\n",
        "anc_base = gen_anc_boxes(anc_pts_x, anc_pts_y, anc_scales, anc_ratios, (out_h, out_w))\n",
        "# since all the images are scaled to the same size\n",
        "# we can repeat the anchor base for all the images\n",
        "anc_boxes_all = anc_base.repeat(img_data_all.size(dim=0), 1, 1, 1, 1)"
      ]
    },
    {
      "cell_type": "code",
      "execution_count": null,
      "metadata": {
        "id": "23_z2G6EjQ6E"
      },
      "outputs": [],
      "source": [
        "nrows, ncols = (1, 2)\n",
        "fig, axes = plt.subplots(nrows, ncols, figsize=(16, 8))\n",
        "\n",
        "fig, axes = display_img(img_data_all, fig, axes)\n",
        "\n",
        "# project anchor boxes to the image\n",
        "anc_boxes_proj = project_bboxes(anc_boxes_all, width_scale_factor, height_scale_factor, mode='a2p')\n",
        "\n",
        "# plot anchor boxes around selected anchor points\n",
        "sp_1 = [5, 8]\n",
        "sp_2 = [12, 9]\n",
        "bboxes_1 = anc_boxes_proj[0][sp_1[0], sp_1[1]]\n",
        "bboxes_2 = anc_boxes_proj[1][sp_2[0], sp_2[1]]\n",
        "\n",
        "fig, _ = display_grid(anc_pts_x_proj, anc_pts_y_proj, fig, axes[0], (anc_pts_x_proj[sp_1[0]], anc_pts_y_proj[sp_1[1]]))\n",
        "fig, _ = display_grid(anc_pts_x_proj, anc_pts_y_proj, fig, axes[1], (anc_pts_x_proj[sp_2[0]], anc_pts_y_proj[sp_2[1]]))\n",
        "fig, _ = display_bbox(bboxes_1, fig, axes[0])\n",
        "fig, _ = display_bbox(bboxes_2, fig, axes[1])"
      ]
    },
    {
      "cell_type": "code",
      "execution_count": null,
      "metadata": {
        "id": "a1By-2dIAciy"
      },
      "outputs": [],
      "source": [
        "nrows, ncols = (1, 2)\n",
        "fig, axes = plt.subplots(nrows, ncols, figsize=(16, 8))\n",
        "\n",
        "fig, axes = display_img(img_data_all, fig, axes)\n",
        "\n",
        "# plot feature grid\n",
        "fig, _ = display_grid(anc_pts_x_proj, anc_pts_y_proj, fig, axes[0])\n",
        "fig, _ = display_grid(anc_pts_x_proj, anc_pts_y_proj, fig, axes[1])\n",
        "\n",
        "# plot all anchor boxes\n",
        "for x in range(anc_pts_x_proj.size(dim=0)):\n",
        "    for y in range(anc_pts_y_proj.size(dim=0)):\n",
        "        bboxes = anc_boxes_proj[0][x, y]\n",
        "        fig, _ = display_bbox(bboxes, fig, axes[0], line_width=1)\n",
        "        fig, _ = display_bbox(bboxes, fig, axes[1], line_width=1)"
      ]
    },
    {
      "cell_type": "code",
      "execution_count": null,
      "metadata": {
        "id": "aHRtre0LChGO"
      },
      "outputs": [],
      "source": [
        "#Get Positive and Negative Anchors\n",
        "\n",
        "pos_thresh = 0.7\n",
        "neg_thresh = 0.3\n",
        "\n",
        "# project gt bboxes onto the feature map\n",
        "gt_bboxes_proj = project_bboxes(gt_bboxes_all, width_scale_factor, height_scale_factor, mode='p2a')\n",
        "positive_anc_ind, negative_anc_ind, GT_conf_scores, \\\n",
        "GT_offsets, GT_class_pos, positive_anc_coords, \\\n",
        "negative_anc_coords, positive_anc_ind_sep = get_req_anchors(anc_boxes_all, gt_bboxes_proj, gt_classes_all, pos_thresh, neg_thresh)\n"
      ]
    },
    {
      "cell_type": "code",
      "execution_count": null,
      "metadata": {
        "id": "Euzen8haC4hh"
      },
      "outputs": [],
      "source": [
        "# project anchor coords to the image space\n",
        "pos_anc_proj = project_bboxes(positive_anc_coords, width_scale_factor, height_scale_factor, mode='a2p')\n",
        "neg_anc_proj = project_bboxes(negative_anc_coords, width_scale_factor, height_scale_factor, mode='a2p')\n",
        "\n",
        "# grab +ve and -ve anchors for each image separately\n",
        "\n",
        "anc_idx_1 = torch.where(positive_anc_ind_sep == 0)[0]\n",
        "anc_idx_2 = torch.where(positive_anc_ind_sep == 1)[0]\n",
        "\n",
        "pos_anc_1 = pos_anc_proj[anc_idx_1]\n",
        "pos_anc_2 = pos_anc_proj[anc_idx_2]\n",
        "\n",
        "neg_anc_1 = neg_anc_proj[anc_idx_1]\n",
        "neg_anc_2 = neg_anc_proj[anc_idx_2]"
      ]
    },
    {
      "cell_type": "code",
      "execution_count": null,
      "metadata": {
        "id": "izSor4SeC59c"
      },
      "outputs": [],
      "source": [
        "nrows, ncols = (1, 2)\n",
        "fig, axes = plt.subplots(nrows, ncols, figsize=(16, 8))\n",
        "\n",
        "fig, axes = display_img(img_data_all, fig, axes)\n",
        "\n",
        "# plot groundtruth bboxes\n",
        "fig, _ = display_bbox(gt_bboxes_all[0], fig, axes[0])\n",
        "fig, _ = display_bbox(gt_bboxes_all[1], fig, axes[1])\n",
        "\n",
        "# plot positive anchor boxes\n",
        "fig, _ = display_bbox(pos_anc_1, fig, axes[0], color='g')\n",
        "fig, _ = display_bbox(pos_anc_2, fig, axes[1], color='g')\n",
        "\n",
        "# plot negative anchor boxes\n",
        "fig, _ = display_bbox(neg_anc_1, fig, axes[0], color='r')\n",
        "fig, _ = display_bbox(neg_anc_2, fig, axes[1], color='r')"
      ]
    },
    {
      "cell_type": "code",
      "execution_count": null,
      "metadata": {
        "id": "C1L_hUGCC-J_"
      },
      "outputs": [],
      "source": [
        "img_size = (img_height, img_width)\n",
        "out_size = (out_h, out_w)\n",
        "n_classes = len(name2idx) - 1 # exclude pad idx\n",
        "roi_size = (2, 2)\n",
        "\n",
        "detector = TwoStageDetector(img_size, out_size, out_c, n_classes, roi_size)"
      ]
    },
    {
      "cell_type": "code",
      "execution_count": null,
      "metadata": {
        "id": "TFwPGbtFD3vs"
      },
      "outputs": [],
      "source": [
        "total_loss = detector(img_batch, gt_bboxes_batch, gt_classes_batch)\n",
        "proposals_final, conf_scores_final, classes_final = detector.inference(img_batch)"
      ]
    },
    {
      "cell_type": "code",
      "execution_count": null,
      "metadata": {
        "id": "AWW646M8D5HP"
      },
      "outputs": [],
      "source": [
        "def training_loop(model, learning_rate, train_dataloader, n_epochs):\n",
        "    \n",
        "    optimizer = torch.optim.Adam(model.parameters(), lr=learning_rate)\n",
        "    \n",
        "    model.train()\n",
        "    loss_list = []\n",
        "    \n",
        "    for i in tqdm.tqdm(range(n_epochs)):\n",
        "        total_loss = 0\n",
        "        for img_batch, gt_bboxes_batch, gt_classes_batch in train_dataloader:\n",
        "            \n",
        "            # forward pass\n",
        "            loss = model(img_batch, gt_bboxes_batch, gt_classes_batch)\n",
        "            \n",
        "            # backpropagation\n",
        "            optimizer.zero_grad()\n",
        "            loss.backward()\n",
        "            optimizer.step()\n",
        "            \n",
        "            total_loss += loss.item()\n",
        "        \n",
        "        loss_list.append(total_loss)\n",
        "        \n",
        "    return loss_list"
      ]
    },
    {
      "cell_type": "code",
      "execution_count": null,
      "metadata": {
        "id": "MFnKE3neESZ5"
      },
      "outputs": [],
      "source": [
        "learning_rate = 1e-3\n",
        "n_epochs = 10\n",
        "\n",
        "loss_list = training_loop(detector, learning_rate, od_dataloader, n_epochs)"
      ]
    },
    {
      "cell_type": "code",
      "execution_count": null,
      "metadata": {
        "id": "n_dOW6SREUn2"
      },
      "outputs": [],
      "source": [
        "plt.plot(loss_list)"
      ]
    },
    {
      "cell_type": "code",
      "execution_count": null,
      "metadata": {
        "id": "ttsY5-kEEccw"
      },
      "outputs": [],
      "source": [
        "torch.save(detector.state_dict(), \"model.pt\")"
      ]
    },
    {
      "cell_type": "code",
      "execution_count": null,
      "metadata": {
        "id": "1wJXbPO5Eny_"
      },
      "outputs": [],
      "source": [
        "detector.eval()\n",
        "proposals_final, conf_scores_final, classes_final = detector.inference(img_batch, conf_thresh=0.99, nms_thresh=0.05)\n"
      ]
    },
    {
      "cell_type": "code",
      "execution_count": null,
      "metadata": {
        "id": "JXCX9h1QEnwj"
      },
      "outputs": [],
      "source": [
        "# project proposals to the image space\n",
        "prop_proj_1 = project_bboxes(proposals_final[0], width_scale_factor, height_scale_factor, mode='a2p')\n",
        "prop_proj_2 = project_bboxes(proposals_final[1], width_scale_factor, height_scale_factor, mode='a2p')\n",
        "\n",
        "# get classes\n",
        "classes_pred_1 = [idx2name[cls] for cls in classes_final[0].tolist()]\n",
        "classes_pred_2 = [idx2name[cls] for cls in classes_final[1].tolist()]"
      ]
    },
    {
      "cell_type": "code",
      "execution_count": null,
      "metadata": {
        "id": "l_f0DiBDEq1n"
      },
      "outputs": [],
      "source": [
        "nrows, ncols = (1, 2)\n",
        "fig, axes = plt.subplots(nrows, ncols, figsize=(16, 8))\n",
        "\n",
        "fig, axes = display_img(img_batch, fig, axes)\n",
        "fig, _ = display_bbox(prop_proj_1, fig, axes[0], classes=classes_pred_1)\n",
        "fig, _ = display_bbox(prop_proj_2, fig, axes[1], classes=classes_pred_2)"
      ]
    },
    {
      "cell_type": "code",
      "execution_count": null,
      "metadata": {
        "id": "mdLNbWebE8HN"
      },
      "outputs": [],
      "source": []
    },
    {
      "cell_type": "markdown",
      "metadata": {
        "id": "0TQlgZtkmDr9"
      },
      "source": [
        "#Part 1"
      ]
    },
    {
      "cell_type": "markdown",
      "metadata": {
        "id": "nAxvvKwygIzV"
      },
      "source": [
        "##Model"
      ]
    },
    {
      "cell_type": "code",
      "execution_count": null,
      "metadata": {
        "colab": {
          "base_uri": "https://localhost:8080/"
        },
        "id": "nme9tDNRfZg6",
        "outputId": "e4da7300-43aa-4224-8c4a-ba63b61c780c"
      },
      "outputs": [
        {
          "name": "stdout",
          "output_type": "stream",
          "text": [
            "Downloading data from https://storage.googleapis.com/tensorflow/keras-applications/vgg16/vgg16_weights_tf_dim_ordering_tf_kernels_notop.h5\n",
            "58889256/58889256 [==============================] - 0s 0us/step\n"
          ]
        }
      ],
      "source": [
        "num_classes = 1\n",
        "base_model = tf.keras.applications.VGG16(input_shape=[320, 320, 3], include_top=False)\n",
        "base_model.trainable = False\n",
        "\n",
        "# Define the RPN\n",
        "rpn_conv = tf.keras.layers.Conv2D(512, 3, padding='same', activation='relu', name='rpn_conv')\n",
        "rpn_cls  = tf.keras.layers.Conv2D(9 * 2, 1, name='rpn_cls')\n",
        "rpn_reg  = tf.keras.layers.Conv2D(9 * 4, 1, name='rpn_reg')\n",
        "\n",
        "# Define the RoI pooling layer\n",
        "roi_pooling = tf.keras.layers.Lambda(lambda x: tf.image.crop_and_resize(*x), name='roi_pooling')\n",
        "\n",
        "# Define the classifier\n",
        "classifier = tf.keras.Sequential([\n",
        "    tf.keras.layers.Flatten(),\n",
        "    tf.keras.layers.Dense(4096, activation='relu'),\n",
        "    tf.keras.layers.Dropout(0.5),\n",
        "    tf.keras.layers.Dense(4096, activation='relu'),\n",
        "    tf.keras.layers.Dropout(0.5),\n",
        "    tf.keras.layers.Dense(num_classes + 1)\n",
        "])\n",
        "regressor = tf.keras.Sequential([\n",
        "    tf.keras.layers.Flatten(),\n",
        "    tf.keras.layers.Dense(num_classes * 4)\n",
        "])"
      ]
    },
    {
      "cell_type": "code",
      "execution_count": null,
      "metadata": {
        "id": "CTditA8S-lK3"
      },
      "outputs": [],
      "source": [
        "# Define the complete Faster R-CNN model\n",
        "inputs = tf.keras.Input(shape=[None, None, 3])\n",
        "x = base_model(inputs)\n",
        "x_rpn_conv = rpn_conv(x)\n",
        "x_rpn_cls = rpn_cls(x_rpn_conv)\n",
        "x_rpn_reg = rpn_reg(x_rpn_conv)\n",
        "\n",
        "rpn = tf.keras.Model(inputs, [x_rpn_cls, x_rpn_reg])"
      ]
    },
    {
      "cell_type": "code",
      "execution_count": null,
      "metadata": {
        "colab": {
          "base_uri": "https://localhost:8080/"
        },
        "id": "awF1bfqugN_d",
        "outputId": "c149a0b0-2f91-4c53-cf0e-da292b709718"
      },
      "outputs": [
        {
          "data": {
            "text/plain": [
              "<KerasTensor: shape=(None, 10, 10, 512) dtype=float32 (created by layer 'vgg16')>"
            ]
          },
          "execution_count": 29,
          "metadata": {},
          "output_type": "execute_result"
        }
      ],
      "source": [
        "x_rpn_cls, x_rpn_reg\n",
        "x_rpn_conv\n",
        "x"
      ]
    },
    {
      "cell_type": "code",
      "execution_count": null,
      "metadata": {
        "id": "mhANZRWmQ_GJ"
      },
      "outputs": [],
      "source": [
        "def generate_anchors(base_size=16, ratios=[0.5, 1, 2], scales=[8, 16, 32]):\n",
        "    # Compute the base anchor\n",
        "    base_anchor = tf.constant([1, 1, base_size, base_size], dtype=tf.float32) - 1\n",
        "\n",
        "    # Compute the ratio anchors\n",
        "    ratio_anchors = _ratio_enum(base_anchor, ratios)\n",
        "\n",
        "    # Compute the scale anchors\n",
        "    anchors = tf.concat([_scale_enum(ratio_anchors[i, :], scales) for i in range(ratio_anchors.shape[0])], axis=0)\n",
        "    return anchors\n",
        "\n",
        "def _xy_to_whCenter(anchor):\n",
        "    #Xmin, Xmax, Ymin, Ymax ==> width, height, Xcenter, Ycenter\n",
        "    x1, y1, x2, y2 = anchor\n",
        "    w = x2 - x1 + 1\n",
        "    h = y2 - y1 + 1\n",
        "    x_ctr = x1 + (w-1)/2\n",
        "    y_ctr = y1 + (h-1)/2\n",
        "    return w, h, x_ctr, y_ctr\n",
        "\n",
        "\n",
        "def _mkanchors(ws , hs , x_ctr , y_ctr):\n",
        "# Given a vector of widths (ws) and heights (hs) around a center (x_ctr,y_ctr), output a set of anchors (windows).\n",
        "  ws=tf.reshape(ws , [-1 , 1])\n",
        "  hs=tf.reshape(hs , [-1 , 1])\n",
        "\n",
        "  anchors=tf.concat([x_ctr - 0.5 * (ws-1), y_ctr - 0.5 * (hs-1), x_ctr + 0.5 * (ws-1), y_ctr + 0.5 * (hs-1)],axis=-1)\n",
        "  return anchors\n",
        "\n",
        "def _ratio_enum(anchor, ratios):\n",
        "# Enumerate a set of anchors for each aspect ratio wrt an anchor.\n",
        "  w, h, x_ctr, y_ctr = _xy_to_whCenter(anchor)\n",
        "  size = w * h\n",
        "  size_ratios = size / ratios\n",
        "  ws = tf.round(tf.sqrt(size_ratios))\n",
        "  hs = ws * ratios\n",
        "  anchors=_mkanchors(ws , hs , x_ctr , y_ctr)\n",
        "  return anchors\n",
        "\n",
        "def _scale_enum(anchor,scales):\n",
        "# Enumerate a set of anchors for each scale wrt an anchor.\n",
        "  w, h, x_ctr, y_ctr=_xy_to_whCenter(anchor)\n",
        "  ws=w*scales \n",
        "  hs=h*scales \n",
        "  anchors=_mkanchors(ws , hs , x_ctr , y_ctr)\n",
        "  return anchors"
      ]
    },
    {
      "cell_type": "code",
      "execution_count": null,
      "metadata": {
        "colab": {
          "base_uri": "https://localhost:8080/"
        },
        "id": "YRzbO_740KzM",
        "outputId": "611b4f68-3a28-405c-edef-ce2226d1812f"
      },
      "outputs": [
        {
          "data": {
            "text/plain": [
              "<tf.Tensor: shape=(9, 4), dtype=float32, numpy=\n",
              "array([[ -84.,  -38.,   99.,   53.],\n",
              "       [-176.,  -84.,  191.,   99.],\n",
              "       [-360., -176.,  375.,  191.],\n",
              "       [ -56.,  -56.,   71.,   71.],\n",
              "       [-120., -120.,  135.,  135.],\n",
              "       [-248., -248.,  263.,  263.],\n",
              "       [ -36.,  -80.,   51.,   95.],\n",
              "       [ -80., -168.,   95.,  183.],\n",
              "       [-168., -344.,  183.,  359.]], dtype=float32)>"
            ]
          },
          "execution_count": 12,
          "metadata": {},
          "output_type": "execute_result"
        }
      ],
      "source": [
        "anchors = generate_anchors(base_size=16, ratios=[0.5, 1, 2], scales=[8, 16, 32])\n",
        "anchors"
      ]
    },
    {
      "cell_type": "code",
      "execution_count": null,
      "metadata": {
        "id": "v1TktM3lBIoQ"
      },
      "outputs": [],
      "source": [
        "def rpn_to_roi(rpn_cls, rpn_reg, anchors):\n",
        "    # Convert logits to probabilities\n",
        "    rpn_cls_prob = tf.nn.softmax(rpn_cls)\n",
        "\n",
        "    # Get the foreground probabilities for each anchor\n",
        "    fg_prob = rpn_cls_prob[..., 1]\n",
        "\n",
        "    # Decode the predicted bounding boxes\n",
        "    pred_boxes = decode_boxes(rpn_reg, anchors)\n",
        "\n",
        "    # Apply non-maximum suppression to remove overlapping boxes\n",
        "    indices = tf.image.non_max_suppression(pred_boxes, fg_prob,\n",
        "                                           max_output_size=2000,\n",
        "                                           iou_threshold=0.7)\n",
        "\n",
        "    rois = tf.gather(pred_boxes, indices)\n",
        "    \n",
        "    return rois\n",
        "    \n",
        "\n",
        "def decode_boxes(deltas, anchors):\n",
        "    # Compute the width and height of each anchor box\n",
        "    wa = anchors[..., 2] - anchors[..., 0]\n",
        "    ha = anchors[..., 3] - anchors[..., 1]\n",
        "\n",
        "    # Compute the center coordinates of each anchor box\n",
        "    xa = (anchors[..., 2] + anchors[..., 0]) / 2\n",
        "    ya = (anchors[..., 3] + anchors[..., 1]) / 2\n",
        "\n",
        "    # Decode the predicted bounding box deltas\n",
        "    ty = deltas[..., 0]\n",
        "    tx = deltas[..., 1]\n",
        "    th = deltas[..., 2]\n",
        "    tw = deltas[..., 3]\n",
        "    print(deltas[..., 3].shape)\n",
        "    w = tf.math.multiply(tf.math.exp(tw), wa)\n",
        "    h = tf.math.multiply(tf.math.exp(th), ha)\n",
        "\n",
        "    y = ty * ha + ya\n",
        "    x = tx * wa + xa\n",
        "\n",
        "    # Compute the coordinates of the decoded bounding boxes\n",
        "    y1=x-w/2 \n",
        "    x1=y-h/2 \n",
        "    y2=x+w/2 \n",
        "    x2=y+h/2 \n",
        "\n",
        "    return tf.stack([y1,x1,y2,x2],axis=-1)"
      ]
    },
    {
      "cell_type": "code",
      "execution_count": null,
      "metadata": {
        "id": "gXxIdkwJ-hnx"
      },
      "outputs": [],
      "source": [
        "rois = rpn_to_roi(x_rpn_cls, x_rpn_reg, anchors) # Generate RoIs using the RPN outputs\n",
        "\n",
        "pooled_rois = roi_pooling([x] + rois)\n",
        "\n",
        "cls_output = classifier(pooled_rois)\n",
        "reg_output = regressor(pooled_rois)\n",
        "\n",
        "faster_rcnn = tf.kers.Model(inputs, [cls_output, reg_output])"
      ]
    },
    {
      "cell_type": "code",
      "execution_count": null,
      "metadata": {
        "id": "kBk5d1Zsfewr"
      },
      "outputs": [],
      "source": [
        "rpn_reg[..., 0]"
      ]
    },
    {
      "cell_type": "code",
      "execution_count": null,
      "metadata": {
        "id": "kgD_p18Ufeud"
      },
      "outputs": [],
      "source": [
        "rpn_reg[..., 0]"
      ]
    },
    {
      "cell_type": "markdown",
      "metadata": {
        "id": "2MjsopT_fYLn"
      },
      "source": [
        "##Test"
      ]
    },
    {
      "cell_type": "code",
      "execution_count": null,
      "metadata": {
        "id": "6hTUCjgxkw9E"
      },
      "outputs": [],
      "source": [
        "import torch as tt\n",
        "import numpy as np\n",
        "from utils import array_tool as at\n",
        "from model.utils.bbox_tools import loc2bbox\n",
        "from torchvision.ops import nms\n",
        "\n",
        "from torch import nn\n",
        "from data.dataset import preprocess\n",
        "from torch.nn import functional as F\n",
        "from utils.config import opt\n",
        "\n",
        "\n",
        "def nograd(f):\n",
        "    def new_f(*args,**kwargs):\n",
        "        with t.no_grad():\n",
        "           return f(*args,**kwargs)\n",
        "    return new_f\n",
        "\n",
        "class FasterRCNN(nn.Module):HW image\n",
        "    def __init__(self, extractor, rpn, head,\n",
        "                loc_normalize_mean = (0., 0., 0., 0.),\n",
        "                loc_normalize_std = (0.1, 0.1, 0.2, 0.2)):\n",
        "      \n",
        "        super(FasterRCNN, self).__init__()\n",
        "        self.extractor = extractor\n",
        "        self.rpn = rpn\n",
        "        self.head = head\n",
        "\n",
        "        # mean and std\n",
        "        self.loc_normalize_mean = loc_normalize_mean\n",
        "        self.loc_normalize_std = loc_normalize_std\n",
        "        self.use_preset('evaluate')\n",
        "\n",
        "    @property\n",
        "    def n_class(self):\n",
        "        # Total number of classes including the background.\n",
        "        return self.head.n_class\n",
        "\n",
        "    def forward(self, x, scale=1.):\n",
        "        img_size = x.shape[2:]\n",
        "\n",
        "        h = self.extractor(x)\n",
        "        rpn_locs, rpn_scores, rois, roi_indices, anchor = \\\n",
        "            self.rpn(h, img_size, scale)\n",
        "        roi_cls_locs, roi_scores = self.head(\n",
        "            h, rois, roi_indices)\n",
        "        return roi_cls_locs, roi_scores, rois, roi_indices\n",
        "\n",
        "    def use_preset(self, preset):\n",
        "        if preset == 'visualize':\n",
        "            self.nms_thresh = 0.3\n",
        "            self.score_thresh = 0.7\n",
        "        elif preset == 'evaluate':\n",
        "            self.nms_thresh = 0.3\n",
        "            self.score_thresh = 0.05\n",
        "        else:\n",
        "            raise ValueError('preset must be visualize or evaluate')\n",
        "\n",
        "    def _suppress(self, raw_cls_bbox, raw_prob):\n",
        "        bbox = list()\n",
        "        label = list()\n",
        "        score = list()\n",
        "        # skip cls_id = 0 because it is the background class\n",
        "        for l in range(1, self.n_class):\n",
        "            cls_bbox_l = raw_cls_bbox.reshape((-1, self.n_class, 4))[:, l, :]\n",
        "            prob_l = raw_prob[:, l]\n",
        "            mask = prob_l > self.score_thresh\n",
        "            cls_bbox_l = cls_bbox_l[mask]\n",
        "            prob_l = prob_l[mask]\n",
        "            keep = nms(cls_bbox_l, prob_l,self.nms_thresh)\n",
        "            # import ipdb;ipdb.set_trace()\n",
        "            # keep = cp.asnumpy(keep)\n",
        "            bbox.append(cls_bbox_l[keep].cpu().numpy())\n",
        "            # The labels are in [0, self.n_class - 2].\n",
        "            label.append((l - 1) * np.ones((len(keep),)))\n",
        "            score.append(prob_l[keep].cpu().numpy())\n",
        "        bbox = np.concatenate(bbox, axis=0).astype(np.float32)\n",
        "        label = np.concatenate(label, axis=0).astype(np.int32)\n",
        "        score = np.concatenate(score, axis=0).astype(np.float32)\n",
        "        return bbox, label, score\n",
        "\n",
        "    @nograd\n",
        "    def predict(self, imgs,sizes=None,visualize=False):\n",
        "        self.eval()\n",
        "        if visualize:\n",
        "            self.use_preset('visualize')\n",
        "            prepared_imgs = list()\n",
        "            sizes = list()\n",
        "            for img in imgs:\n",
        "                size = img.shape[1:]\n",
        "                img = preprocess(at.tonumpy(img))\n",
        "                prepared_imgs.append(img)\n",
        "                sizes.append(size)\n",
        "        else:\n",
        "             prepared_imgs = imgs \n",
        "        bboxes = list()\n",
        "        labels = list()\n",
        "        scores = list()\n",
        "        for img, size in zip(prepared_imgs, sizes):\n",
        "            img = at.totensor(img[None]).float()\n",
        "            scale = img.shape[3] / size[1]\n",
        "            roi_cls_loc, roi_scores, rois, _ = self(img, scale=scale)\n",
        "            # We are assuming that batch size is 1.\n",
        "            roi_score = roi_scores.data\n",
        "            roi_cls_loc = roi_cls_loc.data\n",
        "            roi = at.totensor(rois) / scale\n",
        "\n",
        "            # Convert predictions to bounding boxes in image coordinates.\n",
        "            # Bounding boxes are scaled to the scale of the input images.\n",
        "            mean = t.Tensor(self.loc_normalize_mean).cuda(). \\\n",
        "                repeat(self.n_class)[None]\n",
        "            std = t.Tensor(self.loc_normalize_std).cuda(). \\\n",
        "                repeat(self.n_class)[None]\n",
        "\n",
        "            roi_cls_loc = (roi_cls_loc * std + mean)\n",
        "            roi_cls_loc = roi_cls_loc.view(-1, self.n_class, 4)\n",
        "            roi = roi.view(-1, 1, 4).expand_as(roi_cls_loc)\n",
        "            cls_bbox = loc2bbox(at.tonumpy(roi).reshape((-1, 4)),\n",
        "                                at.tonumpy(roi_cls_loc).reshape((-1, 4)))\n",
        "            cls_bbox = at.totensor(cls_bbox)\n",
        "            cls_bbox = cls_bbox.view(-1, self.n_class * 4)\n",
        "            # clip bounding box\n",
        "            cls_bbox[:, 0::2] = (cls_bbox[:, 0::2]).clamp(min=0, max=size[0])\n",
        "            cls_bbox[:, 1::2] = (cls_bbox[:, 1::2]).clamp(min=0, max=size[1])\n",
        "\n",
        "            prob = (F.softmax(at.totensor(roi_score), dim=1))\n",
        "\n",
        "            bbox, label, score = self._suppress(cls_bbox, prob)\n",
        "            bboxes.append(bbox)\n",
        "            labels.append(label)\n",
        "            scores.append(score)\n",
        "\n",
        "        self.use_preset('evaluate')\n",
        "        self.train()\n",
        "        return bboxes, labels, scores\n",
        "\n",
        "    def get_optimizer(self):\n",
        "        lr = opt.lr\n",
        "        params = []\n",
        "        for key, value in dict(self.named_parameters()).items():\n",
        "            if value.requires_grad:\n",
        "                if 'bias' in key:\n",
        "                    params += [{'params': [value], 'lr': lr * 2, 'weight_decay': 0}]\n",
        "                else:\n",
        "                    params += [{'params': [value], 'lr': lr, 'weight_decay': opt.weight_decay}]\n",
        "        if opt.use_adam:\n",
        "            self.optimizer = t.optim.Adam(params)\n",
        "        else:\n",
        "            self.optimizer = t.optim.SGD(params, momentum=0.9)\n",
        "        return self.optimizer\n",
        "\n",
        "    def scale_lr(self, decay=0.1):\n",
        "        for param_group in self.optimizer.param_groups:\n",
        "            param_group['lr'] *= decay\n",
        "        return self.optimizer"
      ]
    },
    {
      "cell_type": "code",
      "execution_count": null,
      "metadata": {
        "id": "t8APJat3pcCq"
      },
      "outputs": [],
      "source": [
        "import torch\n",
        "import torch.nn as nn\n",
        "import torch.nn.functional as F\n",
        "from torch.autograd import Variable\n",
        "from layers import *\n",
        "from data import voc, coco\n",
        "import os\n",
        "\n",
        "\n",
        "class SSD(nn.Module):\n",
        "\n",
        "    def __init__(self, phase, size, base, extras, head, num_classes):\n",
        "        super(SSD, self).__init__()\n",
        "        self.phase = phase\n",
        "        self.num_classes = num_classes\n",
        "        self.cfg = (coco, voc)[num_classes == 21]\n",
        "        self.priorbox = PriorBox(self.cfg)\n",
        "        self.priors = Variable(self.priorbox.forward(), volatile=True)\n",
        "        self.size = size\n",
        "\n",
        "        # SSD network\n",
        "        self.vgg = nn.ModuleList(base)\n",
        "        # Layer learns to scale the l2 normalized features from conv4_3\n",
        "        self.L2Norm = L2Norm(512, 20)\n",
        "        self.extras = nn.ModuleList(extras)\n",
        "\n",
        "        self.loc = nn.ModuleList(head[0])\n",
        "        self.conf = nn.ModuleList(head[1])\n",
        "\n",
        "        if phase == 'test':\n",
        "            self.softmax = nn.Softmax(dim=-1)\n",
        "            self.detect = Detect(num_classes, 0, 200, 0.01, 0.45)\n",
        "\n",
        "    def forward(self, x):\n",
        "        sources = list()\n",
        "        loc = list()\n",
        "        conf = list()\n",
        "\n",
        "        # apply vgg up to conv4_3 relu\n",
        "        for k in range(23):\n",
        "            x = self.vgg[k](x)\n",
        "\n",
        "        s = self.L2Norm(x)\n",
        "        sources.append(s)\n",
        "\n",
        "        # apply vgg up to fc7\n",
        "        for k in range(23, len(self.vgg)):\n",
        "            x = self.vgg[k](x)\n",
        "        sources.append(x)\n",
        "\n",
        "        # apply extra layers and cache source layer outputs\n",
        "        for k, v in enumerate(self.extras):\n",
        "            x = F.relu(v(x), inplace=True)\n",
        "            if k % 2 == 1:\n",
        "                sources.append(x)\n",
        "\n",
        "        # apply multibox head to source layers\n",
        "        for (x, l, c) in zip(sources, self.loc, self.conf):\n",
        "            loc.append(l(x).permute(0, 2, 3, 1).contiguous())\n",
        "            conf.append(c(x).permute(0, 2, 3, 1).contiguous())\n",
        "\n",
        "        loc = torch.cat([o.view(o.size(0), -1) for o in loc], 1)\n",
        "        conf = torch.cat([o.view(o.size(0), -1) for o in conf], 1)\n",
        "        if self.phase == \"test\":\n",
        "            output = self.detect(\n",
        "                loc.view(loc.size(0), -1, 4),                   # loc preds\n",
        "                self.softmax(conf.view(conf.size(0), -1,\n",
        "                             self.num_classes)),                # conf preds\n",
        "                self.priors.type(type(x.data))                  # default boxes\n",
        "            )\n",
        "        else:\n",
        "            output = (\n",
        "                loc.view(loc.size(0), -1, 4),\n",
        "                conf.view(conf.size(0), -1, self.num_classes),\n",
        "                self.priors\n",
        "            )\n",
        "        return output\n",
        "\n",
        "    def load_weights(self, base_file):\n",
        "        other, ext = os.path.splitext(base_file)\n",
        "        if ext == '.pkl' or '.pth':\n",
        "            print('Loading weights into state dict...')\n",
        "            self.load_state_dict(torch.load(base_file,\n",
        "                                 map_location=lambda storage, loc: storage))\n",
        "            print('Finished!')\n",
        "        else:\n",
        "            print('Sorry only .pth and .pkl files supported.')\n",
        "\n",
        "\n",
        "# This function is derived from torchvision VGG make_layers()\n",
        "# https://github.com/pytorch/vision/blob/master/torchvision/models/vgg.py\n",
        "def vgg(cfg, i, batch_norm=False):\n",
        "    layers = []\n",
        "    in_channels = i\n",
        "    for v in cfg:\n",
        "        if v == 'M':\n",
        "            layers += [nn.MaxPool2d(kernel_size=2, stride=2)]\n",
        "        elif v == 'C':\n",
        "            layers += [nn.MaxPool2d(kernel_size=2, stride=2, ceil_mode=True)]\n",
        "        else:\n",
        "            conv2d = nn.Conv2d(in_channels, v, kernel_size=3, padding=1)\n",
        "            if batch_norm:\n",
        "                layers += [conv2d, nn.BatchNorm2d(v), nn.ReLU(inplace=True)]\n",
        "            else:\n",
        "                layers += [conv2d, nn.ReLU(inplace=True)]\n",
        "            in_channels = v\n",
        "    pool5 = nn.MaxPool2d(kernel_size=3, stride=1, padding=1)\n",
        "    conv6 = nn.Conv2d(512, 1024, kernel_size=3, padding=6, dilation=6)\n",
        "    conv7 = nn.Conv2d(1024, 1024, kernel_size=1)\n",
        "    layers += [pool5, conv6,\n",
        "               nn.ReLU(inplace=True), conv7, nn.ReLU(inplace=True)]\n",
        "    return layers\n",
        "\n",
        "\n",
        "def add_extras(cfg, i, batch_norm=False):\n",
        "    # Extra layers added to VGG for feature scaling\n",
        "    layers = []\n",
        "    in_channels = i\n",
        "    flag = False\n",
        "    for k, v in enumerate(cfg):\n",
        "        if in_channels != 'S':\n",
        "            if v == 'S':\n",
        "                layers += [nn.Conv2d(in_channels, cfg[k + 1],\n",
        "                           kernel_size=(1, 3)[flag], stride=2, padding=1)]\n",
        "            else:\n",
        "                layers += [nn.Conv2d(in_channels, v, kernel_size=(1, 3)[flag])]\n",
        "            flag = not flag\n",
        "        in_channels = v\n",
        "    return layers\n",
        "\n",
        "\n",
        "def multibox(vgg, extra_layers, cfg, num_classes):\n",
        "    loc_layers = []\n",
        "    conf_layers = []\n",
        "    vgg_source = [21, -2]\n",
        "    for k, v in enumerate(vgg_source):\n",
        "        loc_layers += [nn.Conv2d(vgg[v].out_channels,\n",
        "                                 cfg[k] * 4, kernel_size=3, padding=1)]\n",
        "        conf_layers += [nn.Conv2d(vgg[v].out_channels,\n",
        "                        cfg[k] * num_classes, kernel_size=3, padding=1)]\n",
        "    for k, v in enumerate(extra_layers[1::2], 2):\n",
        "        loc_layers += [nn.Conv2d(v.out_channels, cfg[k]\n",
        "                                 * 4, kernel_size=3, padding=1)]\n",
        "        conf_layers += [nn.Conv2d(v.out_channels, cfg[k]\n",
        "                                  * num_classes, kernel_size=3, padding=1)]\n",
        "    return vgg, extra_layers, (loc_layers, conf_layers)\n",
        "\n",
        "\n",
        "base = {\n",
        "    '300': [64, 64, 'M', 128, 128, 'M', 256, 256, 256, 'C', 512, 512, 512, 'M',\n",
        "            512, 512, 512],\n",
        "    '512': [],\n",
        "}\n",
        "extras = {\n",
        "    '300': [256, 'S', 512, 128, 'S', 256, 128, 256, 128, 256],\n",
        "    '512': [],\n",
        "}\n",
        "mbox = {\n",
        "    '300': [4, 6, 6, 6, 4, 4],  # number of boxes per feature map location\n",
        "    '512': [],\n",
        "}\n",
        "\n",
        "\n",
        "def build_ssd(phase, size=300, num_classes=21):\n",
        "    if phase != \"test\" and phase != \"train\":\n",
        "        print(\"ERROR: Phase: \" + phase + \" not recognized\")\n",
        "        return\n",
        "    if size != 300:\n",
        "        print(\"ERROR: You specified size \" + repr(size) + \". However, \" +\n",
        "              \"currently only SSD300 (size=300) is supported!\")\n",
        "        return\n",
        "    base_, extras_, head_ = multibox(vgg(base[str(size)], 3),\n",
        "                                     add_extras(extras[str(size)], 1024),\n",
        "                                     mbox[str(size)], num_classes)\n",
        "    return SSD(phase, size, base_, extras_, head_, num_classes)"
      ]
    }
  ],
  "metadata": {
    "colab": {
      "collapsed_sections": [
        "FF2pFCXWgHC4",
        "M4qRG9egtwsK",
        "CVyQczF6VjNJ",
        "eAMvN1nEVZhZ",
        "vcSUf2pvWh4m",
        "KgHib0mggfhI",
        "0TQlgZtkmDr9"
      ],
      "provenance": [],
      "mount_file_id": "11_HGJnQcno3E-o1OioGQBwA6f_YItBbW",
      "authorship_tag": "ABX9TyMNLs8nfMq2pZjHvuqF4IcZ",
      "include_colab_link": true
    },
    "kernelspec": {
      "display_name": "Python 3",
      "name": "python3"
    },
    "language_info": {
      "name": "python"
    }
  },
  "nbformat": 4,
  "nbformat_minor": 0
}