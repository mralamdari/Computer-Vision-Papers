{
  "cells": [
    {
      "cell_type": "markdown",
      "metadata": {
        "id": "view-in-github",
        "colab_type": "text"
      },
      "source": [
        "<a href=\"https://colab.research.google.com/github/mralamdari/Computer-Vision-Papers/blob/main/Lane_Detection_on_CULane.ipynb\" target=\"_parent\"><img src=\"https://colab.research.google.com/assets/colab-badge.svg\" alt=\"Open In Colab\"/></a>"
      ]
    },
    {
      "cell_type": "markdown",
      "metadata": {
        "id": "npBzgTe6eYhK"
      },
      "source": [
        "#[Papers With Code: CULane](https://paperswithcode.com/sota/lane-detection-on-culane)"
      ]
    },
    {
      "cell_type": "markdown",
      "metadata": {
        "id": "Q7vTFXkXeldK"
      },
      "source": [
        "[dataset](https://paperswithcode.com/dataset/culane)\n",
        "\n",
        "\n",
        "https://drive.google.com/drive/folders/1mSLgwVTiaUMAb4AVOWwlCD5JcWdrwpvu\n",
        "\n",
        "\n",
        "[Kaggle](https://www.kaggle.com/datasets/greatgamedota/culane)"
      ]
    },
    {
      "cell_type": "code",
      "source": [
        "'اسپرت', 'اسپرت-جورابی', 'اسپرت-راحتی',\n",
        "        'اسپرت-پوتون', 'تابستانه', 'تابستانه-راحتی', 'تابستانه-راحتی-طبی',\n",
        "        'تابستانه-مجلسی', 'تابستانه-گوندرا', 'دمپایی', 'دمپایی-تابستانه',\n",
        "        'راحتی', 'راحتی-طبی', 'راحتی-مجلسی', 'ساقبلند', 'ساقبلند-مجلسی',\n",
        "        'طبی', 'طبی-راحتی', 'طبی-راحتی-اسپرت', 'مجلسی', 'مجلسی-تابستانه',\n",
        "        'پوتون', 'پوتون-اسپرت', 'پوتون-راحتی',\n",
        "        'کالج', 'گوندرا-طبی', 'گوندارا', 'گوندارا-اسپرت',\n",
        "        'گوندارا-تابستانه', 'گوندارا-راحتی', 'گوندارا-ساقدار',\n",
        "        'گوندارا-طبی', 'گوندارا-مجلسی', 'گوندارا-کالج'"
      ],
      "metadata": {
        "id": "NVyRhmgBgg_d"
      },
      "execution_count": null,
      "outputs": []
    },
    {
      "cell_type": "code",
      "execution_count": null,
      "metadata": {
        "id": "HuHWOyYbFCoa"
      },
      "outputs": [],
      "source": [
        "import os\n",
        "import cv2\n",
        "import PIL\n",
        "import tqdm\n",
        "import IPython\n",
        "import numpy as np\n",
        "import pandas as pd\n",
        "import tensorflow as tf\n",
        "import matplotlib.pyplot as plt\n",
        "from sklearn import preprocessing\n",
        "from sklearn import model_selection"
      ]
    },
    {
      "cell_type": "code",
      "source": [
        "from google.colab import drive\n",
        "drive.mount('/content/drive')"
      ],
      "metadata": {
        "colab": {
          "base_uri": "https://localhost:8080/"
        },
        "id": "Mal6wHPSliVg",
        "outputId": "48bf1f58-6e7b-49a2-eefe-1bde210f005e"
      },
      "execution_count": null,
      "outputs": [
        {
          "output_type": "stream",
          "name": "stdout",
          "text": [
            "Mounted at /content/drive\n"
          ]
        }
      ]
    },
    {
      "cell_type": "code",
      "execution_count": null,
      "metadata": {
        "id": "uvu83wwCeQns"
      },
      "outputs": [],
      "source": [
        "os.environ['KAGGLE_CONFIG_DIR'] = './drive/MyDrive/'\n",
        "!kaggle datasets download -d greatgamedota/culane\n",
        "!unzip \\*.zip && rm *.zip\n",
        "IPython.display.clear_output()"
      ]
    },
    {
      "cell_type": "code",
      "source": [
        "EPOCHS = 10\n",
        "NUM_CLASSES = 5\n",
        "BATCH_SIZE = 32\n",
        "IMAGE_SIZE = (256, 256)\n",
        "\n",
        "# USE ********** sorted ********** NECESSARY\n",
        "image_files = sorted(tf.io.gfile.glob('./driver_161_90frame/*/*.jpg'))\n",
        "mask_files = sorted(tf.io.gfile.glob('./driver_161_90frame_labels/*/*.png'))\n",
        "\n",
        "imagePath_df = pd.DataFrame({'image-path': image_files, 'mask-path': mask_files})\n",
        "print('The classes of the mask images: ',np.unique(tf.keras.utils.load_img(mask_files[0])))\n",
        "print(f'So We have {len(np.unique(tf.keras.utils.load_img(mask_files[0])))} CLASSES')\n",
        "imagePath_df.head()"
      ],
      "metadata": {
        "id": "0gEe9yyOfuN1"
      },
      "execution_count": null,
      "outputs": []
    },
    {
      "cell_type": "markdown",
      "source": [
        "###What does one input image and corresponding segmentation mask look like?"
      ],
      "metadata": {
        "id": "APFKozL57d0v"
      }
    },
    {
      "cell_type": "code",
      "source": [
        "N = np.random.randint(0, len(image_files))\n",
        "IPython.display.display(IPython.display.Image(filename=image_files[N]))\n",
        "\n",
        "img = PIL.ImageOps.autocontrast(tf.keras.utils.load_img(mask_files[N]))\n",
        "IPython.display.display(img)"
      ],
      "metadata": {
        "id": "4rKC4nHQ7b5T"
      },
      "execution_count": null,
      "outputs": []
    },
    {
      "cell_type": "code",
      "source": [
        "def data_augmentation(input_data, target_data):\n",
        "    if tf.random.uniform(()) > 0.5:#brightness\n",
        "        input_data = tf.image.adjust_brightness(input_data, 0.1)\n",
        "    if tf.random.uniform(()) > 0.5:#gamma\n",
        "        input_data = tf.image.adjust_gamma(input_data, 0.1)\n",
        "    if tf.random.uniform(()) > 0.5:#hue\n",
        "        input_data = tf.image.adjust_hue(input_data, -0.1)\n",
        "    return input_data, target_data"
      ],
      "metadata": {
        "id": "jXY-spw0EWPz"
      },
      "execution_count": null,
      "outputs": []
    },
    {
      "cell_type": "code",
      "source": [
        "def load_img_masks(input_img_path, target_img_path):\n",
        "  input_img = tf.io.read_file(input_img_path)\n",
        "  input_img = tf.io.decode_png(input_img, channels=3)\n",
        "  input_img = tf.image.resize(input_img, IMAGE_SIZE)\n",
        "  input_img = tf.image.convert_image_dtype(input_img, \"float32\")\n",
        "\n",
        "    # mask_path = tf.strings.regex_replace(img_path, \"driver_161_90frame\", \"driver_161_90frame_labels\")\n",
        "    # mask_path = tf.strings.regex_replace(mask_path, \"jpg\", \"png\")\n",
        "\n",
        "  target_img = tf.io.read_file(target_img_path)\n",
        "  target_img = tf.io.decode_png(target_img, channels=1)\n",
        "  target_img = tf.image.resize(target_img, IMAGE_SIZE, method=\"nearest\")\n",
        "  target_img = tf.image.convert_image_dtype(target_img, \"uint8\")\n",
        "  # Ground truth labels if are 1, 2, 3. Subtract one to make them 0, 1, 2:\n",
        "  # target_img -= 1\n",
        "  return input_img, target_img"
      ],
      "metadata": {
        "id": "m5e2Z5lBEXkP"
      },
      "execution_count": null,
      "outputs": []
    },
    {
      "cell_type": "code",
      "source": [
        "#SPLIT && SHUFFLE\n",
        "train_image, val_image, train_mask, val_mask = model_selection.train_test_split(image_files, mask_files, test_size=0.2, random_state=32, shuffle=True)\n",
        "\n",
        "#TRAIN DATASET\n",
        "train_dataset = tf.data.Dataset.from_tensor_slices((train_image, train_mask))\n",
        "train_dataset = train_dataset.cache()\n",
        "# train_dataset = train_dataset.shuffle(buffer_size=tf.data.AUTOTUNE, seed=32)\n",
        "# train_dataset = train_dataset.repeat()\n",
        "train_dataset = train_dataset.map(load_img_masks, num_parallel_calls=tf.data.AUTOTUNE)\n",
        "train_dataset = train_dataset.map(data_augmentation, num_parallel_calls=tf.data.AUTOTUNE)\n",
        "train_dataset = train_dataset.batch(BATCH_SIZE)\n",
        "train_dataset = train_dataset.prefetch(buffer_size=tf.data.AUTOTUNE)\n",
        "\n",
        "#VALIDATION DATASET\n",
        "valid_dataset = tf.data.Dataset.from_tensor_slices((val_image, val_mask))\n",
        "valid_dataset = valid_dataset.cache()\n",
        "# valid_dataset = valid_dataset.shuffle(buffer_size=tf.data.AUTOTUNE, seed=32)\n",
        "# valid_dataset = valid_dataset.repeat()\n",
        "valid_dataset = valid_dataset.map(load_img_masks, num_parallel_calls=tf.data.AUTOTUNE)\n",
        "valid_dataset = valid_dataset.batch(BATCH_SIZE)\n",
        "valid_dataset = valid_dataset.prefetch(buffer_size=tf.data.AUTOTUNE)"
      ],
      "metadata": {
        "id": "osXXrg7S-nIH"
      },
      "execution_count": null,
      "outputs": []
    },
    {
      "cell_type": "code",
      "source": [
        "def get_model(img_size, num_classes):\n",
        "    inputs = tf.keras.Input(shape=img_size + (3,))\n",
        "\n",
        "    ### [First half of the network: downsampling inputs] ###\n",
        "\n",
        "    # Entry block\n",
        "    x = tf.keras.layers.Conv2D(32, 3, strides=2, padding=\"same\")(inputs)\n",
        "    x = tf.keras.layers.BatchNormalization()(x)\n",
        "    x = tf.keras.layers.Activation(\"relu\")(x)\n",
        "\n",
        "    prev_block = x  # Set aside residual\n",
        "\n",
        "    # Blocks 1, 2, 3 are identical apart from the feature depth.\n",
        "    for filters in [64, 128, 256]:\n",
        "        x = tf.keras.layers.Activation(\"relu\")(x)\n",
        "        x = tf.keras.layers.SeparableConv2D(filters, 3, padding=\"same\")(x)\n",
        "        x = tf.keras.layers.BatchNormalization()(x)\n",
        "\n",
        "        x = tf.keras.layers.Activation(\"relu\")(x)\n",
        "        x = tf.keras.layers.SeparableConv2D(filters, 3, padding=\"same\")(x)\n",
        "        x = tf.keras.layers.BatchNormalization()(x)\n",
        "\n",
        "        x = tf.keras.layers.MaxPooling2D(3, strides=2, padding=\"same\")(x)\n",
        "\n",
        "        # Project residual\n",
        "        residual = tf.keras.layers.Conv2D(filters, 1, strides=2, padding=\"same\")(prev_block)\n",
        "\n",
        "        x = tf.keras.layers.add([x, residual])  # Add back residual\n",
        "        prev_block = x  # Set aside next residual\n",
        "\n",
        "    ### [Second half of the network: upsampling inputs] ###\n",
        "\n",
        "    for filters in [256, 128, 64, 32]:\n",
        "        x = tf.keras.layers.Activation(\"relu\")(x)\n",
        "        x = tf.keras.layers.Conv2DTranspose(filters, 3, padding=\"same\")(x)\n",
        "        x = tf.keras.layers.BatchNormalization()(x)\n",
        "\n",
        "        x = tf.keras.layers.Activation(\"relu\")(x)\n",
        "        x = tf.keras.layers.Conv2DTranspose(filters, 3, padding=\"same\")(x)\n",
        "        x = tf.keras.layers.BatchNormalization()(x)\n",
        "\n",
        "        x = tf.keras.layers.UpSampling2D(2)(x)\n",
        "\n",
        "        # Project residual\n",
        "        residual = tf.keras.layers.UpSampling2D(2)(prev_block)\n",
        "        residual = tf.keras.layers.Conv2D(filters, 1, padding=\"same\")(residual)\n",
        "        x = tf.keras.layers.add([x, residual])  # Add back residual\n",
        "        prev_block = x  # Set aside next residual\n",
        "\n",
        "    # Add a per-pixel classification layer\n",
        "    outputs = tf.keras.layers.Conv2D(num_classes, 3, activation=\"softmax\", padding=\"same\")(x)\n",
        "\n",
        "    # Define the model\n",
        "    model = tf.keras.Model(inputs, outputs)\n",
        "    return model\n",
        "\n",
        "\n",
        "# Build model\n",
        "model = get_model(IMAGE_SIZE, NUM_CLASSES)\n",
        "model.summary()"
      ],
      "metadata": {
        "id": "zXaFh0vB9uU1"
      },
      "execution_count": null,
      "outputs": []
    },
    {
      "cell_type": "code",
      "source": [
        "model.compile(\n",
        "    optimizer=tf.keras.optimizers.Adam(1e-4),\n",
        "    loss=tf.keras.losses.SparseCategoricalCrossentropy(),\n",
        "    metrics=['accuracy']\n",
        ")\n",
        "\n",
        "callbacks = [\n",
        "    tf.keras.callbacks.EarlyStopping(patience=10, verbose=1),\n",
        "    tf.keras.callbacks.ReduceLROnPlateau(factor=0.1, patience=5, min_lr=1e-5, verbose=1),\n",
        "    tf.keras.callbacks.ModelCheckpoint('/content/drive/MyDrive/model-brain-mri.h5', verbose=1, save_best_only=True, save_weights_only=True)\n",
        "]"
      ],
      "metadata": {
        "id": "9VYOxVMwikvk"
      },
      "execution_count": null,
      "outputs": []
    },
    {
      "cell_type": "code",
      "source": [
        "history = model.fit(train_dataset,\n",
        "                    epochs=10,\n",
        "                    validation_data=valid_dataset,\n",
        "                    callbacks=callbacks,\n",
        "                    verbose=2)"
      ],
      "metadata": {
        "colab": {
          "base_uri": "https://localhost:8080/"
        },
        "id": "w6bZUoazjH2r",
        "outputId": "fb2173a9-ffbc-4949-bc96-2311c75cf4fb"
      },
      "execution_count": null,
      "outputs": [
        {
          "output_type": "stream",
          "name": "stdout",
          "text": [
            "Epoch 1/10\n",
            "\n",
            "Epoch 1: val_loss improved from inf to 0.17649, saving model to model-brain-mri.h5\n",
            "456/456 - 295s - loss: 0.1804 - accuracy: 0.9668 - val_loss: 0.1765 - val_accuracy: 0.9752 - lr: 1.0000e-04 - 295s/epoch - 646ms/step\n",
            "Epoch 2/10\n",
            "\n",
            "Epoch 2: val_loss improved from 0.17649 to 0.09483, saving model to model-brain-mri.h5\n",
            "456/456 - 250s - loss: 0.1036 - accuracy: 0.9736 - val_loss: 0.0948 - val_accuracy: 0.9715 - lr: 1.0000e-04 - 250s/epoch - 549ms/step\n",
            "Epoch 3/10\n",
            "\n",
            "Epoch 3: val_loss improved from 0.09483 to 0.08532, saving model to model-brain-mri.h5\n",
            "456/456 - 236s - loss: 0.0920 - accuracy: 0.9740 - val_loss: 0.0853 - val_accuracy: 0.9737 - lr: 1.0000e-04 - 236s/epoch - 518ms/step\n",
            "Epoch 4/10\n",
            "\n",
            "Epoch 4: val_loss improved from 0.08532 to 0.07954, saving model to model-brain-mri.h5\n",
            "456/456 - 237s - loss: 0.0849 - accuracy: 0.9744 - val_loss: 0.0795 - val_accuracy: 0.9744 - lr: 1.0000e-04 - 237s/epoch - 519ms/step\n",
            "Epoch 5/10\n",
            "\n",
            "Epoch 5: val_loss improved from 0.07954 to 0.07622, saving model to model-brain-mri.h5\n",
            "456/456 - 229s - loss: 0.0815 - accuracy: 0.9746 - val_loss: 0.0762 - val_accuracy: 0.9749 - lr: 1.0000e-04 - 229s/epoch - 503ms/step\n",
            "Epoch 6/10\n",
            "\n",
            "Epoch 6: val_loss improved from 0.07622 to 0.07331, saving model to model-brain-mri.h5\n",
            "456/456 - 232s - loss: 0.0790 - accuracy: 0.9749 - val_loss: 0.0733 - val_accuracy: 0.9755 - lr: 1.0000e-04 - 232s/epoch - 508ms/step\n",
            "Epoch 7/10\n",
            "\n",
            "Epoch 7: val_loss improved from 0.07331 to 0.07101, saving model to model-brain-mri.h5\n",
            "456/456 - 241s - loss: 0.0772 - accuracy: 0.9751 - val_loss: 0.0710 - val_accuracy: 0.9757 - lr: 1.0000e-04 - 241s/epoch - 528ms/step\n",
            "Epoch 8/10\n",
            "\n",
            "Epoch 8: val_loss improved from 0.07101 to 0.06914, saving model to model-brain-mri.h5\n",
            "456/456 - 232s - loss: 0.0758 - accuracy: 0.9753 - val_loss: 0.0691 - val_accuracy: 0.9763 - lr: 1.0000e-04 - 232s/epoch - 508ms/step\n",
            "Epoch 9/10\n",
            "\n",
            "Epoch 9: val_loss improved from 0.06914 to 0.06684, saving model to model-brain-mri.h5\n",
            "456/456 - 231s - loss: 0.0745 - accuracy: 0.9756 - val_loss: 0.0668 - val_accuracy: 0.9767 - lr: 1.0000e-04 - 231s/epoch - 507ms/step\n",
            "Epoch 10/10\n",
            "\n",
            "Epoch 10: val_loss improved from 0.06684 to 0.06505, saving model to model-brain-mri.h5\n",
            "456/456 - 240s - loss: 0.0733 - accuracy: 0.9758 - val_loss: 0.0651 - val_accuracy: 0.9773 - lr: 1.0000e-04 - 240s/epoch - 527ms/step\n"
          ]
        }
      ]
    },
    {
      "cell_type": "code",
      "source": [
        "plt.figure(1)\n",
        "plt.plot(history.history['loss'],'b-', label='loss')\n",
        "plt.plot(history.history['val_loss'], 'r-', label='valid_loss')\n",
        "plt.xlabel('Iteration')\n",
        "plt.ylabel('Loss')\n",
        "plt.title('Loss (1-Dice)', fontsize = 15)\n",
        "plt.legend()\n",
        "\n",
        "plt.figure(2)\n",
        "plt.plot(history.history['accuracy'], 'b-', label='accuracy')\n",
        "plt.plot(history.history['val_accuracy'], 'r-', label='valid_accuracy')\n",
        "plt.xlabel('Iteration')\n",
        "plt.ylabel('accuracy')\n",
        "plt.title('accuracy', fontsize = 15)\n",
        "plt.legend()\n",
        "plt.show()"
      ],
      "metadata": {
        "id": "nzmPKcE7kgyN",
        "colab": {
          "base_uri": "https://localhost:8080/",
          "height": 931
        },
        "outputId": "4dec3c6a-3b15-40d1-8b67-6669a1fe6e32"
      },
      "execution_count": null,
      "outputs": [
        {
          "output_type": "display_data",
          "data": {
            "text/plain": [
              "<Figure size 640x480 with 1 Axes>"
            ],
            "image/png": "[encoded data removed]"
          },
          "metadata": {}
        },
        {
          "output_type": "display_data",
          "data": {
            "text/plain": [
              "<Figure size 640x480 with 1 Axes>"
            ],
            "image/png": "[encoded data removed]"
          },
          "metadata": {}
        }
      ]
    },
    {
      "cell_type": "markdown",
      "source": [
        "### Visualize predictions"
      ],
      "metadata": {
        "id": "64Uy9pRNPWjQ"
      }
    },
    {
      "cell_type": "code",
      "source": [
        "# Generate predictions for all images in the validation set\n",
        "val_preds = model.predict(valid_dataset)"
      ],
      "metadata": {
        "id": "icUyDEAPbAJx"
      },
      "execution_count": null,
      "outputs": []
    },
    {
      "cell_type": "code",
      "source": [
        "def display_mask(i):\n",
        "    \"\"\"Quick utility to display a model's prediction.\"\"\"\n",
        "    img = np.argmax(val_preds[i], axis=-1)\n",
        "    H, W = np.array(tf.keras.utils.load_img(val_mask[i])).shape[:-1]\n",
        "    img = cv2.resize(img, (W, H))\n",
        "    img = np.expand_dims(img, axis=-1)\n",
        "    img = tf.keras.utils.array_to_img(img)\n",
        "    img = PIL.ImageOps.autocontrast(img)\n",
        "    display(img)\n",
        "\n",
        "\n",
        "# Display results for validation image #10\n",
        "i = np.random.randint(len(valid_dataset))\n",
        "\n",
        "# Display input image\n",
        "IPython.display.display(IPython.display.Image(filename=val_image[i]))\n",
        "\n",
        "# Display ground-truth target mask\n",
        "img = PIL.ImageOps.autocontrast(tf.keras.utils.load_img(val_mask[i]))\n",
        "IPython.display.display(img)\n",
        "\n",
        "# Display mask predicted by our model\n",
        "display_mask(i)  # Note that the model only sees inputs at 150x150."
      ],
      "metadata": {
        "id": "PwL2AkyePU3u"
      },
      "execution_count": null,
      "outputs": []
    },
    {
      "cell_type": "markdown",
      "metadata": {
        "id": "QzW4oNRjILaq"
      },
      "source": [
        "# Optional: Deployment to TensorFlow Lite\n",
        "\n",
        "[TensorFlow Lite](https://www.tensorflow.org/lite) lets you deploy TensorFlow models to mobile and IoT devices. The code below shows how to convert the trained model to TFLite and apply post-training tools from the [TensorFlow Model Optimization Toolkit](https://www.tensorflow.org/model_optimization). Finally, it runs it in the TFLite Interpreter to examine the resulting quality\n",
        "\n",
        "  * Converting without optimization provides the same results as before (up to roundoff error).\n",
        "  * Converting with optimization without any data quantizes the model weights to 8 bits, but inference still uses floating-point computation for the neural network activations. This reduces model size almost by a factor of 4 and improves CPU latency on mobile devices.\n",
        "  * On top, computation of the neural network activations can be quantized to 8-bit integers as well if a small reference dataset is provided to calibrate the quantization range. On a mobile device, this accelerates inference further and makes it possible to run on accelerators like Edge TPU."
      ]
    },
    {
      "cell_type": "code",
      "execution_count": null,
      "metadata": {
        "id": "Va1Vo92fSyV6"
      },
      "outputs": [],
      "source": [
        "#@title Optimization settings\n",
        "optimize_lite_model = False  #param {type:\"boolean\"}\n",
        "#markdown Setting a value greater than zero enables quantization of neural network activations. A few dozen is already a useful amount.\n",
        "num_calibration_examples = 60 #param {type:\"slider\", min:0, max:1000, step:1}\n",
        "representative_dataset = None\n",
        "if optimize_lite_model and num_calibration_examples:\n",
        "  # Use a bounded number of training examples without labels for calibration.\n",
        "  # TFLiteConverter expects a list of input tensors, each with batch size 1.\n",
        "  representative_dataset = lambda: itertools.islice(\n",
        "      ([image[None, ...]] for batch, _ in train_ds for image in batch),\n",
        "      num_calibration_examples)\n",
        "\n",
        "converter = tf.lite.TFLiteConverter.from_saved_model(saved_model_path)\n",
        "if optimize_lite_model:\n",
        "  converter.optimizations = [tf.lite.Optimize.DEFAULT]\n",
        "  if representative_dataset:  # This is optional, see above.\n",
        "    converter.representative_dataset = representative_dataset\n",
        "lite_model_content = converter.convert()\n",
        "\n",
        "with open(f\"/tmp/lite_flowers_model_{model_name}.tflite\", \"wb\") as f:\n",
        "  f.write(lite_model_content)\n",
        "print(\"Wrote %sTFLite model of %d bytes.\" %\n",
        "      (\"optimized \" if optimize_lite_model else \"\", len(lite_model_content)))"
      ]
    },
    {
      "cell_type": "code",
      "execution_count": null,
      "metadata": {
        "id": "_wqEmD0xIqeG"
      },
      "outputs": [],
      "source": [
        "interpreter = tf.lite.Interpreter(model_content=lite_model_content)\n",
        "# This little helper wraps the TFLite Interpreter as a numpy-to-numpy function.\n",
        "def lite_model(images):\n",
        "  interpreter.allocate_tensors()\n",
        "  interpreter.set_tensor(interpreter.get_input_details()[0]['index'], images)\n",
        "  interpreter.invoke()\n",
        "  return interpreter.get_tensor(interpreter.get_output_details()[0]['index'])"
      ]
    },
    {
      "cell_type": "code",
      "execution_count": null,
      "metadata": {
        "id": "JMMK-fZrKrk8"
      },
      "outputs": [],
      "source": [
        "#markdown For rapid experimentation, start with a moderate number of examples.\n",
        "# num_eval_examples = 50  #param {type:\"slider\", min:0, max:700}\n",
        "eval_dataset = ((image, label)  # TFLite expects batch size 1.\n",
        "                for batch in train_ds\n",
        "                for (image, label) in zip(*batch))\n",
        "count = 0\n",
        "count_lite_tf_agree = 0\n",
        "count_lite_correct = 0\n",
        "for image, label in eval_dataset:\n",
        "  probs_lite = lite_model(image[None, ...])[0]\n",
        "  probs_tf = model(image[None, ...]).numpy()[0]\n",
        "  y_lite = np.argmax(probs_lite)\n",
        "  y_tf = np.argmax(probs_tf)\n",
        "  y_true = np.argmax(label)\n",
        "  count +=1\n",
        "  if y_lite == y_tf: count_lite_tf_agree += 1\n",
        "  if y_lite == y_true: count_lite_correct += 1\n",
        "  if count >= num_eval_examples: break\n",
        "print(\"TFLite model agrees with original model on %d of %d examples (%g%%).\" %\n",
        "      (count_lite_tf_agree, count, 100.0 * count_lite_tf_agree / count))\n",
        "print(\"TFLite model is accurate on %d of %d examples (%g%%).\" %\n",
        "      (count_lite_correct, count, 100.0 * count_lite_correct / count))"
      ]
    },
    {
      "cell_type": "markdown",
      "metadata": {
        "id": "QAwvlgSNoK3o"
      },
      "source": [
        "## Optional: Imbalanced classes and class weights"
      ]
    },
    {
      "cell_type": "markdown",
      "metadata": {
        "id": "eqtFPqqu2kxP"
      },
      "source": [
        "Semantic segmentation datasets can be highly imbalanced meaning that particular class pixels can be present more inside images than that of other classes. Since segmentation problems can be treated as per-pixel classification problems, you can deal with the imbalance problem by weighing the loss function to account for this. It's a simple and elegant way to deal with this problem. Refer to the [Classification on imbalanced data](../structured_data/imbalanced_data.ipynb) tutorial to learn more.\n",
        "\n",
        "To [avoid ambiguity](https://github.com/keras-team/keras/issues/3653#issuecomment-243939748), `Model.fit` does not support the `class_weight` argument for targets with 3+ dimensions."
      ]
    },
    {
      "cell_type": "code",
      "execution_count": null,
      "metadata": {
        "id": "aHt90UEQsZDn"
      },
      "outputs": [],
      "source": [
        "try:\n",
        "  model_history = model.fit(train_batches, epochs=EPOCHS,\n",
        "                            steps_per_epoch=STEPS_PER_EPOCH,\n",
        "                            class_weight = {0:2.0, 1:2.0, 2:1.0})\n",
        "  assert False\n",
        "except Exception as e:\n",
        "  print(f\"Expected {type(e).__name__}: {e}\")"
      ]
    },
    {
      "cell_type": "markdown",
      "metadata": {
        "id": "brbhYODCsvbe"
      },
      "source": [
        "So, in this case you need to implement the weighting yourself. You'll do this using sample weights: In addition to `(data, label)` pairs, `Model.fit` also accepts `(data, label, sample_weight)` triples.\n",
        "\n",
        "Keras `Model.fit` propagates the `sample_weight` to the losses and metrics, which also accept a `sample_weight` argument. The sample weight is multiplied by the sample's value before the reduction step. For example:"
      ]
    },
    {
      "cell_type": "code",
      "execution_count": null,
      "metadata": {
        "id": "EmHtImJn5Kk-"
      },
      "outputs": [],
      "source": [
        "label = [0,0]\n",
        "prediction = [[-3., 0], [-3, 0]]\n",
        "sample_weight = [1, 10]\n",
        "\n",
        "loss = tf.keras.losses.SparseCategoricalCrossentropy(from_logits=True,\n",
        "                                               reduction=tf.keras.losses.Reduction.NONE)\n",
        "loss(label, prediction, sample_weight).numpy()"
      ]
    },
    {
      "cell_type": "markdown",
      "metadata": {
        "id": "Gbwo3DZ-9TxM"
      },
      "source": [
        "So, to make sample weights for this tutorial, you need a function that takes a `(data, label)` pair and returns a `(data, label, sample_weight)` triple where the `sample_weight` is a 1-channel image containing the class weight for each pixel.\n",
        "\n",
        "The simplest possible implementation is to use the label as an index into a `class_weight` list:"
      ]
    },
    {
      "cell_type": "code",
      "execution_count": null,
      "metadata": {
        "id": "DlG-n2Ugo8Jc"
      },
      "outputs": [],
      "source": [
        "def add_sample_weights(image, label):\n",
        "  # The weights for each class, with the constraint that:\n",
        "  #     sum(class_weights) == 1.0\n",
        "  class_weights = tf.constant([2.0, 2.0, 1.0])\n",
        "  class_weights = class_weights/tf.reduce_sum(class_weights)\n",
        "\n",
        "  # Create an image of `sample_weights` by using the label at each pixel as an\n",
        "  # index into the `class weights` .\n",
        "  sample_weights = tf.gather(class_weights, indices=tf.cast(label, tf.int32))\n",
        "\n",
        "  return image, label, sample_weights"
      ]
    },
    {
      "cell_type": "markdown",
      "metadata": {
        "id": "hLH_NvH2UrXU"
      },
      "source": [
        "The resulting dataset elements contain 3 images each:"
      ]
    },
    {
      "cell_type": "code",
      "execution_count": null,
      "metadata": {
        "id": "SE_ezRSFRCnE"
      },
      "outputs": [],
      "source": [
        "train_batches.map(add_sample_weights).element_spec"
      ]
    },
    {
      "cell_type": "markdown",
      "metadata": {
        "id": "Yc-EpIzaRbSL"
      },
      "source": [
        "Now, you can train a model on this weighted dataset:"
      ]
    },
    {
      "cell_type": "code",
      "execution_count": null,
      "metadata": {
        "id": "QDWipedAoOQe"
      },
      "outputs": [],
      "source": [
        "weighted_model = unet_model(OUTPUT_CLASSES)\n",
        "weighted_model.compile(\n",
        "    optimizer='adam',\n",
        "    loss=tf.keras.losses.SparseCategoricalCrossentropy(from_logits=True),\n",
        "    metrics=['accuracy'])"
      ]
    },
    {
      "cell_type": "code",
      "execution_count": null,
      "metadata": {
        "id": "btEFKc1xodGR"
      },
      "outputs": [],
      "source": [
        "weighted_model.fit(\n",
        "    train_batches.map(add_sample_weights),\n",
        "    epochs=1,\n",
        "    steps_per_epoch=10)"
      ]
    }
  ],
  "metadata": {
    "colab": {
      "collapsed_sections": [
        "QzW4oNRjILaq"
      ],
      "provenance": [],
      "gpuType": "T4",
      "include_colab_link": true
    },
    "kernelspec": {
      "display_name": "Python 3",
      "name": "python3"
    },
    "language_info": {
      "name": "python"
    },
    "accelerator": "GPU"
  },
  "nbformat": 4,
  "nbformat_minor": 0
}