{
  "nbformat": 4,
  "nbformat_minor": 0,
  "metadata": {
    "colab": {
      "provenance": [],
      "mount_file_id": "1XLwE8E5cTN_Gz8fes2jDAkqwZmJ7jRGf",
      "authorship_tag": "ABX9TyNqIgyQVy+UsTweKcPIR441",
      "include_colab_link": true
    },
    "kernelspec": {
      "name": "python3",
      "display_name": "Python 3"
    },
    "language_info": {
      "name": "python"
    }
  },
  "cells": [
    {
      "cell_type": "markdown",
      "metadata": {
        "id": "view-in-github",
        "colab_type": "text"
      },
      "source": [
        "<a href=\"https://colab.research.google.com/github/mralamdari/Computer-Vision-Papers/blob/main/LeNet_TF.ipynb\" target=\"_parent\"><img src=\"https://colab.research.google.com/assets/colab-badge.svg\" alt=\"Open In Colab\"/></a>"
      ]
    },
    {
      "cell_type": "code",
      "execution_count": 1,
      "metadata": {
        "colab": {
          "base_uri": "https://localhost:8080/",
          "height": 35
        },
        "id": "Tgv2p_vbLV2i",
        "outputId": "45052087-64ee-4727-e70d-f3eacf075be3"
      },
      "outputs": [
        {
          "output_type": "execute_result",
          "data": {
            "text/plain": [
              "'2.11.0'"
            ],
            "application/vnd.google.colaboratory.intrinsic+json": {
              "type": "string"
            }
          },
          "metadata": {},
          "execution_count": 1
        }
      ],
      "source": [
        "import os\n",
        "import numpy as np\n",
        "import pandas as pd\n",
        "import tensorflow as tf\n",
        "import matplotlib.pyplot as plt\n",
        "\n",
        "tf.__version__"
      ]
    },
    {
      "cell_type": "markdown",
      "source": [
        "#Data \n",
        "[Source](https://www.kaggle.com/datasets/csafrit2/plant-leaves-for-image-classification)"
      ],
      "metadata": {
        "id": "pXWQRyLuLcOv"
      }
    },
    {
      "cell_type": "code",
      "source": [
        "os.environ['KAGGLE_CONFIG_DIR'] = '/content/drive/MyDrive'\n",
        "!kaggle datasets download -d csafrit2/plant-leaves-for-image-classification\n",
        "!unzip \\*.zip && rm .zip"
      ],
      "metadata": {
        "id": "LevSSmOMLa2S"
      },
      "execution_count": null,
      "outputs": []
    },
    {
      "cell_type": "code",
      "source": [
        "train_ds = tf.keras.preprocessing.image_dataset_from_directory(\n",
        "    directory  = '/content/Plants_2/train/',\n",
        "    label_mode = 'categorical',\n",
        "    color_mode = 'rgb',\n",
        "    batch_size = 32,\n",
        "    image_size = (224, 224),\n",
        "    shuffle    = True\n",
        ")\n",
        "\n",
        "\n",
        "valid_ds = tf.keras.preprocessing.image_dataset_from_directory(\n",
        "    directory  = '/content/Plants_2/valid/',\n",
        "    label_mode = 'categorical',\n",
        "    color_mode = 'rgb',\n",
        "    batch_size = 32,\n",
        "    image_size = (224, 224),\n",
        "    shuffle    = True\n",
        ")\n",
        "\n",
        "\n",
        "test_ds = tf.keras.preprocessing.image_dataset_from_directory(\n",
        "    directory  = '/content/Plants_2/test/',\n",
        "    label_mode = 'categorical',\n",
        "    color_mode = 'rgb',\n",
        "    batch_size = 32,\n",
        "    image_size = (224, 224),\n",
        "    shuffle    = True\n",
        ")"
      ],
      "metadata": {
        "id": "-ByAQCBVLd-q"
      },
      "execution_count": null,
      "outputs": []
    },
    {
      "cell_type": "code",
      "source": [
        "plt.figure(figsize=(10, 10))\n",
        "for images, labels in test_ds.take(1):\n",
        "  for i in range(9):\n",
        "    ax = plt.subplot(3, 3, i+1)\n",
        "    plt.imshow(images[i].numpy().astype('uint8'))\n",
        "    plt.title(test_ds.class_names[np.argmax(labels[i])])\n",
        "    plt.axis('off')"
      ],
      "metadata": {
        "id": "gYoZpR0KLy1_"
      },
      "execution_count": null,
      "outputs": []
    }
  ]
}