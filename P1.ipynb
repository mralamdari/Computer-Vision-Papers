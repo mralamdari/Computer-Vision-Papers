{
  "nbformat": 4,
  "nbformat_minor": 0,
  "metadata": {
    "colab": {
      "provenance": [],
      "authorship_tag": "ABX9TyMshs00WoW0oqQUSwjKMnCu",
      "include_colab_link": true
    },
    "kernelspec": {
      "name": "python3",
      "display_name": "Python 3"
    },
    "language_info": {
      "name": "python"
    }
  },
  "cells": [
    {
      "cell_type": "markdown",
      "metadata": {
        "id": "view-in-github",
        "colab_type": "text"
      },
      "source": [
        "<a href=\"https://colab.research.google.com/github/mralamdari/Computer-Vision-Papers/blob/main/P1.ipynb\" target=\"_parent\"><img src=\"https://colab.research.google.com/assets/colab-badge.svg\" alt=\"Open In Colab\"/></a>"
      ]
    },
    {
      "cell_type": "code",
      "execution_count": 3,
      "metadata": {
        "colab": {
          "base_uri": "https://localhost:8080/",
          "height": 35
        },
        "id": "Dxxi3XCEgiGN",
        "outputId": "2e4cb995-95b0-4c43-e36b-e932fc4758c2"
      },
      "outputs": [
        {
          "output_type": "execute_result",
          "data": {
            "text/plain": [
              "'2.11.0'"
            ],
            "application/vnd.google.colaboratory.intrinsic+json": {
              "type": "string"
            }
          },
          "metadata": {},
          "execution_count": 3
        }
      ],
      "source": [
        "import os\n",
        "import numpy as np\n",
        "import pandas as pd\n",
        "import tensorflow as tf\n",
        "import matplotlib.pyplot as plt\n",
        "\n",
        "tf.__version__"
      ]
    },
    {
      "cell_type": "code",
      "source": [
        "# from tensorflow.keras.preprocessing import image\n",
        "# from tensorflow.keras.applications.vgg16 import preprocess_input\n",
        "\n",
        "vgg16 = tf.keras.applications.vgg16.VGG16()\n",
        "\n",
        "# Find the index of the first block3 layer\n",
        "for index in range(len(vgg16.layers)):\n",
        "    if 'block3' in vgg16.layers[index].name:\n",
        "        break\n",
        "\n",
        "# Add your own input\n",
        "model_input = tf.keras.layers.Input(shape=(224,224,4), name='new_input')\n",
        "x = tf.keras.layers.Conv2D(...)(model_input)\n",
        "...\n",
        "\n",
        "# Connect your last layer to the VGG16 model, starting at the \"block3\" layer\n",
        "# Then, you need to connect every layer manually in a for-loop, freezing each layer along the way\n",
        "\n",
        "for i in range(index, len(vgg16.layers)):\n",
        "  # freeze the VGG16 layer\n",
        "  vgg16.layers[i].trainable = False  \n",
        "\n",
        "  # connect the layer\n",
        "  x = vgg16.layers[i](x)\n",
        "\n",
        "model_output = x\n",
        "newModel = tf.keras.models.Model(model_input, model_output)"
      ],
      "metadata": {
        "id": "wN1eOPCFgwd4"
      },
      "execution_count": null,
      "outputs": []
    }
  ]
}