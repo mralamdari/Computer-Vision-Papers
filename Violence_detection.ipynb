{
  "nbformat": 4,
  "nbformat_minor": 0,
  "metadata": {
    "colab": {
      "provenance": [],
      "mount_file_id": "1cPJphDL6x1dCVFW5-TWFfuuYz5w5O1PP",
      "authorship_tag": "ABX9TyMgUxPt4f5W+epXSukAtg3B",
      "include_colab_link": true
    },
    "kernelspec": {
      "name": "python3",
      "display_name": "Python 3"
    },
    "language_info": {
      "name": "python"
    }
  },
  "cells": [
    {
      "cell_type": "markdown",
      "metadata": {
        "id": "view-in-github",
        "colab_type": "text"
      },
      "source": [
        "<a href=\"https://colab.research.google.com/github/mralamdari/Computer-Vision-Papers/blob/main/Violence_detection.ipynb\" target=\"_parent\"><img src=\"https://colab.research.google.com/assets/colab-badge.svg\" alt=\"Open In Colab\"/></a>"
      ]
    },
    {
      "cell_type": "code",
      "source": [
        "import os\n",
        "import glob\n",
        "from IPython.display import clear_output "
      ],
      "metadata": {
        "id": "zXD6MSIS8rkE"
      },
      "execution_count": 7,
      "outputs": []
    },
    {
      "cell_type": "markdown",
      "source": [
        "#Datasets"
      ],
      "metadata": {
        "id": "UZsOLhqj_A9C"
      }
    },
    {
      "cell_type": "code",
      "execution_count": 2,
      "metadata": {
        "id": "cgsh4hWTkxg-"
      },
      "outputs": [],
      "source": [
        "os.environ['KAGGLE_CONFIG_DIR'] = '/content/drive/MyDrive'\n",
        "!kaggle datasets download -d mohamedmustafa/real-life-violence-situations-dataset\n",
        "!unzip \\*.zip && rm *.zip\n",
        "clear_output()"
      ]
    },
    {
      "cell_type": "code",
      "source": [
        "!git clone https://github.com/airtlab/A-Dataset-for-Automatic-Violence-Detection-in-Videos.git"
      ],
      "metadata": {
        "colab": {
          "base_uri": "https://localhost:8080/"
        },
        "id": "TqmsW3Il--hL",
        "outputId": "6b19b037-c53f-4a08-fe51-c08b1b3f980f"
      },
      "execution_count": null,
      "outputs": [
        {
          "output_type": "stream",
          "name": "stdout",
          "text": [
            "Cloning into 'A-Dataset-for-Automatic-Violence-Detection-in-Videos'...\n",
            "remote: Enumerating objects: 376, done.\u001b[K\n",
            "remote: Counting objects: 100% (12/12), done.\u001b[K\n",
            "remote: Compressing objects: 100% (9/9), done.\u001b[K\n",
            "remote: Total 376 (delta 3), reused 11 (delta 3), pack-reused 364\u001b[K\n",
            "Receiving objects: 100% (376/376), 1.02 GiB | 38.57 MiB/s, done.\n",
            "Resolving deltas: 100% (3/3), done.\n"
          ]
        }
      ]
    },
    {
      "cell_type": "code",
      "source": [
        "os.makedirs('/content/NonViolence/', exist_ok=True)\n",
        "os.makedirs('/content/Violence/', exist_ok=True)\n",
        "\n",
        "nv = '/content/Real Life Violence Dataset/NonViolence/'\n",
        "v = '/content/Real Life Violence Dataset/Violence/'\n",
        "\n",
        "for V in [v, nv]:\n",
        "  for i in os.listdir(V):\n",
        "    R = V+i\n",
        "    os.replace(R, R.replace('Real Life Violence Dataset/', ''))"
      ],
      "metadata": {
        "id": "7tSaSxl9_AcL"
      },
      "execution_count": null,
      "outputs": []
    },
    {
      "cell_type": "code",
      "source": [
        "path = '/content/A-Dataset-for-Automatic-Violence-Detection-in-Videos/violence-detection-dataset/'\n",
        "choices = ['/content/NonViolence/', '/content/NonViolence/', '/content/Violence/', '/content/Violence/']\n",
        "\n",
        "for id, V in enumerate(['non-violent/cam1/', 'non-violent/cam2/', 'violent/cam1/', 'violent/cam2/']):\n",
        "  for i in os.listdir(path+V):\n",
        "    os.replace(path+V+i, choices[id]+i)"
      ],
      "metadata": {
        "id": "jOts7tMI_sl6"
      },
      "execution_count": null,
      "outputs": []
    },
    {
      "cell_type": "code",
      "source": [
        "os.makedirs('/content/data/', exist_ok=True)\n",
        "os.replace('/content/NonViolence/', '/content/data/NonViolence/')\n",
        "os.replace('/content/Violence/', '/content/data/Violence/')"
      ],
      "metadata": {
        "id": "1NDZZ8C-f59J"
      },
      "execution_count": null,
      "outputs": []
    },
    {
      "cell_type": "markdown",
      "source": [
        "#2"
      ],
      "metadata": {
        "id": "pmWa8_62qsC1"
      }
    },
    {
      "cell_type": "code",
      "source": [
        "!pip install text2emotion\n",
        "clear_output()"
      ],
      "metadata": {
        "id": "bYkhkp26i2b1",
        "colab": {
          "base_uri": "https://localhost:8080/"
        },
        "outputId": "a98976c8-7d9d-42b6-9895-1d54413cd1af"
      },
      "execution_count": null,
      "outputs": [
        {
          "output_type": "stream",
          "name": "stdout",
          "text": [
            "Looking in indexes: https://pypi.org/simple, https://us-python.pkg.dev/colab-wheels/public/simple/\n",
            "Collecting text2emotion\n",
            "  Downloading text2emotion-0.0.5-py3-none-any.whl (57 kB)\n",
            "\u001b[2K     \u001b[90m━━━━━━━━━━━━━━━━━━━━━━━━━━━━━━━━━━━━━━━━\u001b[0m \u001b[32m57.8/57.8 kB\u001b[0m \u001b[31m3.2 MB/s\u001b[0m eta \u001b[36m0:00:00\u001b[0m\n",
            "\u001b[?25hRequirement already satisfied: nltk in /usr/local/lib/python3.10/dist-packages (from text2emotion) (3.8.1)\n",
            "Collecting emoji>=0.6.0 (from text2emotion)\n",
            "  Downloading emoji-2.2.0.tar.gz (240 kB)\n",
            "\u001b[2K     \u001b[90m━━━━━━━━━━━━━━━━━━━━━━━━━━━━━━━━━━━━━━\u001b[0m \u001b[32m240.9/240.9 kB\u001b[0m \u001b[31m12.1 MB/s\u001b[0m eta \u001b[36m0:00:00\u001b[0m\n",
            "\u001b[?25h  Preparing metadata (setup.py) ... \u001b[?25l\u001b[?25hdone\n",
            "Requirement already satisfied: click in /usr/local/lib/python3.10/dist-packages (from nltk->text2emotion) (8.1.3)\n",
            "Requirement already satisfied: joblib in /usr/local/lib/python3.10/dist-packages (from nltk->text2emotion) (1.2.0)\n",
            "Requirement already satisfied: regex>=2021.8.3 in /usr/local/lib/python3.10/dist-packages (from nltk->text2emotion) (2022.10.31)\n",
            "Requirement already satisfied: tqdm in /usr/local/lib/python3.10/dist-packages (from nltk->text2emotion) (4.65.0)\n",
            "Building wheels for collected packages: emoji\n",
            "  Building wheel for emoji (setup.py) ... \u001b[?25l\u001b[?25hdone\n",
            "  Created wheel for emoji: filename=emoji-2.2.0-py3-none-any.whl size=234911 sha256=2a6cd5debef29b3f1e672a9e3f0ea5cab414f137b03ac75ea5f2deb592782a90\n",
            "  Stored in directory: /root/.cache/pip/wheels/02/3d/88/51a592b9ad17e7899126563698b4e3961983ebe85747228ba6\n",
            "Successfully built emoji\n"
          ]
        }
      ]
    },
    {
      "cell_type": "code",
      "source": [],
      "metadata": {
        "id": "MMnVFyWGqwQ3"
      },
      "execution_count": null,
      "outputs": []
    }
  ]
}