{
  "nbformat": 4,
  "nbformat_minor": 0,
  "metadata": {
    "colab": {
      "provenance": [],
      "collapsed_sections": [
        "UZsOLhqj_A9C"
      ],
      "mount_file_id": "1cPJphDL6x1dCVFW5-TWFfuuYz5w5O1PP",
      "authorship_tag": "ABX9TyPV9knwpgxraB0cSLbHaXpr",
      "include_colab_link": true
    },
    "kernelspec": {
      "name": "python3",
      "display_name": "Python 3"
    },
    "language_info": {
      "name": "python"
    }
  },
  "cells": [
    {
      "cell_type": "markdown",
      "metadata": {
        "id": "view-in-github",
        "colab_type": "text"
      },
      "source": [
        "<a href=\"https://colab.research.google.com/github/mralamdari/Computer-Vision-Papers/blob/main/Violence_detection.ipynb\" target=\"_parent\"><img src=\"https://colab.research.google.com/assets/colab-badge.svg\" alt=\"Open In Colab\"/></a>"
      ]
    },
    {
      "cell_type": "code",
      "source": [
        "import os\n",
        "import glob\n",
        "from IPython.display import clear_output "
      ],
      "metadata": {
        "id": "zXD6MSIS8rkE"
      },
      "execution_count": 7,
      "outputs": []
    },
    {
      "cell_type": "markdown",
      "source": [
        "#Datasets"
      ],
      "metadata": {
        "id": "UZsOLhqj_A9C"
      }
    },
    {
      "cell_type": "code",
      "execution_count": 2,
      "metadata": {
        "id": "cgsh4hWTkxg-"
      },
      "outputs": [],
      "source": [
        "os.environ['KAGGLE_CONFIG_DIR'] = '/content/drive/MyDrive'\n",
        "!kaggle datasets download -d mohamedmustafa/real-life-violence-situations-dataset\n",
        "!unzip \\*.zip && rm *.zip\n",
        "clear_output()"
      ]
    },
    {
      "cell_type": "code",
      "source": [
        "!git clone https://github.com/airtlab/A-Dataset-for-Automatic-Violence-Detection-in-Videos.git"
      ],
      "metadata": {
        "colab": {
          "base_uri": "https://localhost:8080/"
        },
        "id": "TqmsW3Il--hL",
        "outputId": "6b19b037-c53f-4a08-fe51-c08b1b3f980f"
      },
      "execution_count": null,
      "outputs": [
        {
          "output_type": "stream",
          "name": "stdout",
          "text": [
            "Cloning into 'A-Dataset-for-Automatic-Violence-Detection-in-Videos'...\n",
            "remote: Enumerating objects: 376, done.\u001b[K\n",
            "remote: Counting objects: 100% (12/12), done.\u001b[K\n",
            "remote: Compressing objects: 100% (9/9), done.\u001b[K\n",
            "remote: Total 376 (delta 3), reused 11 (delta 3), pack-reused 364\u001b[K\n",
            "Receiving objects: 100% (376/376), 1.02 GiB | 38.57 MiB/s, done.\n",
            "Resolving deltas: 100% (3/3), done.\n"
          ]
        }
      ]
    },
    {
      "cell_type": "code",
      "source": [
        "os.makedirs('/content/NonViolence/', exist_ok=True)\n",
        "os.makedirs('/content/Violence/', exist_ok=True)\n",
        "\n",
        "nv = '/content/Real Life Violence Dataset/NonViolence/'\n",
        "v = '/content/Real Life Violence Dataset/Violence/'\n",
        "\n",
        "for V in [v, nv]:\n",
        "  for i in os.listdir(V):\n",
        "    R = V+i\n",
        "    os.replace(R, R.replace('Real Life Violence Dataset/', ''))"
      ],
      "metadata": {
        "id": "7tSaSxl9_AcL"
      },
      "execution_count": null,
      "outputs": []
    },
    {
      "cell_type": "code",
      "source": [
        "path = '/content/A-Dataset-for-Automatic-Violence-Detection-in-Videos/violence-detection-dataset/'\n",
        "choices = ['/content/NonViolence/', '/content/NonViolence/', '/content/Violence/', '/content/Violence/']\n",
        "\n",
        "for id, V in enumerate(['non-violent/cam1/', 'non-violent/cam2/', 'violent/cam1/', 'violent/cam2/']):\n",
        "  for i in os.listdir(path+V):\n",
        "    os.replace(path+V+i, choices[id]+i)"
      ],
      "metadata": {
        "id": "jOts7tMI_sl6"
      },
      "execution_count": null,
      "outputs": []
    },
    {
      "cell_type": "code",
      "source": [
        "os.makedirs('/content/data/', exist_ok=True)\n",
        "os.replace('/content/NonViolence/', '/content/data/NonViolence/')\n",
        "os.replace('/content/Violence/', '/content/data/Violence/')"
      ],
      "metadata": {
        "id": "1NDZZ8C-f59J"
      },
      "execution_count": null,
      "outputs": []
    },
    {
      "cell_type": "markdown",
      "source": [
        "#2"
      ],
      "metadata": {
        "id": "pmWa8_62qsC1"
      }
    },
    {
      "cell_type": "code",
      "source": [
        "!pip uninstall emoji\n",
        "!pip install emoji==1.7.0\n",
        "!pip install text2emotion\n",
        "\n",
        "import text2emotion as te\n",
        "\n",
        "clear_output()"
      ],
      "metadata": {
        "id": "jYQ6s3di109g"
      },
      "execution_count": null,
      "outputs": []
    },
    {
      "cell_type": "code",
      "source": [
        "sample = \"I was asked to sign a third party contract a week out from stay\"\n",
        "te.get_emotion(sample)"
      ],
      "metadata": {
        "colab": {
          "base_uri": "https://localhost:8080/"
        },
        "id": "MMnVFyWGqwQ3",
        "outputId": "a9c83c15-f70e-4e41-938e-79180b556f2f"
      },
      "execution_count": 4,
      "outputs": [
        {
          "output_type": "execute_result",
          "data": {
            "text/plain": [
              "{'Happy': 0.0, 'Angry': 0.25, 'Surprise': 0.0, 'Sad': 0.0, 'Fear': 0.75}"
            ]
          },
          "metadata": {},
          "execution_count": 4
        }
      ]
    },
    {
      "cell_type": "code",
      "source": [],
      "metadata": {
        "id": "rJF_bZxbrO7D"
      },
      "execution_count": null,
      "outputs": []
    }
  ]
}