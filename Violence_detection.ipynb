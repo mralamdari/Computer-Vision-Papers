{
  "nbformat": 4,
  "nbformat_minor": 0,
  "metadata": {
    "colab": {
      "provenance": [],
      "collapsed_sections": [
        "UZsOLhqj_A9C"
      ],
      "mount_file_id": "1cPJphDL6x1dCVFW5-TWFfuuYz5w5O1PP",
      "authorship_tag": "ABX9TyMO4v3fSCrMW+2C+RIIZbNX",
      "include_colab_link": true
    },
    "kernelspec": {
      "name": "python3",
      "display_name": "Python 3"
    },
    "language_info": {
      "name": "python"
    }
  },
  "cells": [
    {
      "cell_type": "markdown",
      "metadata": {
        "id": "view-in-github",
        "colab_type": "text"
      },
      "source": [
        "<a href=\"https://colab.research.google.com/github/mralamdari/Computer-Vision-Papers/blob/main/Violence_detection.ipynb\" target=\"_parent\"><img src=\"https://colab.research.google.com/assets/colab-badge.svg\" alt=\"Open In Colab\"/></a>"
      ]
    },
    {
      "cell_type": "code",
      "source": [
        "import os\n",
        "import glob\n",
        "from IPython.display import clear_output "
      ],
      "metadata": {
        "id": "zXD6MSIS8rkE"
      },
      "execution_count": 1,
      "outputs": []
    },
    {
      "cell_type": "markdown",
      "source": [
        "#Datasets"
      ],
      "metadata": {
        "id": "UZsOLhqj_A9C"
      }
    },
    {
      "cell_type": "code",
      "execution_count": 2,
      "metadata": {
        "id": "cgsh4hWTkxg-"
      },
      "outputs": [],
      "source": [
        "os.environ['KAGGLE_CONFIG_DIR'] = '/content/drive/MyDrive'\n",
        "!kaggle datasets download -d mohamedmustafa/real-life-violence-situations-dataset\n",
        "!unzip \\*.zip && rm *.zip\n",
        "clear_output()"
      ]
    },
    {
      "cell_type": "code",
      "source": [
        "!git clone https://github.com/airtlab/A-Dataset-for-Automatic-Violence-Detection-in-Videos.git"
      ],
      "metadata": {
        "colab": {
          "base_uri": "https://localhost:8080/"
        },
        "id": "TqmsW3Il--hL",
        "outputId": "8fdf1192-77ed-4ab3-a0c7-06355e37c9fa"
      },
      "execution_count": 3,
      "outputs": [
        {
          "output_type": "stream",
          "name": "stdout",
          "text": [
            "Cloning into 'A-Dataset-for-Automatic-Violence-Detection-in-Videos'...\n",
            "remote: Enumerating objects: 376, done.\u001b[K\n",
            "remote: Counting objects: 100% (12/12), done.\u001b[K\n",
            "remote: Compressing objects: 100% (9/9), done.\u001b[K\n",
            "remote: Total 376 (delta 3), reused 11 (delta 3), pack-reused 364\u001b[K\n",
            "Receiving objects: 100% (376/376), 1.02 GiB | 35.03 MiB/s, done.\n",
            "Resolving deltas: 100% (3/3), done.\n",
            "Updating files: 100% (355/355), done.\n"
          ]
        }
      ]
    },
    {
      "cell_type": "code",
      "source": [
        "os.makedirs('/content/NonViolence/', exist_ok=True)\n",
        "os.makedirs('/content/Violence/', exist_ok=True)\n",
        "\n",
        "nv = '/content/Real Life Violence Dataset/NonViolence/'\n",
        "v = '/content/Real Life Violence Dataset/Violence/'\n",
        "\n",
        "for V in [v, nv]:\n",
        "  for i in os.listdir(V):\n",
        "    R = V+i\n",
        "    os.replace(R, R.replace('Real Life Violence Dataset/', ''))"
      ],
      "metadata": {
        "id": "7tSaSxl9_AcL"
      },
      "execution_count": 4,
      "outputs": []
    },
    {
      "cell_type": "code",
      "source": [
        "path = '/content/A-Dataset-for-Automatic-Violence-Detection-in-Videos/violence-detection-dataset/'\n",
        "choices = ['/content/NonViolence/', '/content/NonViolence/', '/content/Violence/', '/content/Violence/']\n",
        "\n",
        "for id, V in enumerate(['non-violent/cam1/', 'non-violent/cam2/', 'violent/cam1/', 'violent/cam2/']):\n",
        "  for i in os.listdir(path+V):\n",
        "    os.replace(path+V+i, choices[id]+i)"
      ],
      "metadata": {
        "id": "jOts7tMI_sl6"
      },
      "execution_count": 5,
      "outputs": []
    },
    {
      "cell_type": "code",
      "source": [
        "os.makedirs('/content/data/', exist_ok=True)\n",
        "os.replace('/content/NonViolence/', '/content/data/NonViolence/')\n",
        "os.replace('/content/Violence/', '/content/data/Violence/')"
      ],
      "metadata": {
        "id": "1NDZZ8C-f59J"
      },
      "execution_count": 6,
      "outputs": []
    },
    {
      "cell_type": "markdown",
      "source": [
        "#2"
      ],
      "metadata": {
        "id": "pmWa8_62qsC1"
      }
    },
    {
      "cell_type": "code",
      "source": [
        "!pip uninstall emoji\n",
        "!pip install emoji==1.7.0\n",
        "!pip install text2emotion\n",
        "\n",
        "import text2emotion as te\n",
        "\n",
        "clear_output()"
      ],
      "metadata": {
        "id": "jYQ6s3di109g"
      },
      "execution_count": null,
      "outputs": []
    },
    {
      "cell_type": "code",
      "source": [
        "sample = \"I was asked to sign a third party contract a week out from stay\"\n",
        "te.get_emotion(sample)"
      ],
      "metadata": {
        "colab": {
          "base_uri": "https://localhost:8080/"
        },
        "id": "MMnVFyWGqwQ3",
        "outputId": "a9c83c15-f70e-4e41-938e-79180b556f2f"
      },
      "execution_count": null,
      "outputs": [
        {
          "output_type": "execute_result",
          "data": {
            "text/plain": [
              "{'Happy': 0.0, 'Angry': 0.25, 'Surprise': 0.0, 'Sad': 0.0, 'Fear': 0.75}"
            ]
          },
          "metadata": {},
          "execution_count": 4
        }
      ]
    },
    {
      "cell_type": "markdown",
      "source": [
        "https://www.kaggle.com/datasets/adiamaan/movie-subtitle-dataset/code"
      ],
      "metadata": {
        "id": "-nQNOLmh9iI0"
      }
    },
    {
      "cell_type": "code",
      "source": [
        "os.environ['KAGGLE_CONFIG_DIR'] = '/content/drive/MyDrive'\n",
        "!kaggle datasets download -d adiamaan/movie-subtitle-dataset\n",
        "!unzip \\*.zip && rm *.zip\n",
        "clear_output()"
      ],
      "metadata": {
        "id": "rJF_bZxbrO7D"
      },
      "execution_count": null,
      "outputs": []
    },
    {
      "cell_type": "code",
      "source": [
        "import pandas as pd\n",
        "sub = pd.read_csv('/content/movies_subtitles.csv')\n",
        "meta = pd.read_csv('/content/movies_meta.csv')"
      ],
      "metadata": {
        "id": "IY6sX6EC9RzH"
      },
      "execution_count": null,
      "outputs": []
    },
    {
      "cell_type": "code",
      "source": [
        "\n",
        "abbreviations = {\n",
        "    \"$\" : \" dollar \",\n",
        "    \"€\" : \" euro \",\n",
        "    \"4ao\" : \"for adults only\",\n",
        "    \"a.m\" : \"before midday\",\n",
        "    \"a3\" : \"anytime anywhere anyplace\",\n",
        "    \"aamof\" : \"as a matter of fact\",\n",
        "    \"acct\" : \"account\",\n",
        "    \"adih\" : \"another day in hell\",\n",
        "    \"afaic\" : \"as far as i am concerned\",\n",
        "    \"afaict\" : \"as far as i can tell\",\n",
        "    \"afaik\" : \"as far as i know\",\n",
        "    \"afair\" : \"as far as i remember\",\n",
        "    \"afk\" : \"away from keyboard\",\n",
        "    \"app\" : \"application\",\n",
        "    \"approx\" : \"approximately\",\n",
        "    \"apps\" : \"applications\",\n",
        "    \"asap\" : \"as soon as possible\",\n",
        "    \"asl\" : \"age, sex, location\",\n",
        "    \"atk\" : \"at the keyboard\",\n",
        "    \"ave.\" : \"avenue\",\n",
        "    \"aymm\" : \"are you my mother\",\n",
        "    \"ayor\" : \"at your own risk\", \n",
        "    \"b&b\" : \"bed and breakfast\",\n",
        "    \"b+b\" : \"bed and breakfast\",\n",
        "    \"b.c\" : \"before christ\",\n",
        "    \"b2b\" : \"business to business\",\n",
        "    \"b2c\" : \"business to customer\",\n",
        "    \"b4\" : \"before\",\n",
        "    \"b4n\" : \"bye for now\",\n",
        "    \"b@u\" : \"back at you\",\n",
        "    \"bae\" : \"before anyone else\",\n",
        "    \"bak\" : \"back at keyboard\",\n",
        "    \"bbbg\" : \"bye bye be good\",\n",
        "    \"bbc\" : \"british broadcasting corporation\",\n",
        "    \"bbias\" : \"be back in a second\",\n",
        "    \"bbl\" : \"be back later\",\n",
        "    \"bbs\" : \"be back soon\",\n",
        "    \"be4\" : \"before\",\n",
        "    \"bfn\" : \"bye for now\",\n",
        "    \"blvd\" : \"boulevard\",\n",
        "    \"bout\" : \"about\",\n",
        "    \"brb\" : \"be right back\",\n",
        "    \"bros\" : \"brothers\",\n",
        "    \"brt\" : \"be right there\",\n",
        "    \"bsaaw\" : \"big smile and a wink\",\n",
        "    \"btw\" : \"by the way\",\n",
        "    \"bwl\" : \"bursting with laughter\",\n",
        "    \"c/o\" : \"care of\",\n",
        "    \"cet\" : \"central european time\",\n",
        "    \"cf\" : \"compare\",\n",
        "    \"cia\" : \"central intelligence agency\",\n",
        "    \"csl\" : \"can not stop laughing\",\n",
        "    \"cu\" : \"see you\",\n",
        "    \"cul8r\" : \"see you later\",\n",
        "    \"cv\" : \"curriculum vitae\",\n",
        "    \"cwot\" : \"complete waste of time\",\n",
        "    \"cya\" : \"see you\",\n",
        "    \"cyt\" : \"see you tomorrow\",\n",
        "    \"dae\" : \"does anyone else\",\n",
        "    \"dbmib\" : \"do not bother me i am busy\",\n",
        "    \"diy\" : \"do it yourself\",\n",
        "    \"dm\" : \"direct message\",\n",
        "    \"dwh\" : \"during work hours\",\n",
        "    \"e123\" : \"easy as one two three\",\n",
        "    \"eet\" : \"eastern european time\",\n",
        "    \"eg\" : \"example\",\n",
        "    \"embm\" : \"early morning business meeting\",\n",
        "    \"encl\" : \"enclosed\",\n",
        "    \"encl.\" : \"enclosed\",\n",
        "    \"etc\" : \"and so on\",\n",
        "    \"faq\" : \"frequently asked questions\",\n",
        "    \"fawc\" : \"for anyone who cares\",\n",
        "    \"fb\" : \"facebook\",\n",
        "    \"fc\" : \"fingers crossed\",\n",
        "    \"fig\" : \"figure\",\n",
        "    \"fimh\" : \"forever in my heart\", \n",
        "    \"ft.\" : \"feet\",\n",
        "    \"ft\" : \"featuring\",\n",
        "    \"ftl\" : \"for the loss\",\n",
        "    \"ftw\" : \"for the win\",\n",
        "    \"fwiw\" : \"for what it is worth\",\n",
        "    \"fyi\" : \"for your information\",\n",
        "    \"g9\" : \"genius\",\n",
        "    \"gahoy\" : \"get a hold of yourself\",\n",
        "    \"gal\" : \"get a life\",\n",
        "    \"gcse\" : \"general certificate of secondary education\",\n",
        "    \"gfn\" : \"gone for now\",\n",
        "    \"gg\" : \"good game\",\n",
        "    \"gl\" : \"good luck\",\n",
        "    \"glhf\" : \"good luck have fun\",\n",
        "    \"gmt\" : \"greenwich mean time\",\n",
        "    \"gmta\" : \"great minds think alike\",\n",
        "    \"gn\" : \"good night\",\n",
        "    \"g.o.a.t\" : \"greatest of all time\",\n",
        "    \"goat\" : \"greatest of all time\",\n",
        "    \"goi\" : \"get over it\",\n",
        "    \"gps\" : \"global positioning system\",\n",
        "    \"gr8\" : \"great\",\n",
        "    \"gratz\" : \"congratulations\",\n",
        "    \"gyal\" : \"girl\",\n",
        "    \"h&c\" : \"hot and cold\",\n",
        "    \"hp\" : \"horsepower\",\n",
        "    \"hr\" : \"hour\",\n",
        "    \"hrh\" : \"his royal highness\",\n",
        "    \"ht\" : \"height\",\n",
        "    \"ibrb\" : \"i will be right back\",\n",
        "    \"ic\" : \"i see\",\n",
        "    \"icq\" : \"i seek you\",\n",
        "    \"icymi\" : \"in case you missed it\",\n",
        "    \"idc\" : \"i do not care\",\n",
        "    \"idgadf\" : \"i do not give a damn fuck\",\n",
        "    \"idgaf\" : \"i do not give a fuck\",\n",
        "    \"idk\" : \"i do not know\",\n",
        "    \"ie\" : \"that is\",\n",
        "    \"i.e\" : \"that is\",\n",
        "    \"ifyp\" : \"i feel your pain\",\n",
        "    \"IG\" : \"instagram\",\n",
        "    \"iirc\" : \"if i remember correctly\",\n",
        "    \"ilu\" : \"i love you\",\n",
        "    \"ily\" : \"i love you\",\n",
        "    \"imho\" : \"in my humble opinion\",\n",
        "    \"imo\" : \"in my opinion\",\n",
        "    \"imu\" : \"i miss you\",\n",
        "    \"iow\" : \"in other words\",\n",
        "    \"irl\" : \"in real life\",\n",
        "    \"j4f\" : \"just for fun\",\n",
        "    \"jic\" : \"just in case\",\n",
        "    \"jk\" : \"just kidding\",\n",
        "    \"jsyk\" : \"just so you know\",\n",
        "    \"l8r\" : \"later\",\n",
        "    \"lb\" : \"pound\",\n",
        "    \"lbs\" : \"pounds\",\n",
        "    \"ldr\" : \"long distance relationship\",\n",
        "    \"lmao\" : \"laugh my ass off\",\n",
        "    \"lmfao\" : \"laugh my fucking ass off\",\n",
        "    \"lol\" : \"laughing out loud\",\n",
        "    \"ltd\" : \"limited\",\n",
        "    \"ltns\" : \"long time no see\",\n",
        "    \"m8\" : \"mate\",\n",
        "    \"mf\" : \"motherfucker\",\n",
        "    \"mfs\" : \"motherfuckers\",\n",
        "    \"mfw\" : \"my face when\",\n",
        "    \"mofo\" : \"motherfucker\",\n",
        "    \"mph\" : \"miles per hour\",\n",
        "    \"mr\" : \"mister\",\n",
        "    \"mrw\" : \"my reaction when\",\n",
        "    \"ms\" : \"miss\",\n",
        "    \"mte\" : \"my thoughts exactly\",\n",
        "    \"nagi\" : \"not a good idea\",\n",
        "    \"nbc\" : \"national broadcasting company\",\n",
        "    \"nbd\" : \"not big deal\",\n",
        "    \"nfs\" : \"not for sale\",\n",
        "    \"ngl\" : \"not going to lie\",\n",
        "    \"nhs\" : \"national health service\",\n",
        "    \"nrn\" : \"no reply necessary\",\n",
        "    \"nsfl\" : \"not safe for life\",\n",
        "    \"nsfw\" : \"not safe for work\",\n",
        "    \"nth\" : \"nice to have\",\n",
        "    \"nvr\" : \"never\",\n",
        "    \"nyc\" : \"new york city\",\n",
        "    \"oc\" : \"original content\",\n",
        "    \"og\" : \"original\",\n",
        "    \"ohp\" : \"overhead projector\",\n",
        "    \"oic\" : \"oh i see\",\n",
        "    \"omdb\" : \"over my dead body\",\n",
        "    \"omg\" : \"oh my god\",\n",
        "    \"omw\" : \"on my way\",\n",
        "    \"p.a\" : \"per annum\",\n",
        "    \"p.m\" : \"after midday\",\n",
        "    \"pm\" : \"prime minister\",\n",
        "    \"poc\" : \"people of color\",\n",
        "    \"pov\" : \"point of view\",\n",
        "    \"pp\" : \"pages\",\n",
        "    \"ppl\" : \"people\",\n",
        "    \"prw\" : \"parents are watching\",\n",
        "    \"ps\" : \"postscript\",\n",
        "    \"pt\" : \"point\",\n",
        "    \"ptb\" : \"please text back\",\n",
        "    \"pto\" : \"please turn over\",\n",
        "    \"qpsa\" : \"what happens\", #\"que pasa\",\n",
        "    \"ratchet\" : \"rude\",\n",
        "    \"rbtl\" : \"read between the lines\",\n",
        "    \"rlrt\" : \"real life retweet\", \n",
        "    \"rofl\" : \"rolling on the floor laughing\",\n",
        "    \"roflol\" : \"rolling on the floor laughing out loud\",\n",
        "    \"rotflmao\" : \"rolling on the floor laughing my ass off\",\n",
        "    \"rt\" : \"retweet\",\n",
        "    \"ruok\" : \"are you ok\",\n",
        "    \"sfw\" : \"safe for work\",\n",
        "    \"sk8\" : \"skate\",\n",
        "    \"smh\" : \"shake my head\",\n",
        "    \"sq\" : \"square\",\n",
        "    \"srsly\" : \"seriously\", \n",
        "    \"ssdd\" : \"same stuff different day\",\n",
        "    \"tbh\" : \"to be honest\",\n",
        "    \"tbs\" : \"tablespooful\",\n",
        "    \"tbsp\" : \"tablespooful\",\n",
        "    \"tfw\" : \"that feeling when\",\n",
        "    \"thks\" : \"thank you\",\n",
        "    \"tho\" : \"though\",\n",
        "    \"thx\" : \"thank you\",\n",
        "    \"tia\" : \"thanks in advance\",\n",
        "    \"til\" : \"today i learned\",\n",
        "    \"tl;dr\" : \"too long i did not read\",\n",
        "    \"tldr\" : \"too long i did not read\",\n",
        "    \"tmb\" : \"tweet me back\",\n",
        "    \"tntl\" : \"trying not to laugh\",\n",
        "    \"ttyl\" : \"talk to you later\",\n",
        "    \"u\" : \"you\",\n",
        "    \"u2\" : \"you too\",\n",
        "    \"u4e\" : \"yours for ever\",\n",
        "    \"utc\" : \"coordinated universal time\",\n",
        "    \"w/\" : \"with\",\n",
        "    \"w/o\" : \"without\",\n",
        "    \"w8\" : \"wait\",\n",
        "    \"wassup\" : \"what is up\",\n",
        "    \"wb\" : \"welcome back\",\n",
        "    \"wtf\" : \"what the fuck\",\n",
        "    \"wtg\" : \"way to go\",\n",
        "    \"wtpa\" : \"where the party at\",\n",
        "    \"wuf\" : \"where are you from\",\n",
        "    \"wuzup\" : \"what is up\",\n",
        "    \"wywh\" : \"wish you were here\",\n",
        "    \"yd\" : \"yard\",\n",
        "    \"ygtr\" : \"you got that right\",\n",
        "    \"ynk\" : \"you never know\",\n",
        "    \"zzz\" : \"sleeping bored and tired\"\n",
        "}\n",
        "\n",
        "def convert_abb(x):\n",
        "    if type(x) != str:\n",
        "      return str(x)\n",
        "    word_list = x.split()\n",
        "    r_string = []\n",
        "    for word in word_list:\n",
        "        r_string.append(abbreviations[word.lower()] if word.lower() in abbreviations.keys() else word)\n",
        "    return ' '.join(r_string)\n"
      ],
      "metadata": {
        "id": "Df0N9bSvvk2W"
      },
      "execution_count": null,
      "outputs": []
    },
    {
      "cell_type": "code",
      "source": [
        "sub['text'] = sub.text.apply(convert_abb)\n",
        "\n",
        "# # Remove emojis\n",
        "# train_df['clean_text'] = train_df.clean_text.apply(lambda x: x.encode('ascii', 'ignore').decode('ascii'))\n",
        "# test_df['clean_text'] = test_df.clean_text.apply(lambda x: x.encode('ascii', 'ignore').decode('ascii'))"
      ],
      "metadata": {
        "id": "mkbQAmvivu3S"
      },
      "execution_count": null,
      "outputs": []
    },
    {
      "cell_type": "code",
      "source": [
        "# sub['text'] = sub.text.apply(convert_abb)\n",
        "\n",
        "ss = sub.text.apply(lambda x: te.get_emotion(x))"
      ],
      "metadata": {
        "id": "NEXAzUOW932Q"
      },
      "execution_count": null,
      "outputs": []
    },
    {
      "cell_type": "code",
      "source": [
        "import json\n",
        "with open('/content/drive/MyDrive/forage/data.json', 'w', encoding='utf-8') as f:\n",
        "    json.dump(ss, f, ensure_ascii=False, indent=4)"
      ],
      "metadata": {
        "id": "BvS3qFy2ykQk"
      },
      "execution_count": null,
      "outputs": []
    },
    {
      "cell_type": "code",
      "source": [
        "ll"
      ],
      "metadata": {
        "id": "_vadsak94juF"
      },
      "execution_count": null,
      "outputs": []
    },
    {
      "cell_type": "code",
      "source": [
        "import json\n",
        "with open('/content/drive/MyDrive/forage/data.json', 'w', encoding='utf-8') as f:\n",
        "    json.dump(ss, f, ensure_ascii=False, indent=4)"
      ],
      "metadata": {
        "id": "lGgfTtEh63Hp"
      },
      "execution_count": null,
      "outputs": []
    },
    {
      "cell_type": "markdown",
      "source": [
        "#Faces Extract"
      ],
      "metadata": {
        "id": "ymuYPCXF7jYl"
      }
    },
    {
      "cell_type": "code",
      "source": [
        "#import shutil\n",
        "import os\n",
        "import cv2\n",
        "import random\n",
        "import numpy as np\n",
        "import pandas as pd\n",
        "import matplotlib.pyplot as plt"
      ],
      "metadata": {
        "id": "h4HO7-H57LyG"
      },
      "execution_count": 7,
      "outputs": []
    },
    {
      "cell_type": "code",
      "source": [
        "!mkdir frame\n",
        "!mkdir faces"
      ],
      "metadata": {
        "id": "x8L_9YLV7pqY"
      },
      "execution_count": 8,
      "outputs": []
    },
    {
      "cell_type": "code",
      "source": [
        "os.environ['KAGGLE_CONFIG_DIR'] = '/content/drive/MyDrive'\n",
        "!kaggle datasets download -d erikvdven/tiktok-trending-december-2020\n",
        "!unzip \\*.zip && rm *.zip\n",
        "clear_output()"
      ],
      "metadata": {
        "id": "GUL3qNM24Ozs",
        "outputId": "8ba89fc1-0d36-456f-cdc6-527858e81a65",
        "colab": {
          "base_uri": "https://localhost:8080/"
        }
      },
      "execution_count": null,
      "outputs": [
        {
          "output_type": "stream",
          "name": "stdout",
          "text": [
            "Downloading tiktok-trending-december-2020.zip to /content\n",
            " 99% 2.82G/2.84G [00:41<00:00, 119MB/s]\n",
            "100% 2.84G/2.84G [00:41<00:00, 73.7MB/s]\n",
            "Archive:  tiktok-trending-december-2020.zip\n",
            "  inflating: audd/audd_music.csv     \n",
            "  inflating: audd/audd_music_apple_music.csv  \n",
            "  inflating: audd/audd_music_spotify_music.csv  \n",
            "  inflating: audd/audd_music_spotify_music_artists.csv  \n",
            "  inflating: trending.json           \n",
            "  inflating: videos/6875317312082201857.mp4  \n",
            "  inflating: videos/6875323773755657474.mp4  \n",
            "  inflating: videos/6875342937002085633.mp4  \n",
            "  inflating: videos/6875370613523909890.mp4  \n",
            "  inflating: videos/6875373441432816898.mp4  \n",
            "  inflating: videos/6875378565614013697.mp4  \n",
            "  inflating: videos/6875394675985992966.mp4  \n",
            "  inflating: videos/6875405441472498949.mp4  \n",
            "  inflating: videos/6875436892226178305.mp4  \n",
            "  inflating: videos/6875453919879908614.mp4  \n",
            "  inflating: videos/6875468410612993286.mp4  \n",
            "  inflating: videos/6875528457388903681.mp4  \n",
            "  inflating: videos/6875621663564680450.mp4  \n",
            "  inflating: videos/6875639469563759873.mp4  \n",
            "  inflating: videos/6875651291343883522.mp4  \n",
            "  inflating: videos/6875691073499352321.mp4  \n",
            "  inflating: videos/6875739742340762885.mp4  \n",
            "  inflating: videos/6875749962681044230.mp4  \n",
            "  inflating: videos/6875862825932180738.mp4  \n",
            "  inflating: videos/6875872124968439046.mp4  \n",
            "  inflating: videos/6876007447883042050.mp4  \n",
            "  inflating: videos/6876130849683770625.mp4  \n",
            "  inflating: videos/6876145412105899265.mp4  \n",
            "  inflating: videos/6876156631651077381.mp4  \n",
            "  inflating: videos/6876245387871587590.mp4  \n",
            "  inflating: videos/6876262384093236485.mp4  \n",
            "  inflating: videos/6876318382703070465.mp4  \n",
            "  inflating: videos/6876320502848261378.mp4  \n",
            "  inflating: videos/6876369534018669825.mp4  \n",
            "  inflating: videos/6876374255974501633.mp4  \n",
            "  inflating: videos/6876417380151479553.mp4  \n",
            "  inflating: videos/6876422232772578561.mp4  \n",
            "  inflating: videos/6876512902929599745.mp4  \n",
            "  inflating: videos/6876603307708665093.mp4  \n",
            "  inflating: videos/6876643374548438274.mp4  \n",
            "  inflating: videos/6876645435625262338.mp4  \n",
            "  inflating: videos/6876674985746795778.mp4  \n",
            "  inflating: videos/6876716527186382081.mp4  \n",
            "  inflating: videos/6876760427229957377.mp4  \n",
            "  inflating: videos/6876787355181665537.mp4  \n",
            "  inflating: videos/6876805952117558529.mp4  \n",
            "  inflating: videos/6876827705950752005.mp4  \n",
            "  inflating: videos/6876835225989664002.mp4  \n",
            "  inflating: videos/6876857501397159170.mp4  \n",
            "  inflating: videos/6876860979787959554.mp4  \n",
            "  inflating: videos/6876862444988402945.mp4  \n",
            "  inflating: videos/6877036154982616321.mp4  \n",
            "  inflating: videos/6877149710428245249.mp4  \n",
            "  inflating: videos/6877167604100910337.mp4  \n",
            "  inflating: videos/6877178763474423041.mp4  \n",
            "  inflating: videos/6877179236386376961.mp4  \n",
            "  inflating: videos/6877182502390353153.mp4  \n",
            "  inflating: videos/6877191692341054721.mp4  \n",
            "  inflating: videos/6877219156186500354.mp4  \n",
            "  inflating: videos/6877251331145370881.mp4  \n",
            "  inflating: videos/6877301356101782785.mp4  \n",
            "  inflating: videos/6877337975030598917.mp4  \n",
            "  inflating: videos/6877411003160694017.mp4  \n",
            "  inflating: videos/6877458289978821889.mp4  \n",
            "  inflating: videos/6877473712652799234.mp4  \n",
            "  inflating: videos/6877530962742217985.mp4  \n",
            "  inflating: videos/6877606750900538626.mp4  \n",
            "  inflating: videos/6877726677334510849.mp4  \n",
            "  inflating: videos/6877747486451043590.mp4  \n",
            "  inflating: videos/6877774951361875201.mp4  \n",
            "  inflating: videos/6877789463221947650.mp4  \n",
            "  inflating: videos/6877796349459336450.mp4  \n",
            "  inflating: videos/6877816601308073218.mp4  \n",
            "  inflating: videos/6877869447999245569.mp4  \n",
            "  inflating: videos/6877981740690935041.mp4  \n",
            "  inflating: videos/6878138606205029634.mp4  \n",
            "  inflating: videos/6878165800902085890.mp4  \n",
            "  inflating: videos/6878231837710372098.mp4  \n",
            "  inflating: videos/6878254482698816770.mp4  \n",
            "  inflating: videos/6878259877353966850.mp4  \n",
            "  inflating: videos/6878282456382835973.mp4  \n",
            "  inflating: videos/6878300825932860674.mp4  \n",
            "  inflating: videos/6878330292701121794.mp4  \n",
            "  inflating: videos/6878340953933876482.mp4  \n",
            "  inflating: videos/6878404258367163654.mp4  \n",
            "  inflating: videos/6878457763668823298.mp4  \n",
            "  inflating: videos/6878510237784083713.mp4  \n",
            "  inflating: videos/6878517470894836998.mp4  \n",
            "  inflating: videos/6878531534303857922.mp4  \n",
            "  inflating: videos/6878590867968380162.mp4  \n",
            "  inflating: videos/6878601415150062850.mp4  \n",
            "  inflating: videos/6878650367668653314.mp4  \n",
            "  inflating: videos/6878665609870052610.mp4  \n",
            "  inflating: videos/6878668790503116038.mp4  \n",
            "  inflating: videos/6878676626108992769.mp4  \n",
            "  inflating: videos/6878710443926473986.mp4  \n",
            "  inflating: videos/6878715680728911106.mp4  \n",
            "  inflating: videos/6878719985535962369.mp4  \n",
            "  inflating: videos/6878751105589824770.mp4  \n",
            "  inflating: videos/6878791400289225985.mp4  \n",
            "  inflating: videos/6878794517391150337.mp4  \n",
            "  inflating: videos/6878796954650889473.mp4  \n",
            "  inflating: videos/6878834531911224577.mp4  \n",
            "  inflating: videos/6878841351916637441.mp4  \n",
            "  inflating: videos/6878961920859262210.mp4  \n",
            "  inflating: videos/6878973704689175809.mp4  \n",
            "  inflating: videos/6879000638458449153.mp4  \n",
            "  inflating: videos/6879022410528541953.mp4  \n",
            "  inflating: videos/6879055195330858245.mp4  \n",
            "  inflating: videos/6879055868676132097.mp4  \n",
            "  inflating: videos/6879086409496497410.mp4  \n",
            "  inflating: videos/6879123852467768581.mp4  \n",
            "  inflating: videos/6879192624402582790.mp4  \n",
            "  inflating: videos/6879222014880664833.mp4  \n",
            "  inflating: videos/6879223075980741889.mp4  \n",
            "  inflating: videos/6879407225769692418.mp4  \n",
            "  inflating: videos/6879439037619342598.mp4  \n",
            "  inflating: videos/6879439535726529794.mp4  \n",
            "  inflating: videos/6879440891853982978.mp4  \n",
            "  inflating: videos/6879452591953153282.mp4  \n",
            "  inflating: videos/6879476802050460934.mp4  \n",
            "  inflating: videos/6879699550303538434.mp4  \n",
            "  inflating: videos/6879703604249332993.mp4  \n",
            "  inflating: videos/6879705053884697858.mp4  \n",
            "  inflating: videos/6879724138114665730.mp4  \n",
            "  inflating: videos/6879756807481363714.mp4  \n",
            "  inflating: videos/6879769716567657730.mp4  \n",
            "  inflating: videos/6879772200065436929.mp4  \n",
            "  inflating: videos/6879809686552530178.mp4  \n",
            "  inflating: videos/6879837374927490306.mp4  \n",
            "  inflating: videos/6879842043880017154.mp4  \n",
            "  inflating: videos/6879844969687878914.mp4  \n",
            "  inflating: videos/6879871451772620033.mp4  \n",
            "  inflating: videos/6879902533876337925.mp4  \n",
            "  inflating: videos/6879933206460648706.mp4  \n",
            "  inflating: videos/6879936527829404933.mp4  \n",
            "  inflating: videos/6879952519586450690.mp4  \n",
            "  inflating: videos/6880080548086172929.mp4  \n",
            "  inflating: videos/6880122437594270978.mp4  \n",
            "  inflating: videos/6880134891753852162.mp4  \n",
            "  inflating: videos/6880161721349311746.mp4  \n",
            "  inflating: videos/6880162735208877314.mp4  \n",
            "  inflating: videos/6880196605513927938.mp4  \n",
            "  inflating: videos/6880203069192211713.mp4  \n",
            "  inflating: videos/6880225229415681282.mp4  \n",
            "  inflating: videos/6880239600590212353.mp4  \n",
            "  inflating: videos/6880259329434324226.mp4  \n",
            "  inflating: videos/6880410980434660610.mp4  \n",
            "  inflating: videos/6880446332352367873.mp4  \n",
            "  inflating: videos/6880493048011263233.mp4  \n",
            "  inflating: videos/6880501583231061249.mp4  \n",
            "  inflating: videos/6880508779109125378.mp4  \n",
            "  inflating: videos/6880527115037478145.mp4  \n",
            "  inflating: videos/6880592183720676614.mp4  \n",
            "  inflating: videos/6880671806965959938.mp4  \n",
            "  inflating: videos/6880694458552175874.mp4  \n",
            "  inflating: videos/6880741941860928773.mp4  \n",
            "  inflating: videos/6880750408302693637.mp4  \n",
            "  inflating: videos/6880839179677256962.mp4  \n",
            "  inflating: videos/6880848041792802053.mp4  \n",
            "  inflating: videos/6880865616215952641.mp4  \n",
            "  inflating: videos/6880877914078842113.mp4  \n",
            "  inflating: videos/6880924024227040513.mp4  \n",
            "  inflating: videos/6880924761333959938.mp4  \n",
            "  inflating: videos/6880928709956635909.mp4  \n",
            "  inflating: videos/6880983457019809026.mp4  \n",
            "  inflating: videos/6880986381309562118.mp4  \n",
            "  inflating: videos/6881035542830550278.mp4  \n",
            "  inflating: videos/6881040494332366086.mp4  \n",
            "  inflating: videos/6881218787157216514.mp4  \n",
            "  inflating: videos/6881237651702254850.mp4  \n",
            "  inflating: videos/6881250870374321414.mp4  \n",
            "  inflating: videos/6881297980456996097.mp4  \n",
            "  inflating: videos/6881317813173095681.mp4  \n",
            "  inflating: videos/6881337151901027586.mp4  \n",
            "  inflating: videos/6881353341465611525.mp4  \n",
            "  inflating: videos/6881414725075242246.mp4  \n",
            "  inflating: videos/6881428016275197186.mp4  \n",
            "  inflating: videos/6881502944353717506.mp4  \n",
            "  inflating: videos/6881624031561354498.mp4  \n",
            "  inflating: videos/6881636686606912770.mp4  \n",
            "  inflating: videos/6881662658794294529.mp4  \n",
            "  inflating: videos/6881719705028021509.mp4  \n",
            "  inflating: videos/6881741305345592577.mp4  \n",
            "  inflating: videos/6881793753036721414.mp4  \n",
            "  inflating: videos/6881838035051269377.mp4  \n",
            "  inflating: videos/6881841137934454017.mp4  \n",
            "  inflating: videos/6881844264750353665.mp4  \n",
            "  inflating: videos/6881909763723037954.mp4  \n",
            "  inflating: videos/6882038951134137601.mp4  \n",
            "  inflating: videos/6882041935029226754.mp4  \n",
            "  inflating: videos/6882043160806116609.mp4  \n",
            "  inflating: videos/6882071585621069058.mp4  \n",
            "  inflating: videos/6882079709484649729.mp4  \n",
            "  inflating: videos/6882153629034269957.mp4  \n",
            "  inflating: videos/6882317577692138754.mp4  \n",
            "  inflating: videos/6882342986634595586.mp4  \n",
            "  inflating: videos/6882348124120108289.mp4  \n",
            "  inflating: videos/6882388794671107330.mp4  \n",
            "  inflating: videos/6882395409973660930.mp4  \n",
            "  inflating: videos/6882404595394563330.mp4  \n",
            "  inflating: videos/6882419822806699266.mp4  \n",
            "  inflating: videos/6882436135214238981.mp4  \n",
            "  inflating: videos/6882438480786459906.mp4  \n",
            "  inflating: videos/6882508731343506694.mp4  \n",
            "  inflating: videos/6882547868792524034.mp4  \n",
            "  inflating: videos/6882598038947286274.mp4  \n",
            "  inflating: videos/6882670049648200962.mp4  \n",
            "  inflating: videos/6882734270910188802.mp4  \n",
            "  inflating: videos/6882735576160783617.mp4  \n",
            "  inflating: videos/6882738915724233985.mp4  \n",
            "  inflating: videos/6882758194754522369.mp4  \n",
            "  inflating: videos/6882769301615496450.mp4  \n",
            "  inflating: videos/6882770369573358853.mp4  \n",
            "  inflating: videos/6882817271899770114.mp4  \n",
            "  inflating: videos/6882831253519731970.mp4  \n",
            "  inflating: videos/6882850172854979845.mp4  \n",
            "  inflating: videos/6882854042016419074.mp4  \n",
            "  inflating: videos/6882870430625975557.mp4  \n",
            "  inflating: videos/6882920923314326785.mp4  \n",
            "  inflating: videos/6882975789143379201.mp4  \n",
            "  inflating: videos/6883011295763860738.mp4  \n",
            "  inflating: videos/6883063619202993409.mp4  \n",
            "  inflating: videos/6883066746559794434.mp4  \n",
            "  inflating: videos/6883070138279677186.mp4  \n",
            "  inflating: videos/6883082488101555462.mp4  \n",
            "  inflating: videos/6883094233935252737.mp4  \n",
            "  inflating: videos/6883133559482191105.mp4  \n",
            "  inflating: videos/6883165648290139394.mp4  \n",
            "  inflating: videos/6883180152164011265.mp4  \n",
            "  inflating: videos/6883211681988627714.mp4  \n",
            "  inflating: videos/6883270499741273349.mp4  \n",
            "  inflating: videos/6883331225197563141.mp4  \n",
            "  inflating: videos/6883458545451388161.mp4  \n",
            "  inflating: videos/6883484287434378497.mp4  \n",
            "  inflating: videos/6883508337380478209.mp4  \n",
            "  inflating: videos/6883532351960288518.mp4  \n",
            "  inflating: videos/6883565215552654593.mp4  \n",
            "  inflating: videos/6883594464900779270.mp4  \n",
            "  inflating: videos/6883600153593367810.mp4  \n",
            "  inflating: videos/6883604590525156609.mp4  \n",
            "  inflating: videos/6883622094190497025.mp4  \n",
            "  inflating: videos/6883841665841270017.mp4  \n",
            "  inflating: videos/6883894825855274242.mp4  \n",
            "  inflating: videos/6883896778995846402.mp4  \n",
            "  inflating: videos/6883928153727831297.mp4  \n",
            "  inflating: videos/6883948403730992386.mp4  \n",
            "  inflating: videos/6884030480736324869.mp4  \n",
            "  inflating: videos/6884031629522717953.mp4  \n",
            "  inflating: videos/6884114945026411778.mp4  \n",
            "  inflating: videos/6884153193425636610.mp4  \n",
            "  inflating: videos/6884239332329164034.mp4  \n",
            "  inflating: videos/6884257667573894401.mp4  \n",
            "  inflating: videos/6884265104637005057.mp4  \n",
            "  inflating: videos/6884265711980645634.mp4  \n",
            "  inflating: videos/6884266018936573189.mp4  \n",
            "  inflating: videos/6884287238138645761.mp4  \n",
            "  inflating: videos/6884340073693859074.mp4  \n",
            "  inflating: videos/6884352491505388801.mp4  \n",
            "  inflating: videos/6884399255302245633.mp4  \n",
            "  inflating: videos/6884400510699343109.mp4  \n",
            "  inflating: videos/6884574278134582529.mp4  \n",
            "  inflating: videos/6884590643327290625.mp4  \n",
            "  inflating: videos/6884646106970590470.mp4  \n",
            "  inflating: videos/6884688821976354049.mp4  \n",
            "  inflating: videos/6884691950478298370.mp4  \n",
            "  inflating: videos/6884703655182880002.mp4  \n",
            "  inflating: videos/6884749597864987905.mp4  \n",
            "  inflating: videos/6884777374508911874.mp4  \n",
            "  inflating: videos/6884795858827644161.mp4  \n",
            "  inflating: videos/6884860645364354306.mp4  \n",
            "  inflating: videos/6884868479267147010.mp4  \n",
            "  inflating: videos/6884902907439779074.mp4  \n",
            "  inflating: videos/6884933059758755073.mp4  \n",
            "  inflating: videos/6884933447480003842.mp4  \n",
            "  inflating: videos/6884935459110178049.mp4  \n",
            "  inflating: videos/6884946806833188097.mp4  \n",
            "  inflating: videos/6884947969469156609.mp4  \n",
            "  inflating: videos/6884970166489271557.mp4  \n",
            "  inflating: videos/6884981166659751169.mp4  \n",
            "  inflating: videos/6884981528430988546.mp4  \n",
            "  inflating: videos/6884999522360052993.mp4  \n",
            "  inflating: videos/6885153736222706949.mp4  \n",
            "  inflating: videos/6885161134748404998.mp4  \n",
            "  inflating: videos/6885246252078910722.mp4  \n",
            "  inflating: videos/6885248860281654529.mp4  \n",
            "  inflating: videos/6885276983870196994.mp4  \n",
            "  inflating: videos/6885293067562192130.mp4  \n",
            "  inflating: videos/6885540773987667205.mp4  \n",
            "  inflating: videos/6885565252151315718.mp4  \n",
            "  inflating: videos/6885582410579184897.mp4  \n",
            "  inflating: videos/6885654253826870530.mp4  \n",
            "  inflating: videos/6885674156655021314.mp4  \n",
            "  inflating: videos/6885675789090704641.mp4  \n",
            "  inflating: videos/6885726005357530370.mp4  \n",
            "  inflating: videos/6885766692627107077.mp4  \n",
            "  inflating: videos/6885774617479302402.mp4  \n",
            "  inflating: videos/6885779594901867777.mp4  \n",
            "  inflating: videos/6885791166248340737.mp4  \n",
            "  inflating: videos/6885802277555293441.mp4  \n",
            "  inflating: videos/6885861410329332998.mp4  \n",
            "  inflating: videos/6886011511391718657.mp4  \n",
            "  inflating: videos/6886026780914846978.mp4  \n",
            "  inflating: videos/6886033905531538689.mp4  \n",
            "  inflating: videos/6886060490687106306.mp4  \n",
            "  inflating: videos/6886066384246443265.mp4  \n",
            "  inflating: videos/6886068485345070337.mp4  \n",
            "  inflating: videos/6886115520425266433.mp4  \n",
            "  inflating: videos/6886117069851479297.mp4  \n",
            "  inflating: videos/6886119631011007745.mp4  \n",
            "  inflating: videos/6886192005270064386.mp4  \n",
            "  inflating: videos/6886215675350666497.mp4  \n",
            "  inflating: videos/6886223121397894405.mp4  \n",
            "  inflating: videos/6886231790332218629.mp4  \n",
            "  inflating: videos/6886265289206435074.mp4  \n",
            "  inflating: videos/6886291383246671109.mp4  \n",
            "  inflating: videos/6886298413885918465.mp4  \n",
            "  inflating: videos/6886331836444790018.mp4  \n",
            "  inflating: videos/6886383962885737730.mp4  \n",
            "  inflating: videos/6886417103046380801.mp4  \n",
            "  inflating: videos/6886450016785894658.mp4  \n",
            "  inflating: videos/6886459209051852038.mp4  \n",
            "  inflating: videos/6886464165549001986.mp4  \n",
            "  inflating: videos/6886472762878151937.mp4  \n",
            "  inflating: videos/6886517104871279874.mp4  \n",
            "  inflating: videos/6886527144478936321.mp4  \n",
            "  inflating: videos/6886527878100438273.mp4  \n",
            "  inflating: videos/6886618708731546886.mp4  \n",
            "  inflating: videos/6886619249889070337.mp4  \n",
            "  inflating: videos/6886654544126758146.mp4  \n",
            "  inflating: videos/6886679044323020033.mp4  \n",
            "  inflating: videos/6886763008966577410.mp4  \n",
            "  inflating: videos/6886765050355289346.mp4  \n",
            "  inflating: videos/6886816932222356741.mp4  \n",
            "  inflating: videos/6886843424310414594.mp4  \n",
            "  inflating: videos/6886856236667636993.mp4  \n",
            "  inflating: videos/6886872042411494658.mp4  \n",
            "  inflating: videos/6886904360207469825.mp4  \n",
            "  inflating: videos/6886917791429954817.mp4  \n",
            "  inflating: videos/6886946250336324870.mp4  \n",
            "  inflating: videos/6886981950180003073.mp4  \n",
            "  inflating: videos/6887366313526709510.mp4  \n",
            "  inflating: videos/6887391026848320774.mp4  \n",
            "  inflating: videos/6887443398446550273.mp4  \n",
            "  inflating: videos/6887458979954347266.mp4  \n",
            "  inflating: videos/6887527163617201410.mp4  \n",
            "  inflating: videos/6887562050265025794.mp4  "
          ]
        }
      ]
    },
    {
      "cell_type": "code",
      "source": [
        "paths=[]\n",
        "for dirname, _, filenames in os.walk('/content/tiktok-trending-december-2020/videos'):\n",
        "    for filename in filenames:\n",
        "        paths+=[(os.path.join(dirname, filename))]\n",
        "paths=sorted(paths)\n",
        "\n",
        "d_frame='/content/frame/'\n",
        "d_faces='/content/faces/'"
      ],
      "metadata": {
        "id": "w5Mhkpvg7qJt"
      },
      "execution_count": 9,
      "outputs": []
    },
    {
      "cell_type": "code",
      "source": [
        "def video_2_frames(video_file=paths[18], image_dir=d_frame, image_file='img_%s.png'):\n",
        "    i = 0\n",
        "    cap = cv2.VideoCapture(video_file)\n",
        "    while(cap.isOpened()):\n",
        "        flag, frame = cap.read()\n",
        "        if flag == False:\n",
        "            break\n",
        "        cv2.imwrite(image_dir+image_file % str(i).zfill(6), frame) \n",
        "        i += 1\n",
        "    cap.release()"
      ],
      "metadata": {
        "id": "oPavsw4E7qPf",
        "colab": {
          "base_uri": "https://localhost:8080/",
          "height": 252
        },
        "outputId": "02c61b63-7668-435f-fcea-7ae0e5515b4c"
      },
      "execution_count": 10,
      "outputs": [
        {
          "output_type": "error",
          "ename": "IndexError",
          "evalue": "ignored",
          "traceback": [
            "\u001b[0;31m---------------------------------------------------------------------------\u001b[0m",
            "\u001b[0;31mIndexError\u001b[0m                                Traceback (most recent call last)",
            "\u001b[0;32m<ipython-input-10-952d12245660>\u001b[0m in \u001b[0;36m<cell line: 1>\u001b[0;34m()\u001b[0m\n\u001b[0;32m----> 1\u001b[0;31m \u001b[0;32mdef\u001b[0m \u001b[0mvideo_2_frames\u001b[0m\u001b[0;34m(\u001b[0m\u001b[0mvideo_file\u001b[0m\u001b[0;34m=\u001b[0m\u001b[0mpaths\u001b[0m\u001b[0;34m[\u001b[0m\u001b[0;36m18\u001b[0m\u001b[0;34m]\u001b[0m\u001b[0;34m,\u001b[0m \u001b[0mimage_dir\u001b[0m\u001b[0;34m=\u001b[0m\u001b[0md_frame\u001b[0m\u001b[0;34m,\u001b[0m \u001b[0mimage_file\u001b[0m\u001b[0;34m=\u001b[0m\u001b[0;34m'img_%s.png'\u001b[0m\u001b[0;34m)\u001b[0m\u001b[0;34m:\u001b[0m\u001b[0;34m\u001b[0m\u001b[0;34m\u001b[0m\u001b[0m\n\u001b[0m\u001b[1;32m      2\u001b[0m     \u001b[0mi\u001b[0m \u001b[0;34m=\u001b[0m \u001b[0;36m0\u001b[0m\u001b[0;34m\u001b[0m\u001b[0;34m\u001b[0m\u001b[0m\n\u001b[1;32m      3\u001b[0m     \u001b[0mcap\u001b[0m \u001b[0;34m=\u001b[0m \u001b[0mcv2\u001b[0m\u001b[0;34m.\u001b[0m\u001b[0mVideoCapture\u001b[0m\u001b[0;34m(\u001b[0m\u001b[0mvideo_file\u001b[0m\u001b[0;34m)\u001b[0m\u001b[0;34m\u001b[0m\u001b[0;34m\u001b[0m\u001b[0m\n\u001b[1;32m      4\u001b[0m     \u001b[0;32mwhile\u001b[0m\u001b[0;34m(\u001b[0m\u001b[0mcap\u001b[0m\u001b[0;34m.\u001b[0m\u001b[0misOpened\u001b[0m\u001b[0;34m(\u001b[0m\u001b[0;34m)\u001b[0m\u001b[0;34m)\u001b[0m\u001b[0;34m:\u001b[0m\u001b[0;34m\u001b[0m\u001b[0;34m\u001b[0m\u001b[0m\n\u001b[1;32m      5\u001b[0m         \u001b[0mflag\u001b[0m\u001b[0;34m,\u001b[0m \u001b[0mframe\u001b[0m \u001b[0;34m=\u001b[0m \u001b[0mcap\u001b[0m\u001b[0;34m.\u001b[0m\u001b[0mread\u001b[0m\u001b[0;34m(\u001b[0m\u001b[0;34m)\u001b[0m\u001b[0;34m\u001b[0m\u001b[0;34m\u001b[0m\u001b[0m\n",
            "\u001b[0;31mIndexError\u001b[0m: list index out of range"
          ]
        }
      ]
    },
    {
      "cell_type": "code",
      "source": [
        "video_2_frames()\n",
        "\n",
        "frame_paths=[]\n",
        "for file in os.listdir(d_frame):\n",
        "    frame_paths+=[os.path.join(d_frame,file)]\n",
        "frame_paths=sorted(frame_paths)\n",
        "print(frame_paths[0:5])"
      ],
      "metadata": {
        "id": "mk7MNwkB78Ia"
      },
      "execution_count": null,
      "outputs": []
    },
    {
      "cell_type": "code",
      "source": [
        "path_cas='/kaggle/input/haar-cascades-for-face-detection/haarcascade_frontalface_default.xml'\n",
        "face_cascade = cv2.CascadeClassifier(path_cas)"
      ],
      "metadata": {
        "id": "jBuvfAtR77r-"
      },
      "execution_count": null,
      "outputs": []
    },
    {
      "cell_type": "code",
      "source": [
        "for i,path in enumerate(random.sample(frame_paths,10)):   \n",
        "    img = cv2.imread(path)\n",
        "    img = cv2.cvtColor(img, cv2.COLOR_BGR2RGB)\n",
        "    gray = cv2.cvtColor(img, cv2.COLOR_BGR2GRAY)\n",
        "    try:\n",
        "        faces = face_cascade.detectMultiScale(gray, 1.3, 5)\n",
        "        lenf=len(faces)\n",
        "        if lenf>0:\n",
        "            print(lenf)\n",
        "            f, ax = plt.subplots(1,1+lenf, figsize=(2*(1+lenf),2))\n",
        "            ax[0].imshow(img, aspect='auto') \n",
        "            ax[0].set_xticks([]) \n",
        "            ax[0].set_yticks([])            \n",
        "            for j,(x,y,w,h) in enumerate(faces):\n",
        "                #print(x,y,w,h)\n",
        "                face = img[y:y+h, x:x+w]\n",
        "                face_file = str(i).zfill(4)+'_'+str(j).zfill(2)+'.png'\n",
        "                face_path = os.path.join(d_faces,face_file)\n",
        "                ax[j+1].imshow(face, aspect='auto')\n",
        "                ax[j+1].set_xticks([]) \n",
        "                ax[j+1].set_yticks([])\n",
        "                cv2.imwrite(face_path, cv2.cvtColor(face, cv2.COLOR_BGR2RGB))                \n",
        "            plt.show()\n",
        "    except:\n",
        "        print('except')\n",
        "        continue"
      ],
      "metadata": {
        "id": "7y3TQzfd8Dfq"
      },
      "execution_count": null,
      "outputs": []
    },
    {
      "cell_type": "code",
      "source": [],
      "metadata": {
        "id": "nSJBfsDV8InQ"
      },
      "execution_count": null,
      "outputs": []
    },
    {
      "cell_type": "code",
      "source": [],
      "metadata": {
        "id": "67E-fV0A8Itn"
      },
      "execution_count": null,
      "outputs": []
    }
  ]
}