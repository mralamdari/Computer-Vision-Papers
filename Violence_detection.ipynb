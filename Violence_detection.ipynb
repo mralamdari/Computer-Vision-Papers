{
  "nbformat": 4,
  "nbformat_minor": 0,
  "metadata": {
    "colab": {
      "provenance": [],
      "collapsed_sections": [
        "UZsOLhqj_A9C",
        "ymuYPCXF7jYl"
      ],
      "gpuType": "T4",
      "mount_file_id": "1cPJphDL6x1dCVFW5-TWFfuuYz5w5O1PP",
      "authorship_tag": "ABX9TyPbrs1B4PGOlq2pzLxbKRAW",
      "include_colab_link": true
    },
    "kernelspec": {
      "name": "python3",
      "display_name": "Python 3"
    },
    "language_info": {
      "name": "python"
    },
    "gpuClass": "standard"
  },
  "cells": [
    {
      "cell_type": "markdown",
      "metadata": {
        "id": "view-in-github",
        "colab_type": "text"
      },
      "source": [
        "<a href=\"https://colab.research.google.com/github/mralamdari/Computer-Vision-Papers/blob/main/Violence_detection.ipynb\" target=\"_parent\"><img src=\"https://colab.research.google.com/assets/colab-badge.svg\" alt=\"Open In Colab\"/></a>"
      ]
    },
    {
      "cell_type": "code",
      "source": [
        "import os\n",
        "import cv2\n",
        "import numpy as np\n",
        "import pandas as pd\n",
        "import matplotlib.pyplot as plt\n",
        "\n",
        "!pip uninstall emoji\n",
        "!pip install emoji==1.7.0\n",
        "!pip install text2emotion\n",
        "\n",
        "import text2emotion as te\n",
        "from IPython.display import clear_output \n",
        "\n",
        "clear_output()"
      ],
      "metadata": {
        "id": "zXD6MSIS8rkE"
      },
      "execution_count": 1,
      "outputs": []
    },
    {
      "cell_type": "markdown",
      "source": [
        "#Datasets\n",
        "\n",
        "[link 1](https://www.kaggle.com/datasets/adiamaan/movie-subtitle-dataset)\n",
        "[link 2](https://www.kaggle.com/datasets/mohamedmustafa/real-life-violence-situations-dataset)\n",
        "[link 3](https://github.com/airtlab/A-Dataset-for-Automatic-Violence-Detection-in-Videos.git)\n",
        "[link 4](https://www.kaggle.com/datasets/ashishpatel26/facial-expression-recognitionferchallenge)"
      ],
      "metadata": {
        "id": "UZsOLhqj_A9C"
      }
    },
    {
      "cell_type": "code",
      "execution_count": 2,
      "metadata": {
        "id": "cgsh4hWTkxg-"
      },
      "outputs": [],
      "source": [
        "os.environ['KAGGLE_CONFIG_DIR'] = '/content/drive/MyDrive'\n",
        "!kaggle datasets download -d mohamedmustafa/real-life-violence-situations-dataset\n",
        "!kaggle datasets download -d adiamaan/movie-subtitle-dataset\n",
        "!kaggle datasets download -d ashishpatel26/facial-expression-recognitionferchallenge\n",
        "!unzip \\*.zip && rm *.zip\n",
        "!git clone https://github.com/airtlab/A-Dataset-for-Automatic-Violence-Detection-in-Videos.git\n",
        "!wget --no-check-certificate \\\n",
        "    https://raw.githubusercontent.com/computationalcore/introduction-to-opencv/master/assets/haarcascade_frontalface_default.xml \\\n",
        "    -O haarcascade_frontalface_default.xml\n",
        "\n",
        "clear_output()"
      ]
    },
    {
      "cell_type": "code",
      "source": [
        "os.makedirs('/content/NonViolence/', exist_ok=True)\n",
        "os.makedirs('/content/Violence/', exist_ok=True)\n",
        "\n",
        "nv = '/content/Real Life Violence Dataset/NonViolence/'\n",
        "v = '/content/Real Life Violence Dataset/Violence/'\n",
        "\n",
        "for V in [v, nv]:\n",
        "  for i in os.listdir(V):\n",
        "    R = V+i\n",
        "    os.replace(R, R.replace('Real Life Violence Dataset/', ''))"
      ],
      "metadata": {
        "id": "7tSaSxl9_AcL"
      },
      "execution_count": 3,
      "outputs": []
    },
    {
      "cell_type": "code",
      "source": [
        "path = '/content/A-Dataset-for-Automatic-Violence-Detection-in-Videos/violence-detection-dataset/'\n",
        "choices = ['/content/NonViolence/', '/content/NonViolence/', '/content/Violence/', '/content/Violence/']\n",
        "\n",
        "for id, V in enumerate(['non-violent/cam1/', 'non-violent/cam2/', 'violent/cam1/', 'violent/cam2/']):\n",
        "  for i in os.listdir(path+V):\n",
        "    os.replace(path+V+i, choices[id]+i)"
      ],
      "metadata": {
        "id": "jOts7tMI_sl6"
      },
      "execution_count": 4,
      "outputs": []
    },
    {
      "cell_type": "code",
      "source": [
        "os.makedirs('/content/data/', exist_ok=True)\n",
        "os.replace('/content/NonViolence/', '/content/data/NonViolence/')\n",
        "os.replace('/content/Violence/', '/content/data/Violence/')"
      ],
      "metadata": {
        "id": "1NDZZ8C-f59J"
      },
      "execution_count": 5,
      "outputs": []
    },
    {
      "cell_type": "code",
      "source": [
        "subs = pd.read_csv('/content/movies_subtitles.csv')"
      ],
      "metadata": {
        "id": "uGMAIBbEAGDH"
      },
      "execution_count": 6,
      "outputs": []
    },
    {
      "cell_type": "code",
      "source": [
        "subs"
      ],
      "metadata": {
        "id": "pqIYbR9lAjjg",
        "colab": {
          "base_uri": "https://localhost:8080/",
          "height": 502
        },
        "outputId": "13734c0c-78ea-42a9-819c-9c30dea5349d"
      },
      "execution_count": 7,
      "outputs": [
        {
          "output_type": "execute_result",
          "data": {
            "text/plain": [
              "          start_time  end_time  \\\n",
              "0             58.559    61.602   \n",
              "1             61.687    63.354   \n",
              "2             64.398    66.482   \n",
              "3             68.318    71.612   \n",
              "4             71.697    74.031   \n",
              "...              ...       ...   \n",
              "10358491    6309.266  6310.260   \n",
              "10358492    6326.766  6330.213   \n",
              "10358493    6331.850  6333.046   \n",
              "10358494    6335.225  6337.547   \n",
              "10358495    6547.894  6552.018   \n",
              "\n",
              "                                                       text    imdb_id  \n",
              "0         BOY: All right, everyone!\\nThis... is a stick-up!  tt0114709  \n",
              "1                                       Don't anybody move!  tt0114709  \n",
              "2                                     Now, empty that safe!  tt0114709  \n",
              "3              Ooh-hoo-hoo!\\nMoney, money, money! (KISSING)  tt0114709  \n",
              "4                  Stop it! Stop it,\\nyou mean, old potato!  tt0114709  \n",
              "...                                                     ...        ...  \n",
              "10358491                                           60 Euro.  tt1576450  \n",
              "10358492   The slippers are sold out!\\nWhat do we make now?  tt1576450  \n",
              "10358493                                         Let's see.  tt1576450  \n",
              "10358494                           One day after the other.  tt1576450  \n",
              "10358495                           English Subtitles:\\nElan  tt1576450  \n",
              "\n",
              "[10358496 rows x 4 columns]"
            ],
            "text/html": [
              "\n",
              "  <div id=\"df-69873699-378a-4129-b9b8-8255d46bf940\">\n",
              "    <div class=\"colab-df-container\">\n",
              "      <div>\n",
              "<style scoped>\n",
              "    .dataframe tbody tr th:only-of-type {\n",
              "        vertical-align: middle;\n",
              "    }\n",
              "\n",
              "    .dataframe tbody tr th {\n",
              "        vertical-align: top;\n",
              "    }\n",
              "\n",
              "    .dataframe thead th {\n",
              "        text-align: right;\n",
              "    }\n",
              "</style>\n",
              "<table border=\"1\" class=\"dataframe\">\n",
              "  <thead>\n",
              "    <tr style=\"text-align: right;\">\n",
              "      <th></th>\n",
              "      <th>start_time</th>\n",
              "      <th>end_time</th>\n",
              "      <th>text</th>\n",
              "      <th>imdb_id</th>\n",
              "    </tr>\n",
              "  </thead>\n",
              "  <tbody>\n",
              "    <tr>\n",
              "      <th>0</th>\n",
              "      <td>58.559</td>\n",
              "      <td>61.602</td>\n",
              "      <td>BOY: All right, everyone!\\nThis... is a stick-up!</td>\n",
              "      <td>tt0114709</td>\n",
              "    </tr>\n",
              "    <tr>\n",
              "      <th>1</th>\n",
              "      <td>61.687</td>\n",
              "      <td>63.354</td>\n",
              "      <td>Don't anybody move!</td>\n",
              "      <td>tt0114709</td>\n",
              "    </tr>\n",
              "    <tr>\n",
              "      <th>2</th>\n",
              "      <td>64.398</td>\n",
              "      <td>66.482</td>\n",
              "      <td>Now, empty that safe!</td>\n",
              "      <td>tt0114709</td>\n",
              "    </tr>\n",
              "    <tr>\n",
              "      <th>3</th>\n",
              "      <td>68.318</td>\n",
              "      <td>71.612</td>\n",
              "      <td>Ooh-hoo-hoo!\\nMoney, money, money! (KISSING)</td>\n",
              "      <td>tt0114709</td>\n",
              "    </tr>\n",
              "    <tr>\n",
              "      <th>4</th>\n",
              "      <td>71.697</td>\n",
              "      <td>74.031</td>\n",
              "      <td>Stop it! Stop it,\\nyou mean, old potato!</td>\n",
              "      <td>tt0114709</td>\n",
              "    </tr>\n",
              "    <tr>\n",
              "      <th>...</th>\n",
              "      <td>...</td>\n",
              "      <td>...</td>\n",
              "      <td>...</td>\n",
              "      <td>...</td>\n",
              "    </tr>\n",
              "    <tr>\n",
              "      <th>10358491</th>\n",
              "      <td>6309.266</td>\n",
              "      <td>6310.260</td>\n",
              "      <td>60 Euro.</td>\n",
              "      <td>tt1576450</td>\n",
              "    </tr>\n",
              "    <tr>\n",
              "      <th>10358492</th>\n",
              "      <td>6326.766</td>\n",
              "      <td>6330.213</td>\n",
              "      <td>The slippers are sold out!\\nWhat do we make now?</td>\n",
              "      <td>tt1576450</td>\n",
              "    </tr>\n",
              "    <tr>\n",
              "      <th>10358493</th>\n",
              "      <td>6331.850</td>\n",
              "      <td>6333.046</td>\n",
              "      <td>Let's see.</td>\n",
              "      <td>tt1576450</td>\n",
              "    </tr>\n",
              "    <tr>\n",
              "      <th>10358494</th>\n",
              "      <td>6335.225</td>\n",
              "      <td>6337.547</td>\n",
              "      <td>One day after the other.</td>\n",
              "      <td>tt1576450</td>\n",
              "    </tr>\n",
              "    <tr>\n",
              "      <th>10358495</th>\n",
              "      <td>6547.894</td>\n",
              "      <td>6552.018</td>\n",
              "      <td>English Subtitles:\\nElan</td>\n",
              "      <td>tt1576450</td>\n",
              "    </tr>\n",
              "  </tbody>\n",
              "</table>\n",
              "<p>10358496 rows × 4 columns</p>\n",
              "</div>\n",
              "      <button class=\"colab-df-convert\" onclick=\"convertToInteractive('df-69873699-378a-4129-b9b8-8255d46bf940')\"\n",
              "              title=\"Convert this dataframe to an interactive table.\"\n",
              "              style=\"display:none;\">\n",
              "        \n",
              "  <svg xmlns=\"http://www.w3.org/2000/svg\" height=\"24px\"viewBox=\"0 0 24 24\"\n",
              "       width=\"24px\">\n",
              "    <path d=\"M0 0h24v24H0V0z\" fill=\"none\"/>\n",
              "    <path d=\"M18.56 5.44l.94 2.06.94-2.06 2.06-.94-2.06-.94-.94-2.06-.94 2.06-2.06.94zm-11 1L8.5 8.5l.94-2.06 2.06-.94-2.06-.94L8.5 2.5l-.94 2.06-2.06.94zm10 10l.94 2.06.94-2.06 2.06-.94-2.06-.94-.94-2.06-.94 2.06-2.06.94z\"/><path d=\"M17.41 7.96l-1.37-1.37c-.4-.4-.92-.59-1.43-.59-.52 0-1.04.2-1.43.59L10.3 9.45l-7.72 7.72c-.78.78-.78 2.05 0 2.83L4 21.41c.39.39.9.59 1.41.59.51 0 1.02-.2 1.41-.59l7.78-7.78 2.81-2.81c.8-.78.8-2.07 0-2.86zM5.41 20L4 18.59l7.72-7.72 1.47 1.35L5.41 20z\"/>\n",
              "  </svg>\n",
              "      </button>\n",
              "      \n",
              "  <style>\n",
              "    .colab-df-container {\n",
              "      display:flex;\n",
              "      flex-wrap:wrap;\n",
              "      gap: 12px;\n",
              "    }\n",
              "\n",
              "    .colab-df-convert {\n",
              "      background-color: #E8F0FE;\n",
              "      border: none;\n",
              "      border-radius: 50%;\n",
              "      cursor: pointer;\n",
              "      display: none;\n",
              "      fill: #1967D2;\n",
              "      height: 32px;\n",
              "      padding: 0 0 0 0;\n",
              "      width: 32px;\n",
              "    }\n",
              "\n",
              "    .colab-df-convert:hover {\n",
              "      background-color: #E2EBFA;\n",
              "      box-shadow: 0px 1px 2px rgba(60, 64, 67, 0.3), 0px 1px 3px 1px rgba(60, 64, 67, 0.15);\n",
              "      fill: #174EA6;\n",
              "    }\n",
              "\n",
              "    [theme=dark] .colab-df-convert {\n",
              "      background-color: #3B4455;\n",
              "      fill: #D2E3FC;\n",
              "    }\n",
              "\n",
              "    [theme=dark] .colab-df-convert:hover {\n",
              "      background-color: #434B5C;\n",
              "      box-shadow: 0px 1px 3px 1px rgba(0, 0, 0, 0.15);\n",
              "      filter: drop-shadow(0px 1px 2px rgba(0, 0, 0, 0.3));\n",
              "      fill: #FFFFFF;\n",
              "    }\n",
              "  </style>\n",
              "\n",
              "      <script>\n",
              "        const buttonEl =\n",
              "          document.querySelector('#df-69873699-378a-4129-b9b8-8255d46bf940 button.colab-df-convert');\n",
              "        buttonEl.style.display =\n",
              "          google.colab.kernel.accessAllowed ? 'block' : 'none';\n",
              "\n",
              "        async function convertToInteractive(key) {\n",
              "          const element = document.querySelector('#df-69873699-378a-4129-b9b8-8255d46bf940');\n",
              "          const dataTable =\n",
              "            await google.colab.kernel.invokeFunction('convertToInteractive',\n",
              "                                                     [key], {});\n",
              "          if (!dataTable) return;\n",
              "\n",
              "          const docLinkHtml = 'Like what you see? Visit the ' +\n",
              "            '<a target=\"_blank\" href=https://colab.research.google.com/notebooks/data_table.ipynb>data table notebook</a>'\n",
              "            + ' to learn more about interactive tables.';\n",
              "          element.innerHTML = '';\n",
              "          dataTable['output_type'] = 'display_data';\n",
              "          await google.colab.output.renderOutput(dataTable, element);\n",
              "          const docLink = document.createElement('div');\n",
              "          docLink.innerHTML = docLinkHtml;\n",
              "          element.appendChild(docLink);\n",
              "        }\n",
              "      </script>\n",
              "    </div>\n",
              "  </div>\n",
              "  "
            ]
          },
          "metadata": {},
          "execution_count": 7
        }
      ]
    },
    {
      "cell_type": "markdown",
      "source": [
        "#Text"
      ],
      "metadata": {
        "id": "pmWa8_62qsC1"
      }
    },
    {
      "cell_type": "code",
      "source": [
        "sample = \"I was asked to sign a third party contract a week out from stay\"\n",
        "te.get_emotion(sample)"
      ],
      "metadata": {
        "colab": {
          "base_uri": "https://localhost:8080/"
        },
        "id": "MMnVFyWGqwQ3",
        "outputId": "b036e724-3104-422e-886f-4eb72657d8c8"
      },
      "execution_count": 8,
      "outputs": [
        {
          "output_type": "execute_result",
          "data": {
            "text/plain": [
              "{'Happy': 0.0, 'Angry': 0.25, 'Surprise': 0.0, 'Sad': 0.0, 'Fear': 0.75}"
            ]
          },
          "metadata": {},
          "execution_count": 8
        }
      ]
    },
    {
      "cell_type": "code",
      "source": [
        "abbreviations = {\n",
        "    \"$\" : \" dollar \",\n",
        "    \"€\" : \" euro \",\n",
        "    \"4ao\" : \"for adults only\",\n",
        "    \"a.m\" : \"before midday\",\n",
        "    \"a3\" : \"anytime anywhere anyplace\",\n",
        "    \"aamof\" : \"as a matter of fact\",\n",
        "    \"acct\" : \"account\",\n",
        "    \"adih\" : \"another day in hell\",\n",
        "    \"afaic\" : \"as far as i am concerned\",\n",
        "    \"afaict\" : \"as far as i can tell\",\n",
        "    \"afaik\" : \"as far as i know\",\n",
        "    \"afair\" : \"as far as i remember\",\n",
        "    \"afk\" : \"away from keyboard\",\n",
        "    \"app\" : \"application\",\n",
        "    \"approx\" : \"approximately\",\n",
        "    \"apps\" : \"applications\",\n",
        "    \"asap\" : \"as soon as possible\",\n",
        "    \"asl\" : \"age, sex, location\",\n",
        "    \"atk\" : \"at the keyboard\",\n",
        "    \"ave.\" : \"avenue\",\n",
        "    \"aymm\" : \"are you my mother\",\n",
        "    \"ayor\" : \"at your own risk\", \n",
        "    \"b&b\" : \"bed and breakfast\",\n",
        "    \"b+b\" : \"bed and breakfast\",\n",
        "    \"b.c\" : \"before christ\",\n",
        "    \"b2b\" : \"business to business\",\n",
        "    \"b2c\" : \"business to customer\",\n",
        "    \"b4\" : \"before\",\n",
        "    \"b4n\" : \"bye for now\",\n",
        "    \"b@u\" : \"back at you\",\n",
        "    \"bae\" : \"before anyone else\",\n",
        "    \"bak\" : \"back at keyboard\",\n",
        "    \"bbbg\" : \"bye bye be good\",\n",
        "    \"bbc\" : \"british broadcasting corporation\",\n",
        "    \"bbias\" : \"be back in a second\",\n",
        "    \"bbl\" : \"be back later\",\n",
        "    \"bbs\" : \"be back soon\",\n",
        "    \"be4\" : \"before\",\n",
        "    \"bfn\" : \"bye for now\",\n",
        "    \"blvd\" : \"boulevard\",\n",
        "    \"bout\" : \"about\",\n",
        "    \"brb\" : \"be right back\",\n",
        "    \"bros\" : \"brothers\",\n",
        "    \"brt\" : \"be right there\",\n",
        "    \"bsaaw\" : \"big smile and a wink\",\n",
        "    \"btw\" : \"by the way\",\n",
        "    \"bwl\" : \"bursting with laughter\",\n",
        "    \"c/o\" : \"care of\",\n",
        "    \"cet\" : \"central european time\",\n",
        "    \"cf\" : \"compare\",\n",
        "    \"cia\" : \"central intelligence agency\",\n",
        "    \"csl\" : \"can not stop laughing\",\n",
        "    \"cu\" : \"see you\",\n",
        "    \"cul8r\" : \"see you later\",\n",
        "    \"cv\" : \"curriculum vitae\",\n",
        "    \"cwot\" : \"complete waste of time\",\n",
        "    \"cya\" : \"see you\",\n",
        "    \"cyt\" : \"see you tomorrow\",\n",
        "    \"dae\" : \"does anyone else\",\n",
        "    \"dbmib\" : \"do not bother me i am busy\",\n",
        "    \"diy\" : \"do it yourself\",\n",
        "    \"dm\" : \"direct message\",\n",
        "    \"dwh\" : \"during work hours\",\n",
        "    \"e123\" : \"easy as one two three\",\n",
        "    \"eet\" : \"eastern european time\",\n",
        "    \"eg\" : \"example\",\n",
        "    \"embm\" : \"early morning business meeting\",\n",
        "    \"encl\" : \"enclosed\",\n",
        "    \"encl.\" : \"enclosed\",\n",
        "    \"etc\" : \"and so on\",\n",
        "    \"faq\" : \"frequently asked questions\",\n",
        "    \"fawc\" : \"for anyone who cares\",\n",
        "    \"fb\" : \"facebook\",\n",
        "    \"fc\" : \"fingers crossed\",\n",
        "    \"fig\" : \"figure\",\n",
        "    \"fimh\" : \"forever in my heart\", \n",
        "    \"ft.\" : \"feet\",\n",
        "    \"ft\" : \"featuring\",\n",
        "    \"ftl\" : \"for the loss\",\n",
        "    \"ftw\" : \"for the win\",\n",
        "    \"fwiw\" : \"for what it is worth\",\n",
        "    \"fyi\" : \"for your information\",\n",
        "    \"g9\" : \"genius\",\n",
        "    \"gahoy\" : \"get a hold of yourself\",\n",
        "    \"gal\" : \"get a life\",\n",
        "    \"gcse\" : \"general certificate of secondary education\",\n",
        "    \"gfn\" : \"gone for now\",\n",
        "    \"gg\" : \"good game\",\n",
        "    \"gl\" : \"good luck\",\n",
        "    \"glhf\" : \"good luck have fun\",\n",
        "    \"gmt\" : \"greenwich mean time\",\n",
        "    \"gmta\" : \"great minds think alike\",\n",
        "    \"gn\" : \"good night\",\n",
        "    \"g.o.a.t\" : \"greatest of all time\",\n",
        "    \"goat\" : \"greatest of all time\",\n",
        "    \"goi\" : \"get over it\",\n",
        "    \"gps\" : \"global positioning system\",\n",
        "    \"gr8\" : \"great\",\n",
        "    \"gratz\" : \"congratulations\",\n",
        "    \"gyal\" : \"girl\",\n",
        "    \"h&c\" : \"hot and cold\",\n",
        "    \"hp\" : \"horsepower\",\n",
        "    \"hr\" : \"hour\",\n",
        "    \"hrh\" : \"his royal highness\",\n",
        "    \"ht\" : \"height\",\n",
        "    \"ibrb\" : \"i will be right back\",\n",
        "    \"ic\" : \"i see\",\n",
        "    \"icq\" : \"i seek you\",\n",
        "    \"icymi\" : \"in case you missed it\",\n",
        "    \"idc\" : \"i do not care\",\n",
        "    \"idgadf\" : \"i do not give a damn fuck\",\n",
        "    \"idgaf\" : \"i do not give a fuck\",\n",
        "    \"idk\" : \"i do not know\",\n",
        "    \"ie\" : \"that is\",\n",
        "    \"i.e\" : \"that is\",\n",
        "    \"ifyp\" : \"i feel your pain\",\n",
        "    \"IG\" : \"instagram\",\n",
        "    \"iirc\" : \"if i remember correctly\",\n",
        "    \"ilu\" : \"i love you\",\n",
        "    \"ily\" : \"i love you\",\n",
        "    \"imho\" : \"in my humble opinion\",\n",
        "    \"imo\" : \"in my opinion\",\n",
        "    \"imu\" : \"i miss you\",\n",
        "    \"iow\" : \"in other words\",\n",
        "    \"irl\" : \"in real life\",\n",
        "    \"j4f\" : \"just for fun\",\n",
        "    \"jic\" : \"just in case\",\n",
        "    \"jk\" : \"just kidding\",\n",
        "    \"jsyk\" : \"just so you know\",\n",
        "    \"l8r\" : \"later\",\n",
        "    \"lb\" : \"pound\",\n",
        "    \"lbs\" : \"pounds\",\n",
        "    \"ldr\" : \"long distance relationship\",\n",
        "    \"lmao\" : \"laugh my ass off\",\n",
        "    \"lmfao\" : \"laugh my fucking ass off\",\n",
        "    \"lol\" : \"laughing out loud\",\n",
        "    \"ltd\" : \"limited\",\n",
        "    \"ltns\" : \"long time no see\",\n",
        "    \"m8\" : \"mate\",\n",
        "    \"mf\" : \"motherfucker\",\n",
        "    \"mfs\" : \"motherfuckers\",\n",
        "    \"mfw\" : \"my face when\",\n",
        "    \"mofo\" : \"motherfucker\",\n",
        "    \"mph\" : \"miles per hour\",\n",
        "    \"mr\" : \"mister\",\n",
        "    \"mrw\" : \"my reaction when\",\n",
        "    \"ms\" : \"miss\",\n",
        "    \"mte\" : \"my thoughts exactly\",\n",
        "    \"nagi\" : \"not a good idea\",\n",
        "    \"nbc\" : \"national broadcasting company\",\n",
        "    \"nbd\" : \"not big deal\",\n",
        "    \"nfs\" : \"not for sale\",\n",
        "    \"ngl\" : \"not going to lie\",\n",
        "    \"nhs\" : \"national health service\",\n",
        "    \"nrn\" : \"no reply necessary\",\n",
        "    \"nsfl\" : \"not safe for life\",\n",
        "    \"nsfw\" : \"not safe for work\",\n",
        "    \"nth\" : \"nice to have\",\n",
        "    \"nvr\" : \"never\",\n",
        "    \"nyc\" : \"new york city\",\n",
        "    \"oc\" : \"original content\",\n",
        "    \"og\" : \"original\",\n",
        "    \"ohp\" : \"overhead projector\",\n",
        "    \"oic\" : \"oh i see\",\n",
        "    \"omdb\" : \"over my dead body\",\n",
        "    \"omg\" : \"oh my god\",\n",
        "    \"omw\" : \"on my way\",\n",
        "    \"p.a\" : \"per annum\",\n",
        "    \"p.m\" : \"after midday\",\n",
        "    \"pm\" : \"prime minister\",\n",
        "    \"poc\" : \"people of color\",\n",
        "    \"pov\" : \"point of view\",\n",
        "    \"pp\" : \"pages\",\n",
        "    \"ppl\" : \"people\",\n",
        "    \"prw\" : \"parents are watching\",\n",
        "    \"ps\" : \"postscript\",\n",
        "    \"pt\" : \"point\",\n",
        "    \"ptb\" : \"please text back\",\n",
        "    \"pto\" : \"please turn over\",\n",
        "    \"qpsa\" : \"what happens\", #\"que pasa\",\n",
        "    \"ratchet\" : \"rude\",\n",
        "    \"rbtl\" : \"read between the lines\",\n",
        "    \"rlrt\" : \"real life retweet\", \n",
        "    \"rofl\" : \"rolling on the floor laughing\",\n",
        "    \"roflol\" : \"rolling on the floor laughing out loud\",\n",
        "    \"rotflmao\" : \"rolling on the floor laughing my ass off\",\n",
        "    \"rt\" : \"retweet\",\n",
        "    \"ruok\" : \"are you ok\",\n",
        "    \"sfw\" : \"safe for work\",\n",
        "    \"sk8\" : \"skate\",\n",
        "    \"smh\" : \"shake my head\",\n",
        "    \"sq\" : \"square\",\n",
        "    \"srsly\" : \"seriously\", \n",
        "    \"ssdd\" : \"same stuff different day\",\n",
        "    \"tbh\" : \"to be honest\",\n",
        "    \"tbs\" : \"tablespooful\",\n",
        "    \"tbsp\" : \"tablespooful\",\n",
        "    \"tfw\" : \"that feeling when\",\n",
        "    \"thks\" : \"thank you\",\n",
        "    \"tho\" : \"though\",\n",
        "    \"thx\" : \"thank you\",\n",
        "    \"tia\" : \"thanks in advance\",\n",
        "    \"til\" : \"today i learned\",\n",
        "    \"tl;dr\" : \"too long i did not read\",\n",
        "    \"tldr\" : \"too long i did not read\",\n",
        "    \"tmb\" : \"tweet me back\",\n",
        "    \"tntl\" : \"trying not to laugh\",\n",
        "    \"ttyl\" : \"talk to you later\",\n",
        "    \"u\" : \"you\",\n",
        "    \"u2\" : \"you too\",\n",
        "    \"u4e\" : \"yours for ever\",\n",
        "    \"utc\" : \"coordinated universal time\",\n",
        "    \"w/\" : \"with\",\n",
        "    \"w/o\" : \"without\",\n",
        "    \"w8\" : \"wait\",\n",
        "    \"wassup\" : \"what is up\",\n",
        "    \"wb\" : \"welcome back\",\n",
        "    \"wtf\" : \"what the fuck\",\n",
        "    \"wtg\" : \"way to go\",\n",
        "    \"wtpa\" : \"where the party at\",\n",
        "    \"wuf\" : \"where are you from\",\n",
        "    \"wuzup\" : \"what is up\",\n",
        "    \"wywh\" : \"wish you were here\",\n",
        "    \"yd\" : \"yard\",\n",
        "    \"ygtr\" : \"you got that right\",\n",
        "    \"ynk\" : \"you never know\",\n",
        "    \"zzz\" : \"sleeping bored and tired\"\n",
        "}\n",
        "\n",
        "def convert_abb(x):\n",
        "    if type(x) != str:\n",
        "      return str(x)\n",
        "    word_list = x.split()\n",
        "    r_string = []\n",
        "    for word in word_list:\n",
        "        r_string.append(abbreviations[word.lower()] if word.lower() in abbreviations.keys() else word)\n",
        "    return ' '.join(r_string)"
      ],
      "metadata": {
        "id": "Df0N9bSvvk2W"
      },
      "execution_count": 9,
      "outputs": []
    },
    {
      "cell_type": "code",
      "source": [
        "subs['text'] = subs.text.apply(convert_abb)"
      ],
      "metadata": {
        "id": "mkbQAmvivu3S"
      },
      "execution_count": 10,
      "outputs": []
    },
    {
      "cell_type": "code",
      "source": [
        "# ss = subs.text.apply(lambda x: te.get_emotion(x))\n",
        "\n",
        "for id, sample in enumerate(subs.text[:2000000]):\n",
        "  if id%100==0:\n",
        "    print(id)\n",
        "  emotions = te.get_emotion(sample)\n",
        "  for pred in emotions:\n",
        "    with open(f\"/content/drive/MyDrive/University/Violence_Detection/Text_Emotion.txt\", 'a+') as f:\n",
        "      f.write(pred+',')"
      ],
      "metadata": {
        "id": "NEXAzUOW932Q",
        "colab": {
          "base_uri": "https://localhost:8080/"
        },
        "outputId": "7f4785b4-f42a-4d7f-a67d-6418a66e12b0"
      },
      "execution_count": null,
      "outputs": [
        {
          "output_type": "stream",
          "name": "stdout",
          "text": [
            "13700\n",
            "13800\n",
            "13900\n",
            "14000\n",
            "14100\n",
            "14200\n",
            "14300\n",
            "14400\n",
            "14500\n",
            "14600\n",
            "14700\n",
            "14800\n",
            "14900\n",
            "15000\n",
            "15100\n",
            "15200\n",
            "15300\n",
            "15400\n",
            "15500\n",
            "15600\n",
            "15700\n",
            "15800\n",
            "15900\n",
            "16000\n",
            "16100\n",
            "16200\n",
            "16300\n",
            "16400\n",
            "16500\n",
            "16600\n",
            "16700\n",
            "16800\n",
            "16900\n",
            "17000\n",
            "17100\n",
            "17200\n",
            "17300\n",
            "17400\n",
            "17500\n",
            "17600\n",
            "17700\n",
            "17800\n",
            "17900\n",
            "18000\n",
            "18100\n",
            "18200\n",
            "18300\n",
            "18400\n",
            "18500\n",
            "18600\n",
            "18700\n",
            "18800\n",
            "18900\n",
            "19000\n",
            "19100\n",
            "19200\n",
            "19300\n",
            "19400\n",
            "19500\n",
            "19600\n",
            "19700\n",
            "19800\n",
            "19900\n",
            "20000\n",
            "20100\n",
            "20200\n",
            "20300\n",
            "20400\n",
            "20500\n",
            "20600\n",
            "20700\n",
            "20800\n",
            "20900\n",
            "21000\n",
            "21100\n",
            "21200\n",
            "21300\n",
            "21400\n",
            "21500\n",
            "21600\n",
            "21700\n",
            "21800\n",
            "21900\n",
            "22000\n",
            "22100\n",
            "22200\n",
            "22300\n",
            "22400\n",
            "22500\n",
            "22600\n",
            "22700\n",
            "22800\n",
            "22900\n",
            "23000\n",
            "23100\n",
            "23200\n",
            "23300\n",
            "23400\n",
            "23500\n",
            "23600\n",
            "23700\n",
            "23800\n",
            "23900\n",
            "24000\n",
            "24100\n",
            "24200\n",
            "24300\n",
            "24400\n",
            "24500\n",
            "24600\n",
            "24700\n",
            "24800\n",
            "24900\n",
            "25000\n",
            "25100\n",
            "25200\n",
            "25300\n"
          ]
        }
      ]
    },
    {
      "cell_type": "markdown",
      "source": [
        "#Video"
      ],
      "metadata": {
        "id": "ymuYPCXF7jYl"
      }
    },
    {
      "cell_type": "code",
      "source": [
        "# import math\n",
        "# import numpy as np\n",
        "# import pandas as pd\n",
        "\n",
        "# import cv2\n",
        "# import seaborn as sns\n",
        "# from matplotlib import pyplot\n",
        "\n",
        "# from sklearn.model_selection import train_test_split\n",
        "# from sklearn.preprocessing import LabelEncoder\n",
        "# from sklearn.metrics import classification_report\n",
        "\n",
        "# import tensorflow as tf\n",
        "# from tensorflow.keras import optimizers\n",
        "# from tensorflow.keras.models import Model\n",
        "# from tensorflow.keras.layers import Flatten, Dense, Conv2D, GlobalAveragePooling2D\n",
        "# from tensorflow.keras.layers import Dropout, BatchNormalization, Activation\n",
        "# from tensorflow.keras.callbacks import Callback, EarlyStopping, ReduceLROnPlateau\n",
        "# from tensorflow.keras.preprocessing.image import ImageDataGenerator\n",
        "\n",
        "# from keras.utils import np_utils\n",
        "\n",
        "\n",
        "df = pd.read_csv('/content/fer2013/fer2013/fer2013.csv')\n",
        "print(df.shape)\n",
        "df.head()"
      ],
      "metadata": {
        "colab": {
          "base_uri": "https://localhost:8080/",
          "height": 224
        },
        "id": "Pr4xcOx2DXrK",
        "outputId": "443a178c-e674-41f4-ef87-9464ea85a60a"
      },
      "execution_count": null,
      "outputs": [
        {
          "output_type": "stream",
          "name": "stdout",
          "text": [
            "(35887, 3)\n"
          ]
        },
        {
          "output_type": "execute_result",
          "data": {
            "text/plain": [
              "   emotion                                             pixels     Usage\n",
              "0        0  70 80 82 72 58 58 60 63 54 58 60 48 89 115 121...  Training\n",
              "1        0  151 150 147 155 148 133 111 140 170 174 182 15...  Training\n",
              "2        2  231 212 156 164 174 138 161 173 182 200 106 38...  Training\n",
              "3        4  24 32 36 30 32 23 19 20 30 41 21 22 32 34 21 1...  Training\n",
              "4        6  4 0 0 0 0 0 0 0 0 0 0 0 3 15 23 28 48 50 58 84...  Training"
            ],
            "text/html": [
              "\n",
              "  <div id=\"df-bcae09aa-c48f-4c22-be9c-8fb557ce6a38\">\n",
              "    <div class=\"colab-df-container\">\n",
              "      <div>\n",
              "<style scoped>\n",
              "    .dataframe tbody tr th:only-of-type {\n",
              "        vertical-align: middle;\n",
              "    }\n",
              "\n",
              "    .dataframe tbody tr th {\n",
              "        vertical-align: top;\n",
              "    }\n",
              "\n",
              "    .dataframe thead th {\n",
              "        text-align: right;\n",
              "    }\n",
              "</style>\n",
              "<table border=\"1\" class=\"dataframe\">\n",
              "  <thead>\n",
              "    <tr style=\"text-align: right;\">\n",
              "      <th></th>\n",
              "      <th>emotion</th>\n",
              "      <th>pixels</th>\n",
              "      <th>Usage</th>\n",
              "    </tr>\n",
              "  </thead>\n",
              "  <tbody>\n",
              "    <tr>\n",
              "      <th>0</th>\n",
              "      <td>0</td>\n",
              "      <td>70 80 82 72 58 58 60 63 54 58 60 48 89 115 121...</td>\n",
              "      <td>Training</td>\n",
              "    </tr>\n",
              "    <tr>\n",
              "      <th>1</th>\n",
              "      <td>0</td>\n",
              "      <td>151 150 147 155 148 133 111 140 170 174 182 15...</td>\n",
              "      <td>Training</td>\n",
              "    </tr>\n",
              "    <tr>\n",
              "      <th>2</th>\n",
              "      <td>2</td>\n",
              "      <td>231 212 156 164 174 138 161 173 182 200 106 38...</td>\n",
              "      <td>Training</td>\n",
              "    </tr>\n",
              "    <tr>\n",
              "      <th>3</th>\n",
              "      <td>4</td>\n",
              "      <td>24 32 36 30 32 23 19 20 30 41 21 22 32 34 21 1...</td>\n",
              "      <td>Training</td>\n",
              "    </tr>\n",
              "    <tr>\n",
              "      <th>4</th>\n",
              "      <td>6</td>\n",
              "      <td>4 0 0 0 0 0 0 0 0 0 0 0 3 15 23 28 48 50 58 84...</td>\n",
              "      <td>Training</td>\n",
              "    </tr>\n",
              "  </tbody>\n",
              "</table>\n",
              "</div>\n",
              "      <button class=\"colab-df-convert\" onclick=\"convertToInteractive('df-bcae09aa-c48f-4c22-be9c-8fb557ce6a38')\"\n",
              "              title=\"Convert this dataframe to an interactive table.\"\n",
              "              style=\"display:none;\">\n",
              "        \n",
              "  <svg xmlns=\"http://www.w3.org/2000/svg\" height=\"24px\"viewBox=\"0 0 24 24\"\n",
              "       width=\"24px\">\n",
              "    <path d=\"M0 0h24v24H0V0z\" fill=\"none\"/>\n",
              "    <path d=\"M18.56 5.44l.94 2.06.94-2.06 2.06-.94-2.06-.94-.94-2.06-.94 2.06-2.06.94zm-11 1L8.5 8.5l.94-2.06 2.06-.94-2.06-.94L8.5 2.5l-.94 2.06-2.06.94zm10 10l.94 2.06.94-2.06 2.06-.94-2.06-.94-.94-2.06-.94 2.06-2.06.94z\"/><path d=\"M17.41 7.96l-1.37-1.37c-.4-.4-.92-.59-1.43-.59-.52 0-1.04.2-1.43.59L10.3 9.45l-7.72 7.72c-.78.78-.78 2.05 0 2.83L4 21.41c.39.39.9.59 1.41.59.51 0 1.02-.2 1.41-.59l7.78-7.78 2.81-2.81c.8-.78.8-2.07 0-2.86zM5.41 20L4 18.59l7.72-7.72 1.47 1.35L5.41 20z\"/>\n",
              "  </svg>\n",
              "      </button>\n",
              "      \n",
              "  <style>\n",
              "    .colab-df-container {\n",
              "      display:flex;\n",
              "      flex-wrap:wrap;\n",
              "      gap: 12px;\n",
              "    }\n",
              "\n",
              "    .colab-df-convert {\n",
              "      background-color: #E8F0FE;\n",
              "      border: none;\n",
              "      border-radius: 50%;\n",
              "      cursor: pointer;\n",
              "      display: none;\n",
              "      fill: #1967D2;\n",
              "      height: 32px;\n",
              "      padding: 0 0 0 0;\n",
              "      width: 32px;\n",
              "    }\n",
              "\n",
              "    .colab-df-convert:hover {\n",
              "      background-color: #E2EBFA;\n",
              "      box-shadow: 0px 1px 2px rgba(60, 64, 67, 0.3), 0px 1px 3px 1px rgba(60, 64, 67, 0.15);\n",
              "      fill: #174EA6;\n",
              "    }\n",
              "\n",
              "    [theme=dark] .colab-df-convert {\n",
              "      background-color: #3B4455;\n",
              "      fill: #D2E3FC;\n",
              "    }\n",
              "\n",
              "    [theme=dark] .colab-df-convert:hover {\n",
              "      background-color: #434B5C;\n",
              "      box-shadow: 0px 1px 3px 1px rgba(0, 0, 0, 0.15);\n",
              "      filter: drop-shadow(0px 1px 2px rgba(0, 0, 0, 0.3));\n",
              "      fill: #FFFFFF;\n",
              "    }\n",
              "  </style>\n",
              "\n",
              "      <script>\n",
              "        const buttonEl =\n",
              "          document.querySelector('#df-bcae09aa-c48f-4c22-be9c-8fb557ce6a38 button.colab-df-convert');\n",
              "        buttonEl.style.display =\n",
              "          google.colab.kernel.accessAllowed ? 'block' : 'none';\n",
              "\n",
              "        async function convertToInteractive(key) {\n",
              "          const element = document.querySelector('#df-bcae09aa-c48f-4c22-be9c-8fb557ce6a38');\n",
              "          const dataTable =\n",
              "            await google.colab.kernel.invokeFunction('convertToInteractive',\n",
              "                                                     [key], {});\n",
              "          if (!dataTable) return;\n",
              "\n",
              "          const docLinkHtml = 'Like what you see? Visit the ' +\n",
              "            '<a target=\"_blank\" href=https://colab.research.google.com/notebooks/data_table.ipynb>data table notebook</a>'\n",
              "            + ' to learn more about interactive tables.';\n",
              "          element.innerHTML = '';\n",
              "          dataTable['output_type'] = 'display_data';\n",
              "          await google.colab.output.renderOutput(dataTable, element);\n",
              "          const docLink = document.createElement('div');\n",
              "          docLink.innerHTML = docLinkHtml;\n",
              "          element.appendChild(docLink);\n",
              "        }\n",
              "      </script>\n",
              "    </div>\n",
              "  </div>\n",
              "  "
            ]
          },
          "metadata": {},
          "execution_count": 9
        }
      ]
    },
    {
      "cell_type": "code",
      "source": [
        "df.Usage.unique()"
      ],
      "metadata": {
        "colab": {
          "base_uri": "https://localhost:8080/"
        },
        "id": "3canFdlwkXSh",
        "outputId": "64bceca8-f505-49d2-eeb1-41e3462b93e2"
      },
      "execution_count": null,
      "outputs": [
        {
          "output_type": "execute_result",
          "data": {
            "text/plain": [
              "array(['Training', 'PublicTest', 'PrivateTest'], dtype=object)"
            ]
          },
          "metadata": {},
          "execution_count": 10
        }
      ]
    },
    {
      "cell_type": "code",
      "source": [
        "emotion_label_to_text = {0:'anger', 1:'disgust', 2:'fear', 3:'happiness', 4: 'sadness', 5: 'surprise', 6: 'neutral'}\n",
        "df.emotion.value_counts()"
      ],
      "metadata": {
        "colab": {
          "base_uri": "https://localhost:8080/"
        },
        "id": "euK7fbO0D7OE",
        "outputId": "af8fee77-ba0a-4eec-8f61-ec1da28e8d10"
      },
      "execution_count": null,
      "outputs": [
        {
          "output_type": "execute_result",
          "data": {
            "text/plain": [
              "3    8989\n",
              "6    6198\n",
              "4    6077\n",
              "2    5121\n",
              "0    4953\n",
              "5    4002\n",
              "1     547\n",
              "Name: emotion, dtype: int64"
            ]
          },
          "metadata": {},
          "execution_count": 11
        }
      ]
    },
    {
      "cell_type": "code",
      "source": [
        "img_array = df.pixels.apply(lambda x: np.array(x.split(' ')).reshape(48, 48).astype('float32'))\n",
        "img_array = np.stack(img_array, axis = 0)\n",
        "img_array.shape\n",
        "\n",
        "img_features = []\n",
        "\n",
        "for i in range(len(img_array)):\n",
        "    temp = cv2.cvtColor(img_array[i], cv2.COLOR_GRAY2RGB)\n",
        "    img_features.append(temp)\n",
        "\n",
        "img_features = np.array(img_features)\n",
        "print(img_features.shape)"
      ],
      "metadata": {
        "colab": {
          "base_uri": "https://localhost:8080/"
        },
        "id": "6PhfnnINEOkB",
        "outputId": "8ef539c2-2772-42f4-eba2-7abd7849aabe"
      },
      "execution_count": null,
      "outputs": [
        {
          "output_type": "stream",
          "name": "stdout",
          "text": [
            "(35887, 48, 48, 3)\n"
          ]
        }
      ]
    },
    {
      "cell_type": "code",
      "source": [
        "le = LabelEncoder()\n",
        "\n",
        "img_labels = le.fit_transform(df.emotion)\n",
        "img_labels = np_utils.to_categorical(img_labels)\n",
        "le_name_mapping = dict(zip(le.classes_, le.transform(le.classes_)))\n",
        "print(le_name_mapping)img_labels.shape"
      ],
      "metadata": {
        "colab": {
          "base_uri": "https://localhost:8080/"
        },
        "id": "X0QMXROCERQ8",
        "outputId": "1f34ac6b-5555-4cd4-8b15-1678c4f57c96"
      },
      "execution_count": null,
      "outputs": [
        {
          "output_type": "stream",
          "name": "stdout",
          "text": [
            "{0: 0, 1: 1, 2: 2, 3: 3, 4: 4, 5: 5, 6: 6}\n"
          ]
        },
        {
          "output_type": "execute_result",
          "data": {
            "text/plain": [
              "(35887, 7)"
            ]
          },
          "metadata": {},
          "execution_count": 12
        }
      ]
    },
    {
      "cell_type": "code",
      "source": [
        "X_train, X_valid, y_train, y_valid = train_test_split(img_features, \n",
        "                                                      img_labels, \n",
        "                                                      shuffle = True, \n",
        "                                                      stratify = img_labels, \n",
        "                                                      test_size = 0.1, \n",
        "                                                      random_state = 42)\n",
        "\n",
        "img_width = X_train.shape[1]\n",
        "img_height = X_train.shape[2]\n",
        "img_depth = X_train.shape[3]\n",
        "num_classes = y_train.shape[1]\n",
        "\n",
        "X_train.shape, X_valid.shape, y_train.shape, y_valid.shape"
      ],
      "metadata": {
        "colab": {
          "base_uri": "https://localhost:8080/"
        },
        "id": "HviVIlGREpir",
        "outputId": "6fef883d-f57e-493a-e8f0-9bac8a3d24ee"
      },
      "execution_count": null,
      "outputs": [
        {
          "output_type": "execute_result",
          "data": {
            "text/plain": [
              "((32298, 48, 48, 3), (3589, 48, 48, 3), (32298, 7), (3589, 7))"
            ]
          },
          "metadata": {},
          "execution_count": 13
        }
      ]
    },
    {
      "cell_type": "code",
      "source": [
        "import math\n",
        "import numpy as np\n",
        "import pandas as pd\n",
        "\n",
        "import cv2\n",
        "import seaborn as sns\n",
        "from matplotlib import pyplot\n",
        "\n",
        "from sklearn.model_selection import train_test_split\n",
        "from sklearn.preprocessing import LabelEncoder\n",
        "from sklearn.metrics import classification_report\n",
        "\n",
        "import tensorflow as tf\n",
        "from tensorflow.keras import optimizers\n",
        "from tensorflow.keras.models import Model\n",
        "from tensorflow.keras.layers import Flatten, Dense, Conv2D, GlobalAveragePooling2D\n",
        "from tensorflow.keras.layers import Dropout, BatchNormalization, Activation\n",
        "from tensorflow.keras.callbacks import Callback, EarlyStopping, ReduceLROnPlateau\n",
        "from tensorflow.keras.preprocessing.image import ImageDataGenerator\n",
        "\n",
        "from keras.utils import np_utils\n",
        "\n",
        "\n",
        "\n",
        "X_train = X_train / 255.\n",
        "X_valid = X_valid / 255.\n",
        "\n",
        "vgg = tf.keras.applications.VGG19(weights = 'imagenet',\n",
        "                                  include_top = False,\n",
        "                                  input_shape = (48, 48, 3))\n",
        "\n",
        "def build_model(bottom_model, classes):\n",
        "    model = bottom_model.layers[-2].output\n",
        "    model = GlobalAveragePooling2D()(model)\n",
        "    model = Dense(classes, activation = 'softmax', name = 'out_layer')(model)\n",
        "    \n",
        "    return model\n",
        "head = build_model(vgg, num_classes)\n",
        "\n",
        "model = Model(inputs = vgg.input, outputs = head)\n",
        "\n",
        "model.summary()"
      ],
      "metadata": {
        "id": "ZgKWW3UqEpbb",
        "colab": {
          "base_uri": "https://localhost:8080/"
        },
        "outputId": "c81aae77-ac61-4904-dfec-678a7cbda863"
      },
      "execution_count": null,
      "outputs": [
        {
          "output_type": "stream",
          "name": "stdout",
          "text": [
            "Downloading data from https://storage.googleapis.com/tensorflow/keras-applications/vgg19/vgg19_weights_tf_dim_ordering_tf_kernels_notop.h5\n",
            "80134624/80134624 [==============================] - 1s 0us/step\n",
            "Model: \"model\"\n",
            "_________________________________________________________________\n",
            " Layer (type)                Output Shape              Param #   \n",
            "=================================================================\n",
            " input_1 (InputLayer)        [(None, 48, 48, 3)]       0         \n",
            "                                                                 \n",
            " block1_conv1 (Conv2D)       (None, 48, 48, 64)        1792      \n",
            "                                                                 \n",
            " block1_conv2 (Conv2D)       (None, 48, 48, 64)        36928     \n",
            "                                                                 \n",
            " block1_pool (MaxPooling2D)  (None, 24, 24, 64)        0         \n",
            "                                                                 \n",
            " block2_conv1 (Conv2D)       (None, 24, 24, 128)       73856     \n",
            "                                                                 \n",
            " block2_conv2 (Conv2D)       (None, 24, 24, 128)       147584    \n",
            "                                                                 \n",
            " block2_pool (MaxPooling2D)  (None, 12, 12, 128)       0         \n",
            "                                                                 \n",
            " block3_conv1 (Conv2D)       (None, 12, 12, 256)       295168    \n",
            "                                                                 \n",
            " block3_conv2 (Conv2D)       (None, 12, 12, 256)       590080    \n",
            "                                                                 \n",
            " block3_conv3 (Conv2D)       (None, 12, 12, 256)       590080    \n",
            "                                                                 \n",
            " block3_conv4 (Conv2D)       (None, 12, 12, 256)       590080    \n",
            "                                                                 \n",
            " block3_pool (MaxPooling2D)  (None, 6, 6, 256)         0         \n",
            "                                                                 \n",
            " block4_conv1 (Conv2D)       (None, 6, 6, 512)         1180160   \n",
            "                                                                 \n",
            " block4_conv2 (Conv2D)       (None, 6, 6, 512)         2359808   \n",
            "                                                                 \n",
            " block4_conv3 (Conv2D)       (None, 6, 6, 512)         2359808   \n",
            "                                                                 \n",
            " block4_conv4 (Conv2D)       (None, 6, 6, 512)         2359808   \n",
            "                                                                 \n",
            " block4_pool (MaxPooling2D)  (None, 3, 3, 512)         0         \n",
            "                                                                 \n",
            " block5_conv1 (Conv2D)       (None, 3, 3, 512)         2359808   \n",
            "                                                                 \n",
            " block5_conv2 (Conv2D)       (None, 3, 3, 512)         2359808   \n",
            "                                                                 \n",
            " block5_conv3 (Conv2D)       (None, 3, 3, 512)         2359808   \n",
            "                                                                 \n",
            " block5_conv4 (Conv2D)       (None, 3, 3, 512)         2359808   \n",
            "                                                                 \n",
            " global_average_pooling2d (G  (None, 512)              0         \n",
            " lobalAveragePooling2D)                                          \n",
            "                                                                 \n",
            " out_layer (Dense)           (None, 7)                 3591      \n",
            "                                                                 \n",
            "=================================================================\n",
            "Total params: 20,027,975\n",
            "Trainable params: 20,027,975\n",
            "Non-trainable params: 0\n",
            "_________________________________________________________________\n"
          ]
        }
      ]
    },
    {
      "cell_type": "code",
      "source": [
        "early_stopping = EarlyStopping(monitor = 'val_accuracy', \n",
        "                               min_delta = 0.00005, \n",
        "                               patience = 11,\n",
        "                               verbose = 1, \n",
        "                               restore_best_weights = True,)\n",
        "\n",
        "lr_scheduler = ReduceLROnPlateau(monitor = 'val_accuracy', \n",
        "                                 factor = 0.5, \n",
        "                                 patience = 7,\n",
        "                                 min_lr = 1e-7,\n",
        "                                 verbose = 1,)\n",
        "\n",
        "callbacks = [early_stopping,lr_scheduler,]\n",
        "train_datagen = ImageDataGenerator(rotation_range = 15,\n",
        "                                   width_shift_range = 0.15,\n",
        "                                   height_shift_range = 0.15,\n",
        "                                   shear_range = 0.15,\n",
        "                                   zoom_range = 0.15,\n",
        "                                   horizontal_flip = True,)\n",
        "train_datagen.fit(X_train)\n",
        "# batch size of 32 performs the best.\n",
        "batch_size = 32 \n",
        "epochs = 25\n",
        "optims = [optimizers.Adam(learning_rate = 0.0001, beta_1 = 0.9, beta_2 = 0.999),]\n",
        "\n",
        "model.compile(loss = 'categorical_crossentropy',\n",
        "              optimizer = optims[0],\n",
        "              metrics = ['accuracy'])"
      ],
      "metadata": {
        "id": "w8NUj00LEotD"
      },
      "execution_count": null,
      "outputs": []
    },
    {
      "cell_type": "code",
      "source": [
        "history = model.fit(train_datagen.flow(X_train, \n",
        "                                       y_train, \n",
        "                                       batch_size = batch_size),\n",
        "                                       validation_data = (X_valid, y_valid),\n",
        "                                       steps_per_epoch = len(X_train) / batch_size,\n",
        "                                       epochs = epochs,\n",
        "                                       callbacks = callbacks,\n",
        "                                       use_multiprocessing = True)"
      ],
      "metadata": {
        "id": "CDwakq8SEiNZ",
        "colab": {
          "base_uri": "https://localhost:8080/"
        },
        "outputId": "61780641-5e3f-4214-8e13-68ef0abafaf7"
      },
      "execution_count": null,
      "outputs": [
        {
          "output_type": "stream",
          "name": "stdout",
          "text": [
            "Epoch 1/25\n",
            "1009/1009 [==============================] - 80s 61ms/step - loss: 1.5546 - accuracy: 0.3806 - val_loss: 1.2992 - val_accuracy: 0.5102 - lr: 1.0000e-04\n",
            "Epoch 2/25\n",
            "1009/1009 [==============================] - 62s 61ms/step - loss: 1.2815 - accuracy: 0.5093 - val_loss: 1.1846 - val_accuracy: 0.5536 - lr: 1.0000e-04\n",
            "Epoch 3/25\n",
            "1009/1009 [==============================] - 63s 62ms/step - loss: 1.1876 - accuracy: 0.5463 - val_loss: 1.1014 - val_accuracy: 0.5848 - lr: 1.0000e-04\n",
            "Epoch 4/25\n",
            "1009/1009 [==============================] - 62s 61ms/step - loss: 1.1254 - accuracy: 0.5739 - val_loss: 1.0630 - val_accuracy: 0.5899 - lr: 1.0000e-04\n",
            "Epoch 5/25\n",
            "1009/1009 [==============================] - 62s 61ms/step - loss: 1.0778 - accuracy: 0.5944 - val_loss: 1.0153 - val_accuracy: 0.6160 - lr: 1.0000e-04\n",
            "Epoch 6/25\n",
            "1009/1009 [==============================] - 71s 70ms/step - loss: 1.0387 - accuracy: 0.6120 - val_loss: 1.0332 - val_accuracy: 0.6247 - lr: 1.0000e-04\n",
            "Epoch 7/25\n",
            "1009/1009 [==============================] - 68s 67ms/step - loss: 1.0038 - accuracy: 0.6243 - val_loss: 0.9736 - val_accuracy: 0.6414 - lr: 1.0000e-04\n",
            "Epoch 8/25\n",
            "1009/1009 [==============================] - 64s 63ms/step - loss: 0.9726 - accuracy: 0.6349 - val_loss: 0.9953 - val_accuracy: 0.6317 - lr: 1.0000e-04\n",
            "Epoch 9/25\n",
            "1009/1009 [==============================] - 63s 62ms/step - loss: 0.9482 - accuracy: 0.6429 - val_loss: 0.9537 - val_accuracy: 0.6456 - lr: 1.0000e-04\n",
            "Epoch 10/25\n",
            "1009/1009 [==============================] - 63s 62ms/step - loss: 0.9209 - accuracy: 0.6544 - val_loss: 0.9688 - val_accuracy: 0.6500 - lr: 1.0000e-04\n",
            "Epoch 11/25\n",
            "1009/1009 [==============================] - 63s 62ms/step - loss: 0.9048 - accuracy: 0.6624 - val_loss: 0.9483 - val_accuracy: 0.6539 - lr: 1.0000e-04\n",
            "Epoch 12/25\n",
            "1009/1009 [==============================] - 62s 61ms/step - loss: 0.8806 - accuracy: 0.6724 - val_loss: 0.9446 - val_accuracy: 0.6570 - lr: 1.0000e-04\n",
            "Epoch 13/25\n",
            "1009/1009 [==============================] - 62s 61ms/step - loss: 0.8555 - accuracy: 0.6821 - val_loss: 0.9145 - val_accuracy: 0.6634 - lr: 1.0000e-04\n",
            "Epoch 14/25\n",
            "1009/1009 [==============================] - 62s 61ms/step - loss: 0.8421 - accuracy: 0.6869 - val_loss: 0.9425 - val_accuracy: 0.6654 - lr: 1.0000e-04\n",
            "Epoch 15/25\n",
            "1009/1009 [==============================] - 62s 61ms/step - loss: 0.8198 - accuracy: 0.6941 - val_loss: 0.9234 - val_accuracy: 0.6718 - lr: 1.0000e-04\n",
            "Epoch 16/25\n",
            "1009/1009 [==============================] - 62s 61ms/step - loss: 0.8057 - accuracy: 0.6998 - val_loss: 0.9353 - val_accuracy: 0.6701 - lr: 1.0000e-04\n",
            "Epoch 17/25\n",
            "1009/1009 [==============================] - 62s 61ms/step - loss: 0.7847 - accuracy: 0.7092 - val_loss: 0.9964 - val_accuracy: 0.6531 - lr: 1.0000e-04\n",
            "Epoch 18/25\n",
            "1009/1009 [==============================] - 62s 61ms/step - loss: 0.7653 - accuracy: 0.7134 - val_loss: 0.9154 - val_accuracy: 0.6693 - lr: 1.0000e-04\n",
            "Epoch 19/25\n",
            "1009/1009 [==============================] - 62s 61ms/step - loss: 0.7456 - accuracy: 0.7246 - val_loss: 0.8931 - val_accuracy: 0.6843 - lr: 1.0000e-04\n",
            "Epoch 20/25\n",
            "1009/1009 [==============================] - 64s 63ms/step - loss: 0.7325 - accuracy: 0.7274 - val_loss: 0.8911 - val_accuracy: 0.6868 - lr: 1.0000e-04\n",
            "Epoch 21/25\n",
            "1009/1009 [==============================] - 61s 60ms/step - loss: 0.7124 - accuracy: 0.7382 - val_loss: 0.8883 - val_accuracy: 0.6840 - lr: 1.0000e-04\n",
            "Epoch 22/25\n",
            "1009/1009 [==============================] - 61s 60ms/step - loss: 0.6936 - accuracy: 0.7423 - val_loss: 0.9086 - val_accuracy: 0.6751 - lr: 1.0000e-04\n",
            "Epoch 23/25\n",
            "1009/1009 [==============================] - 61s 60ms/step - loss: 0.6795 - accuracy: 0.7495 - val_loss: 0.9264 - val_accuracy: 0.6682 - lr: 1.0000e-04\n",
            "Epoch 24/25\n",
            "1009/1009 [==============================] - 61s 60ms/step - loss: 0.6665 - accuracy: 0.7578 - val_loss: 0.9253 - val_accuracy: 0.6860 - lr: 1.0000e-04\n",
            "Epoch 25/25\n",
            "1009/1009 [==============================] - 60s 59ms/step - loss: 0.6489 - accuracy: 0.7629 - val_loss: 0.9696 - val_accuracy: 0.6771 - lr: 1.0000e-04\n"
          ]
        }
      ]
    },
    {
      "cell_type": "code",
      "source": [
        "mapper = {\n",
        "    0: 'anger',\n",
        "    1: 'disgust',\n",
        "    2: 'fear',\n",
        "    3: 'happiness',\n",
        "    4: 'sadness',\n",
        "    5: 'surprise',\n",
        "    6: 'neutral'\n",
        "}\n",
        "\n",
        "model.load_weights(\"/content/drive/MyDrive/University/Violence_Detection/model.h5\")"
      ],
      "metadata": {
        "id": "3VfhbBF-F6sF"
      },
      "execution_count": null,
      "outputs": []
    },
    {
      "cell_type": "code",
      "source": [
        "model_yaml = model.to_json()\n",
        "with open(\"/content/drive/MyDrive/University/Violence_Detection/model.yaml\", \"w\") as yaml_file:\n",
        "    yaml_file.write(model_yaml)\n",
        "    \n",
        "model.save(\"/content/drive/MyDrive/University/Violence_Detection/model.h5\")"
      ],
      "metadata": {
        "id": "YC46W_heFs0Q"
      },
      "execution_count": null,
      "outputs": []
    },
    {
      "cell_type": "code",
      "source": [
        "category = 'NonViolence'\n",
        "path = f'/content/data/{category}/'\n",
        "for id, file_p in enumerate(os.listdir(path)):\n",
        "  video_file = path + file_p\n",
        "  cap = cv2.VideoCapture(video_file)\n",
        "  print('The Code is Running On Video: ', id)\n",
        "  while(cap.isOpened()):\n",
        "      flag, frame = cap.read()\n",
        "      if flag == False:\n",
        "          break\n",
        "      image=cv2.cvtColor(frame, cv2.COLOR_BGR2GRAY)\n",
        "      face_cascade = cv2.CascadeClassifier('/content/haarcascade_frontalface_default.xml')\n",
        "      faces = face_cascade.detectMultiScale(image, 1.3, 5)\n",
        "      for (x, y, w, h) in faces:\n",
        "          face_section = image[y:y+h, x:x+w]\n",
        "          face_section = cv2.resize(face_section, (48, 48))\n",
        "          face_section = cv2.cvtColor(face_section, cv2.COLOR_GRAY2RGB)\n",
        "          pred = mapper[np.argmax(model.predict(face_section.reshape(1,48,48,3))[0])]\n",
        "          with open(f\"/content/drive/MyDrive/University/Violence_Detection/{category}.txt\", 'a+') as f:\n",
        "            f.write(pred+',')\n",
        "  \n",
        "  cap.release()"
      ],
      "metadata": {
        "id": "GtxCugp-Fswr"
      },
      "execution_count": null,
      "outputs": []
    },
    {
      "cell_type": "markdown",
      "source": [
        "#Test Part"
      ],
      "metadata": {
        "id": "0Vgr4Q0LTkZz"
      }
    },
    {
      "cell_type": "code",
      "source": [
        "def get_emotions(path):\n",
        "  with open(path, 'r') as f:\n",
        "    data = f.read()  \n",
        "  data = data.replace('anger', 'Angry')\n",
        "  data = data.replace('disgust', 'Angry')\n",
        "  data = data.replace('fear', 'Fear')\n",
        "  data = data.replace('happiness', 'Happy')\n",
        "  data = data.replace('sadness', 'Sad')\n",
        "  data = data.replace('surprise', 'Surprise')\n",
        "  data = data.replace('neutral', 'Happy')\n",
        "  data = data.split(',')\n",
        "  data.remove('')\n",
        "  return np.array(data)"
      ],
      "metadata": {
        "id": "7Xka91-zT9nJ"
      },
      "execution_count": null,
      "outputs": []
    },
    {
      "cell_type": "code",
      "source": [
        "path = '/content/drive/MyDrive/University/Violence_Detection/NonViolence.txt'\n",
        "get_emotions(path)"
      ],
      "metadata": {
        "id": "3F-YTMzmUeB5"
      },
      "execution_count": null,
      "outputs": []
    },
    {
      "cell_type": "code",
      "source": [
        "with open('/content/drive/MyDrive/University/Violence_Detection/NonViolence.txt', 'r') as f:\n",
        "  data = f.read()"
      ],
      "metadata": {
        "id": "UWmKn9Z9VOWo"
      },
      "execution_count": null,
      "outputs": []
    },
    {
      "cell_type": "code",
      "source": [
        "data = data.replace('anger', 'Angry')\n",
        "data = data.replace('disgust', 'Angry')\n",
        "data = data.replace('fear', 'Fear')\n",
        "data = data.replace('happiness', 'Happy')\n",
        "data = data.replace('sadness', 'Sad')\n",
        "data = data.replace('surprise', 'Surprise')\n",
        "data = data.replace('neutral', 'Happy')\n",
        "\n",
        "\n",
        "# data = data.replace('anger', 'Angry').replace('disgust', 'Angry').replace('fear', 'Fear').replace('happiness', 'Happy').replace('sadness', 'Sad').replace('surprise', 'Surprise').replace('neutral', 'Happy')"
      ],
      "metadata": {
        "id": "lsH5pyZBXRuL"
      },
      "execution_count": null,
      "outputs": []
    },
    {
      "cell_type": "code",
      "source": [
        "data = data.split(',')\n",
        "data.remove('')\n",
        "data = np.array(data)\n",
        "np.unique(data), len(data)"
      ],
      "metadata": {
        "colab": {
          "base_uri": "https://localhost:8080/"
        },
        "id": "tZGafRfXVTjS",
        "outputId": "4ce10abd-c413-4fbf-9da2-d85a7b341325"
      },
      "execution_count": null,
      "outputs": [
        {
          "output_type": "execute_result",
          "data": {
            "text/plain": [
              "(array(['Angry', 'Fear', 'Happy', 'Sad', 'Surprise'], dtype='<U8'), 20891)"
            ]
          },
          "metadata": {},
          "execution_count": 5
        }
      ]
    },
    {
      "cell_type": "code",
      "source": [
        "def transition_matrix(transitions):\n",
        "    n = 1+ max(transitions) #number of states\n",
        "\n",
        "    M = [[0]*n for _ in range(n)]\n",
        "\n",
        "    for (i,j) in zip(transitions,transitions[1:]):\n",
        "        M[i][j] += 1\n",
        "\n",
        "    #now convert to probabilities:\n",
        "    for row in M:\n",
        "        s = sum(row)\n",
        "        if s > 0:\n",
        "            row[:] = [f/s for f in row]\n",
        "    return M    "
      ],
      "metadata": {
        "id": "2FMLBB9HVxYg"
      },
      "execution_count": null,
      "outputs": []
    },
    {
      "cell_type": "code",
      "source": [
        "Category_names = {0: 'Happy', \n",
        "            1: 'Angry',\n",
        "            2: 'Surprise', \n",
        "            3: 'Sad',\n",
        "            4: 'Fear'}\n",
        "\n",
        "Category = {'Happy':0, 'Angry':1 , 'Surprise':2, 'Sad':3, 'Fear': 4}\n",
        "\n",
        "T = [Category[c] for c in data]\n",
        "\n",
        "transition_mt = transition_matrix(T)\n",
        "\n",
        "print('         ', end='')\n",
        "print(' '.join('{0}'.format(x) for x in Category.keys()))\n",
        "i=0\n",
        "for row in transition_mt:\n",
        "   print((list(Category.keys())[i]).rjust(8, ' '), end=' ')\n",
        "   print('  '.join('{0:.2f}'.format(x) for x in row))\n",
        "   i += 1\n"
      ],
      "metadata": {
        "id": "o76tbuRzV9aC",
        "colab": {
          "base_uri": "https://localhost:8080/"
        },
        "outputId": "e0be3377-bb52-4035-e9d4-6f8ff4a2cd6f"
      },
      "execution_count": null,
      "outputs": [
        {
          "output_type": "stream",
          "name": "stdout",
          "text": [
            "         Happy Angry Surprise Sad Fear\n",
            "   Happy 0.82  0.03  0.11  0.04  0.01\n",
            "   Angry 0.28  0.49  0.18  0.03  0.02\n",
            "Surprise 0.29  0.05  0.63  0.02  0.00\n",
            "     Sad 0.42  0.03  0.07  0.47  0.01\n",
            "    Fear 0.46  0.08  0.13  0.13  0.20\n"
          ]
        }
      ]
    },
    {
      "cell_type": "code",
      "source": [
        "start_state=0\n",
        "pre_state = start_state\n",
        "print(Category_names[start_state], '--->', end=' ')\n",
        "\n",
        "for i in range(10):\n",
        "  current_state = np.random.choice(list(Category.values()), p=transition_mt[pre_state])\n",
        "  print(Category_names[current_state], '--->', end=' ')\n",
        "  pre_state = current_state\n",
        "print('End')"
      ],
      "metadata": {
        "id": "XfasT5XEWDiS",
        "colab": {
          "base_uri": "https://localhost:8080/"
        },
        "outputId": "715a368d-8f65-4516-f317-daa09606bb2a"
      },
      "execution_count": null,
      "outputs": [
        {
          "output_type": "stream",
          "name": "stdout",
          "text": [
            "Happy ---> Sad ---> Sad ---> Happy ---> Happy ---> Happy ---> Happy ---> Happy ---> Happy ---> Happy ---> Surprise ---> End\n"
          ]
        }
      ]
    },
    {
      "cell_type": "code",
      "source": [
        "def find_prob(seq, A, pi):\n",
        "    start_state = seq[0]\n",
        "    prob = pi[start_state]\n",
        "    prev_state, curr_state = start_state, start_state\n",
        "    for i in range(1, len(seq)):\n",
        "        curr_state = seq[i]\n",
        "        prob *= A[prev_state][curr_state]\n",
        "        prev_state = curr_state\n",
        "    return prob\n",
        "\n",
        "import scipy.linalg\n",
        "values, left = scipy.linalg.eig(transition_mt, right = False, left = True)\n",
        "pi = left[:,0]\n",
        "pi_normalized = [(x/np.sum(pi)).real for x in pi]\n",
        "\n",
        "\n",
        "print(find_prob([1, 2, 2, 0], transition_mt, pi_normalized))"
      ],
      "metadata": {
        "colab": {
          "base_uri": "https://localhost:8080/"
        },
        "id": "B8TAYPIJjQLn",
        "outputId": "0c7290fc-8527-4aae-857f-4e319c8021fe"
      },
      "execution_count": null,
      "outputs": [
        {
          "output_type": "stream",
          "name": "stdout",
          "text": [
            "0.002238818793396924\n"
          ]
        }
      ]
    },
    {
      "cell_type": "code",
      "source": [],
      "metadata": {
        "id": "62P2Qsnun8_I"
      },
      "execution_count": null,
      "outputs": []
    }
  ]
}